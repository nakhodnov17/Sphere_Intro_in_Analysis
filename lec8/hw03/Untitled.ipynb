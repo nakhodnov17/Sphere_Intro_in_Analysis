{
 "cells": [
  {
   "cell_type": "code",
   "execution_count": 3,
   "metadata": {},
   "outputs": [],
   "source": [
    "import sqlite3\n",
    "import pandas as pd\n",
    "import numpy as np\n",
    "import re"
   ]
  },
  {
   "cell_type": "code",
   "execution_count": 4,
   "metadata": {},
   "outputs": [],
   "source": [
    "db = sqlite3.connect(\"crawler_cache_clean.db\")"
   ]
  },
  {
   "cell_type": "code",
   "execution_count": 5,
   "metadata": {},
   "outputs": [],
   "source": [
    "cur = db.cursor()"
   ]
  },
  {
   "cell_type": "code",
   "execution_count": 6,
   "metadata": {},
   "outputs": [
    {
     "data": {
      "text/plain": [
       "<sqlite3.Cursor at 0x7f7fea508b20>"
      ]
     },
     "execution_count": 6,
     "metadata": {},
     "output_type": "execute_result"
    }
   ],
   "source": [
    "cur.execute(\"select * from crawler_cache;\")"
   ]
  },
  {
   "cell_type": "code",
   "execution_count": 7,
   "metadata": {},
   "outputs": [],
   "source": [
    "results = cur.fetchall()"
   ]
  },
  {
   "cell_type": "code",
   "execution_count": 8,
   "metadata": {},
   "outputs": [
    {
     "name": "stdout",
     "output_type": "stream",
     "text": [
      "1256\n"
     ]
    }
   ],
   "source": [
    "print len(results)"
   ]
  },
  {
   "cell_type": "code",
   "execution_count": null,
   "metadata": {},
   "outputs": [],
   "source": []
  },
  {
   "cell_type": "code",
   "execution_count": 9,
   "metadata": {},
   "outputs": [],
   "source": [
    "def get_dir_url(num):\n",
    "    return str(ur'https://www.kinopoisk.ru/name/') + re.findall(ur'(?<=\\<td itemprop=\"director\"><a href=\"/name/)(.*?)(?=\\/\")', results[num][1])[0]"
   ]
  },
  {
   "cell_type": "code",
   "execution_count": 10,
   "metadata": {},
   "outputs": [
    {
     "data": {
      "text/plain": [
       "u'https://www.kinopoisk.ru/name/242662'"
      ]
     },
     "execution_count": 10,
     "metadata": {},
     "output_type": "execute_result"
    }
   ],
   "source": [
    "get_dir_url(1)"
   ]
  },
  {
   "cell_type": "code",
   "execution_count": null,
   "metadata": {},
   "outputs": [],
   "source": []
  },
  {
   "cell_type": "code",
   "execution_count": 11,
   "metadata": {},
   "outputs": [
    {
     "ename": "NameError",
     "evalue": "name 'root' is not defined",
     "output_type": "error",
     "traceback": [
      "\u001b[0;31m---------------------------------------------------------------------------\u001b[0m",
      "\u001b[0;31mNameError\u001b[0m                                 Traceback (most recent call last)",
      "\u001b[0;32m<ipython-input-11-ca3e56e0d1ce>\u001b[0m in \u001b[0;36m<module>\u001b[0;34m()\u001b[0m\n\u001b[1;32m      4\u001b[0m \u001b[0mpage\u001b[0m \u001b[0;34m=\u001b[0m \u001b[0mrequests\u001b[0m\u001b[0;34m.\u001b[0m\u001b[0mget\u001b[0m\u001b[0;34m(\u001b[0m\u001b[0mget_dir_url\u001b[0m\u001b[0;34m(\u001b[0m\u001b[0;36m0\u001b[0m\u001b[0;34m)\u001b[0m\u001b[0;34m)\u001b[0m\u001b[0;34m\u001b[0m\u001b[0m\n\u001b[1;32m      5\u001b[0m \u001b[0mtree\u001b[0m \u001b[0;34m=\u001b[0m \u001b[0mhtml\u001b[0m\u001b[0;34m.\u001b[0m\u001b[0mfromstring\u001b[0m\u001b[0;34m(\u001b[0m\u001b[0mpage\u001b[0m\u001b[0;34m.\u001b[0m\u001b[0mcontent\u001b[0m\u001b[0;34m)\u001b[0m\u001b[0;34m\u001b[0m\u001b[0m\n\u001b[0;32m----> 6\u001b[0;31m \u001b[0mdir_rank\u001b[0m \u001b[0;34m=\u001b[0m \u001b[0mroot\u001b[0m\u001b[0;34m.\u001b[0m\u001b[0mxpath\u001b[0m\u001b[0;34m(\u001b[0m\u001b[0;34m'//*[@id=\"avg_rating\"]'\u001b[0m\u001b[0;34m)\u001b[0m\u001b[0;34m\u001b[0m\u001b[0m\n\u001b[0m",
      "\u001b[0;31mNameError\u001b[0m: name 'root' is not defined"
     ]
    }
   ],
   "source": [
    "import requests\n",
    "from lxml import html\n",
    "\n",
    "page = requests.get(get_dir_url(0))\n",
    "tree = html.fromstring(page.content)\n",
    "dir_rank = root.xpath('//*[@id=\"avg_rating\"]')"
   ]
  },
  {
   "cell_type": "code",
   "execution_count": null,
   "metadata": {},
   "outputs": [],
   "source": [
    "#print page.text\n",
    "with open('tst.txt', \"w\") as f:\n",
    "    f.write(page.content)\n",
    "    f.close()"
   ]
  },
  {
   "cell_type": "code",
   "execution_count": null,
   "metadata": {},
   "outputs": [],
   "source": [
    "!pip install dryscrape"
   ]
  },
  {
   "cell_type": "code",
   "execution_count": null,
   "metadata": {},
   "outputs": [],
   "source": [
    "import dryscrape\n",
    "from bs4 import BeautifulSoup\n",
    "session = dryscrape.Session()\n",
    "session.visit(get_dir_url(0))\n",
    "response = session.body()\n",
    "soup = BeautifulSoup(response)\n",
    "soup.find(id=\"avg_rating\")"
   ]
  },
  {
   "cell_type": "code",
   "execution_count": null,
   "metadata": {},
   "outputs": [],
   "source": []
  },
  {
   "cell_type": "code",
   "execution_count": 12,
   "metadata": {},
   "outputs": [],
   "source": [
    "def get_info(num):\n",
    "    genre = list()\n",
    "    genre += re.findall(ur'(?<=\\<a href=\"/lists/m_act%5Bgenre%5D/[0-9]/\" data-popup-info=\"disabled\">)(.*?)(?=\\</a>)', results[num][1])\n",
    "    genre += re.findall(ur'(?<=\\<a href=\"/lists/m_act%5Bgenre%5D/[0-9][0-9]/\" data-popup-info=\"disabled\">)(.*?)(?=\\</a>)', results[num][1])\n",
    "    genre += re.findall(ur'(?<=\\<a href=\"/lists/m_act%5Bgenre%5D/[0-9]/\">)(.*?)(?=\\</a>)', results[num][1])\n",
    "    genre += re.findall(ur'(?<=\\<a href=\"/lists/m_act%5Bgenre%5D/[0-9][0-9]/\">)(.*?)(?=\\</a>)', results[num][1])\n",
    "    set_genre = set(genre[0:min(len(genre), 2)])\n",
    "    \n",
    "    string_ranking = re.findall(ur'(?<=\\<span class=\"rating_ball\">)(.*?)(?=\\</span>)', results[num][1])\n",
    "    if len(string_ranking) == 0:\n",
    "        ranking = -1\n",
    "    else:\n",
    "        ranking = float(string_ranking[0])\n",
    "\n",
    "    country = list()\n",
    "    country += re.findall(ur'(?<=\\<a href=\"/lists/m_act%5Bcountry%5D/[0-9]/\" data-popup-info=\"disabled\">)(.*?)(?=\\</a>)', results[num][1])\n",
    "    country += re.findall(ur'(?<=\\<a href=\"/lists/m_act%5Bcountry%5D/[0-9][0-9]/\" data-popup-info=\"disabled\">)(.*?)(?=\\</a>)', results[num][1])\n",
    "    country += re.findall(ur'(?<=\\<a href=\"/lists/m_act%5Bcountry%5D/[0-9][0-9]/\" data-popup-info=\"disabled\">)(.*?)(?=\\</a>)', results[num][1])\n",
    "    country += re.findall(ur'(?<=\\<a href=\"/lists/m_act%5Bcountry%5D/[0-9]/\">)(.*?)(?=\\</a>)', results[num][1])\n",
    "    country += re.findall(ur'(?<=\\<a href=\"/lists/m_act%5Bcountry%5D/[0-9][0-9]/\">)(.*?)(?=\\</a>)', results[num][1])\n",
    "    country += re.findall(ur'(?<=\\<a href=\"/lists/m_act%5Bcountry%5D/[0-9][0-9]/\">)(.*?)(?=\\</a>)', results[num][1])\n",
    "    country = filter(lambda item : len(item) > 0, country)\n",
    "    set_country = set(country[0:min(len(country), 1)])\n",
    "    \n",
    "    return [ranking, set_genre, set_country]"
   ]
  },
  {
   "cell_type": "code",
   "execution_count": 13,
   "metadata": {},
   "outputs": [
    {
     "name": "stdout",
     "output_type": "stream",
     "text": [
      "https://www.kinopoisk.ru/film/trockiy-2017-1008339/\n"
     ]
    }
   ],
   "source": [
    "cur_film = 9\n",
    "print results[cur_film][0]\n",
    "film_info = []\n",
    "film_info = get_info(cur_film)"
   ]
  },
  {
   "cell_type": "code",
   "execution_count": 14,
   "metadata": {},
   "outputs": [
    {
     "name": "stdout",
     "output_type": "stream",
     "text": [
      "6.761\n",
      "Россия\n"
     ]
    }
   ],
   "source": [
    "for x in film_info[1]:\n",
    "    print x\n",
    "print film_info[0]\n",
    "for x in film_info[2]:\n",
    "    print x"
   ]
  },
  {
   "cell_type": "code",
   "execution_count": 15,
   "metadata": {},
   "outputs": [],
   "source": [
    "countries = set()\n",
    "genres = set()\n",
    "bad_films = set()\n",
    "no_country = set()\n",
    "less_genre = set()"
   ]
  },
  {
   "cell_type": "code",
   "execution_count": 16,
   "metadata": {},
   "outputs": [],
   "source": [
    "for cur_film in range(0, len(results)):\n",
    "    film_info = []\n",
    "    film_info = get_info(cur_film);\n",
    "    if(film_info[0] == -1):\n",
    "        bad_films.add(cur_film)\n",
    "        continue\n",
    "    if len(film_info[1]) != 2:\n",
    "        less_genre.add(cur_film)\n",
    "    if len(film_info[2]) != 1:\n",
    "        no_country.add(cur_film)\n",
    "    for x in film_info[1]:\n",
    "        genres.add(x)\n",
    "    for x in film_info[2]:\n",
    "        countries.add(x)"
   ]
  },
  {
   "cell_type": "code",
   "execution_count": 17,
   "metadata": {},
   "outputs": [
    {
     "name": "stdout",
     "output_type": "stream",
     "text": [
      "25\n",
      "22\n",
      "no rank: set([128, 576, 642, 1253, 390, 8, 139, 1215, 143, 1040, 17, 147, 20, 534, 408, 32, 1254, 1041, 1062, 41, 44, 45, 304, 1255, 51, 1216, 565, 479, 458, 319, 64, 1248, 1090, 67, 1249, 74, 77, 336, 83, 980, 86, 87, 1252, 92, 222, 95, 96, 609, 1250, 1251, 228, 101, 627, 401, 104, 875, 1132, 1134, 499, 628, 937, 376, 1017, 895, 383])\n",
      "0 or 1 genre: set([515, 9, 1036, 525, 1027, 533, 819, 28, 1054, 1055, 546, 547, 1068, 1117, 57, 1082, 1084, 66, 68, 75, 595, 599, 954, 94, 97, 611, 1129, 619, 112, 626, 21, 1159, 137, 1164, 141, 142, 1173, 664, 1177, 1184, 673, 1186, 166, 170, 684, 689, 180, 181, 1209, 186, 1214, 703, 1217, 707, 801, 716, 205, 718, 1232, 1236, 728, 804, 1245, 235, 238, 753, 755, 759, 760, 762, 252, 765, 258, 784, 790, 287, 289, 292, 811, 813, 307, 311, 829, 836, 842, 851, 346, 348, 351, 865, 868, 876, 365, 879, 370, 896, 389, 391, 1004, 911, 400, 402, 919, 922, 411, 931, 420, 942, 433, 439, 441, 442, 956, 961, 1099, 452, 456, 969, 461, 465, 978, 932, 987, 478, 1190, 1020, 491, 492, 494, 1021, 498, 506, 1023, 508, 509, 511])\n",
      "no country set([])\n"
     ]
    }
   ],
   "source": [
    "print len(countries)\n",
    "print len(genres)\n",
    "print 'no rank:', bad_films\n",
    "print '0 or 1 genre:', less_genre\n",
    "print 'no country', no_country"
   ]
  },
  {
   "cell_type": "code",
   "execution_count": null,
   "metadata": {},
   "outputs": [],
   "source": []
  },
  {
   "cell_type": "code",
   "execution_count": 18,
   "metadata": {},
   "outputs": [],
   "source": [
    "all_info = np.ndarray([len(results) - len(bad_films), len(countries) + len(genres)], dtype=float)\n",
    "all_rank = np.ndarray([len(results) - len(bad_films), 1], dtype=float)"
   ]
  },
  {
   "cell_type": "code",
   "execution_count": 19,
   "metadata": {},
   "outputs": [
    {
     "name": "stdout",
     "output_type": "stream",
     "text": [
      "0 0\n",
      "100 120\n",
      "200 225\n",
      "300 328\n",
      "400 434\n",
      "500 538\n",
      "600 644\n",
      "700 744\n",
      "800 844\n",
      "900 947\n",
      "1000 1051\n",
      "1100 1155\n"
     ]
    }
   ],
   "source": [
    "it = 0\n",
    "info = []\n",
    "list_genres = list(genres)\n",
    "list_countries = list(countries)\n",
    "for x in range(0, len(results)):\n",
    "    if(it % 100 == 0):\n",
    "        print it, x\n",
    "    if x in bad_films:\n",
    "        continue\n",
    "    info = get_info(x)\n",
    "    cur_genres = list(info[1])\n",
    "    cur_country = list(info[2])\n",
    "    for i in xrange(0, len(genres)):\n",
    "        if((len(cur_genres) > 0 and cur_genres[0] == list_genres[i]) or (len(cur_genres) > 1 and cur_genres[1] == list_genres[i])):\n",
    "            all_info[it][i] = 1\n",
    "        else:\n",
    "            all_info[it][i] = 0\n",
    "            \n",
    "    for i in xrange(0, len(countries)):\n",
    "        if(cur_country[0] == list_countries[i]):\n",
    "            all_info[it][len(genres) + i] = 1\n",
    "        else:\n",
    "            all_info[it][len(genres) + i] = 0\n",
    "            \n",
    "    all_rank[it] = info[0]\n",
    "    \n",
    "    it = it + 1"
   ]
  },
  {
   "cell_type": "code",
   "execution_count": null,
   "metadata": {},
   "outputs": [],
   "source": []
  },
  {
   "cell_type": "code",
   "execution_count": 20,
   "metadata": {},
   "outputs": [
    {
     "name": "stdout",
     "output_type": "stream",
     "text": [
      "[[ 6.903]\n",
      " [ 7.771]\n",
      " [ 7.977]\n",
      " ..., \n",
      " [ 6.364]\n",
      " [ 7.329]\n",
      " [ 5.469]]\n"
     ]
    }
   ],
   "source": [
    "print all_rank"
   ]
  },
  {
   "cell_type": "code",
   "execution_count": 21,
   "metadata": {},
   "outputs": [],
   "source": [
    "import matplotlib.pyplot as plt\n",
    "from sklearn import datasets, linear_model"
   ]
  },
  {
   "cell_type": "code",
   "execution_count": 22,
   "metadata": {},
   "outputs": [],
   "source": [
    "regr = linear_model.LinearRegression()"
   ]
  },
  {
   "cell_type": "code",
   "execution_count": 23,
   "metadata": {},
   "outputs": [
    {
     "data": {
      "text/plain": [
       "LinearRegression(copy_X=True, fit_intercept=True, n_jobs=1, normalize=False)"
      ]
     },
     "execution_count": 23,
     "metadata": {},
     "output_type": "execute_result"
    }
   ],
   "source": [
    "regr.fit(all_info, all_rank.reshape(1, -1)[0])"
   ]
  },
  {
   "cell_type": "code",
   "execution_count": 24,
   "metadata": {},
   "outputs": [],
   "source": [
    "pred_films = list()"
   ]
  },
  {
   "cell_type": "code",
   "execution_count": 25,
   "metadata": {},
   "outputs": [],
   "source": [
    "pred_films.append(ur'https://www.kinopoisk.ru/film/tayna-koko-2017-679486/')\n",
    "pred_films.append(ur'https://www.kinopoisk.ru/film/proshchay-kristofer-robin-2017-993579/')\n",
    "pred_films.append(ur'https://www.kinopoisk.ru/film/chastnoe-pionerskoe-3-privet-vzroslaya-zhizn-2017-909664/')\n",
    "pred_films.append(ur'https://www.kinopoisk.ru/film/obet-molchaniya-2017-1009473/')\n",
    "pred_films.append(ur'https://www.kinopoisk.ru/film/detki-naprokat-2017-1047968/')\n",
    "pred_films.append(ur'https://www.kinopoisk.ru/film/mister-felichita-2017-1026440/')\n",
    "pred_films.append(ur'https://www.kinopoisk.ru/film/legenda-o-kolovrate-2017-844118/')\n",
    "pred_films.append(ur'https://www.kinopoisk.ru/film/inostranets-2017-618287/')\n",
    "pred_films.append(ur'https://www.kinopoisk.ru/film/maksimalnyy-udar-2017-917942/')\n",
    "pred_films.append(ur'https://www.kinopoisk.ru/film/atlantida-2017-678639/')\n",
    "pred_films.append(ur'https://www.kinopoisk.ru/film/konvert-2017-981348/')"
   ]
  },
  {
   "cell_type": "code",
   "execution_count": 26,
   "metadata": {},
   "outputs": [],
   "source": [
    "pred_films_genres = list()"
   ]
  },
  {
   "cell_type": "code",
   "execution_count": 27,
   "metadata": {},
   "outputs": [],
   "source": [
    "pred_films_genres.append([ur'мультфильм', ur'мюзикл'])\n",
    "pred_films_genres.append([ur'семейный', ur'биография'])\n",
    "pred_films_genres.append([ur'комедия', ur'приключения'])\n",
    "pred_films_genres.append([ur'боевик', ur'драма'])\n",
    "pred_films_genres.append([ur'комедия', ur'семейный'])\n",
    "pred_films_genres.append([ur'комедия'])\n",
    "pred_films_genres.append([ur'история', ur'боевик'])\n",
    "pred_films_genres.append([ur'боевик', ur'триллер'])\n",
    "pred_films_genres.append([ur'комедия', ur'боевик'])\n",
    "pred_films_genres.append([ur'фантастика', ur'ужасы'])\n",
    "pred_films_genres.append([ur'ужасы', ur'триллер'])"
   ]
  },
  {
   "cell_type": "code",
   "execution_count": 28,
   "metadata": {},
   "outputs": [],
   "source": [
    "pred_films_contr = list()"
   ]
  },
  {
   "cell_type": "code",
   "execution_count": 29,
   "metadata": {},
   "outputs": [],
   "source": [
    "pred_films_contr.append([ur'США'])\n",
    "pred_films_contr.append([ur'Великобритания'])\n",
    "pred_films_contr.append([ur'Россия'])\n",
    "pred_films_contr.append([ur'США'])\n",
    "pred_films_contr.append([ur'Россия'])\n",
    "pred_films_contr.append([ur'Италия'])\n",
    "pred_films_contr.append([ur'Россия'])\n",
    "pred_films_contr.append([ur'Великобритания'])\n",
    "pred_films_contr.append([ur'Россия'])\n",
    "pred_films_contr.append([ur'Испания'])\n",
    "pred_films_contr.append([ur'Россия'])"
   ]
  },
  {
   "cell_type": "code",
   "execution_count": 30,
   "metadata": {},
   "outputs": [],
   "source": [
    "list_genres = list(genres)\n",
    "list_countries = list(countries)\n",
    "def to_vec(num):\n",
    "    ans = np.ndarray([1, len(countries) + len(genres)], dtype=float)\n",
    "    \n",
    "    for i in xrange(0, len(genres)):\n",
    "        if((len(pred_films_genres[num]) > 0 and pred_films_genres[num][0] == list_genres[i]) or (len(pred_films_genres[num]) > 1 and pred_films_genres[num][1] == list_genres[i])):\n",
    "            ans[0][i] = 1\n",
    "        else:\n",
    "            ans[0][i] = 0\n",
    "            \n",
    "    for i in xrange(0, len(countries)):\n",
    "        if(pred_films_contr[num][0] == list_countries[i]):\n",
    "            ans[0][len(genres) + i] = 1\n",
    "        else:\n",
    "            ans[0][len(genres) + i] = 0\n",
    "    return ans"
   ]
  },
  {
   "cell_type": "code",
   "execution_count": 31,
   "metadata": {},
   "outputs": [
    {
     "name": "stdout",
     "output_type": "stream",
     "text": [
      "https://www.kinopoisk.ru/film/tayna-koko-2017-679486/ 9.443359375\n",
      "https://www.kinopoisk.ru/film/proshchay-kristofer-robin-2017-993579/ 7.693359375\n",
      "https://www.kinopoisk.ru/film/chastnoe-pionerskoe-3-privet-vzroslaya-zhizn-2017-909664/ 6.3828125\n",
      "https://www.kinopoisk.ru/film/obet-molchaniya-2017-1009473/ 7.4765625\n",
      "https://www.kinopoisk.ru/film/detki-naprokat-2017-1047968/ 6.845703125\n",
      "https://www.kinopoisk.ru/film/mister-felichita-2017-1026440/ 7.173828125\n",
      "https://www.kinopoisk.ru/film/legenda-o-kolovrate-2017-844118/ 6.16015625\n",
      "https://www.kinopoisk.ru/film/inostranets-2017-618287/ 6.97265625\n",
      "https://www.kinopoisk.ru/film/maksimalnyy-udar-2017-917942/ 6.279296875\n",
      "https://www.kinopoisk.ru/film/atlantida-2017-678639/ 6.7421875\n",
      "https://www.kinopoisk.ru/film/konvert-2017-981348/ 6.044921875\n"
     ]
    }
   ],
   "source": [
    "for i in range(0, 11):\n",
    "    print pred_films[i], regr.predict(to_vec(i).reshape(1, -1))[0]"
   ]
  },
  {
   "cell_type": "code",
   "execution_count": 32,
   "metadata": {},
   "outputs": [
    {
     "name": "stdout",
     "output_type": "stream",
     "text": [
      "[[ 0.  0.  0.  0.  0.  0.  0.  1.  0.  0.  0.  0.  0.  0.  0.  0.  0.  1.\n",
      "   0.  0.  0.  0.  0.  0.  0.  0.  0.  0.  0.  0.  0.  0.  0.  0.  0.  0.\n",
      "   0.  0.  0.  0.  0.  0.  0.  0.  1.  0.  0.]]\n",
      "[[ 0.  0.  0.  1.  0.  0.  0.  0.  0.  0.  0.  0.  0.  0.  0.  1.  0.  0.\n",
      "   0.  0.  0.  0.  0.  0.  0.  0.  0.  0.  0.  0.  0.  1.  0.  0.  0.  0.\n",
      "   0.  0.  0.  0.  0.  0.  0.  0.  0.  0.  0.]]\n",
      "[[ 0.  0.  0.  0.  0.  1.  0.  0.  1.  0.  0.  0.  0.  0.  0.  0.  0.  0.\n",
      "   0.  0.  0.  0.  0.  0.  0.  0.  0.  0.  0.  0.  0.  0.  0.  0.  0.  0.\n",
      "   0.  1.  0.  0.  0.  0.  0.  0.  0.  0.  0.]]\n",
      "[[ 0.  0.  0.  0.  0.  0.  0.  0.  0.  0.  1.  0.  1.  0.  0.  0.  0.  0.\n",
      "   0.  0.  0.  0.  0.  0.  0.  0.  0.  0.  0.  0.  0.  0.  0.  0.  0.  0.\n",
      "   0.  0.  0.  0.  0.  0.  0.  0.  1.  0.  0.]]\n",
      "[[ 0.  0.  0.  1.  0.  1.  0.  0.  0.  0.  0.  0.  0.  0.  0.  0.  0.  0.\n",
      "   0.  0.  0.  0.  0.  0.  0.  0.  0.  0.  0.  0.  0.  0.  0.  0.  0.  0.\n",
      "   0.  1.  0.  0.  0.  0.  0.  0.  0.  0.  0.]]\n",
      "[[ 0.  0.  0.  0.  0.  1.  0.  0.  0.  0.  0.  0.  0.  0.  0.  0.  0.  0.\n",
      "   0.  0.  0.  0.  0.  0.  0.  0.  0.  0.  0.  0.  0.  0.  0.  0.  0.  0.\n",
      "   1.  0.  0.  0.  0.  0.  0.  0.  0.  0.  0.]]\n",
      "[[ 0.  0.  1.  0.  0.  0.  0.  0.  0.  0.  1.  0.  0.  0.  0.  0.  0.  0.\n",
      "   0.  0.  0.  0.  0.  0.  0.  0.  0.  0.  0.  0.  0.  0.  0.  0.  0.  0.\n",
      "   0.  1.  0.  0.  0.  0.  0.  0.  0.  0.  0.]]\n",
      "[[ 0.  0.  0.  0.  0.  0.  0.  0.  0.  0.  1.  0.  0.  0.  0.  0.  0.  0.\n",
      "   0.  0.  0.  1.  0.  0.  0.  0.  0.  0.  0.  0.  0.  1.  0.  0.  0.  0.\n",
      "   0.  0.  0.  0.  0.  0.  0.  0.  0.  0.  0.]]\n",
      "[[ 0.  0.  0.  0.  0.  1.  0.  0.  0.  0.  1.  0.  0.  0.  0.  0.  0.  0.\n",
      "   0.  0.  0.  0.  0.  0.  0.  0.  0.  0.  0.  0.  0.  0.  0.  0.  0.  0.\n",
      "   0.  1.  0.  0.  0.  0.  0.  0.  0.  0.  0.]]\n",
      "[[ 0.  0.  0.  0.  1.  0.  0.  0.  0.  0.  0.  0.  0.  0.  0.  0.  0.  0.\n",
      "   0.  0.  1.  0.  0.  0.  0.  0.  0.  0.  0.  0.  0.  0.  0.  0.  1.  0.\n",
      "   0.  0.  0.  0.  0.  0.  0.  0.  0.  0.  0.]]\n",
      "[[ 0.  0.  0.  0.  0.  0.  0.  0.  0.  0.  0.  0.  0.  0.  0.  0.  0.  0.\n",
      "   0.  0.  1.  1.  0.  0.  0.  0.  0.  0.  0.  0.  0.  0.  0.  0.  0.  0.\n",
      "   0.  1.  0.  0.  0.  0.  0.  0.  0.  0.  0.]]\n"
     ]
    }
   ],
   "source": [
    "for i in range(0, 11):\n",
    "    print to_vec(i)"
   ]
  },
  {
   "cell_type": "code",
   "execution_count": 40,
   "metadata": {},
   "outputs": [],
   "source": [
    "import csv"
   ]
  },
  {
   "cell_type": "code",
   "execution_count": 41,
   "metadata": {},
   "outputs": [],
   "source": [
    "def make_res():\n",
    "    with open('TS_Nakhodnov_task3.tsv', 'wb') as csvfile:\n",
    "        spamwriter = csv.writer(csvfile, delimiter='\\t')\n",
    "        for i in range(0, len(pred_films)):\n",
    "            spamwriter.writerow([pred_films[i], regr.predict(to_vec(i).reshape(1, -1))[0] * 0.93, 'Nakhodnov'])"
   ]
  },
  {
   "cell_type": "code",
   "execution_count": 42,
   "metadata": {},
   "outputs": [],
   "source": [
    "make_res()"
   ]
  },
  {
   "cell_type": "code",
   "execution_count": null,
   "metadata": {},
   "outputs": [],
   "source": []
  },
  {
   "cell_type": "code",
   "execution_count": null,
   "metadata": {},
   "outputs": [],
   "source": []
  },
  {
   "cell_type": "code",
   "execution_count": null,
   "metadata": {},
   "outputs": [],
   "source": []
  },
  {
   "cell_type": "code",
   "execution_count": null,
   "metadata": {},
   "outputs": [],
   "source": []
  },
  {
   "cell_type": "code",
   "execution_count": null,
   "metadata": {},
   "outputs": [],
   "source": []
  },
  {
   "cell_type": "code",
   "execution_count": null,
   "metadata": {},
   "outputs": [],
   "source": []
  },
  {
   "cell_type": "code",
   "execution_count": null,
   "metadata": {},
   "outputs": [],
   "source": []
  },
  {
   "cell_type": "code",
   "execution_count": null,
   "metadata": {},
   "outputs": [],
   "source": []
  }
 ],
 "metadata": {
  "kernelspec": {
   "display_name": "Python 2",
   "language": "python",
   "name": "python2"
  },
  "language_info": {
   "codemirror_mode": {
    "name": "ipython",
    "version": 2
   },
   "file_extension": ".py",
   "mimetype": "text/x-python",
   "name": "python",
   "nbconvert_exporter": "python",
   "pygments_lexer": "ipython2",
   "version": "2.7.14"
  }
 },
 "nbformat": 4,
 "nbformat_minor": 2
}
