{
 "cells": [
  {
   "cell_type": "code",
   "execution_count": 1,
   "metadata": {},
   "outputs": [],
   "source": [
    "import requests\n",
    "import grab\n",
    "import json\n",
    "import logging\n",
    "import codecs\n",
    "from lxml.etree import ElementTree, fromstring\n",
    "from bs4 import BeautifulSoup\n",
    "from tqdm import tqdm\n",
    "from multiprocessing.dummy import Pool as ThreadPool\n",
    "from IPython.display import HTML"
   ]
  },
  {
   "cell_type": "markdown",
   "metadata": {},
   "source": [
    "### Get All Movie Links"
   ]
  },
  {
   "cell_type": "code",
   "execution_count": 112,
   "metadata": {},
   "outputs": [
    {
     "name": "stdout",
     "output_type": "stream",
     "text": [
      "Total movie urls: 277\n",
      "Examples: \n",
      "/film/starshiy-syn-1975-43982/\n",
      "/film/oficery-1971-42736/\n",
      "/film/piraty-karibskogo-morya-proklyatie-chernoy-zhemchuzhiny-2003-4374/\n",
      "/film/igra-1997-12198/\n",
      "/film/romeo-i-dzhuletta-1968-15204/\n"
     ]
    },
    {
     "name": "stderr",
     "output_type": "stream",
     "text": [
      "/usr/local/lib/python2.7/dist-packages/ipykernel_launcher.py:17: GrabDeprecationWarning: Call to deprecated function xpath_list. Use grab.doc.select() instead.\n"
     ]
    }
   ],
   "source": [
    "url = 'https://www.kinopoisk.ru/top/'\n",
    "headers = {\n",
    "    'User-Agent': 'Mozilla/5.0 (Macintosh; Intel Mac OS X 10_12_5) AppleWebKit/537.36 (KHTML, like Gecko)' + \n",
    "                  'Chrome/61.0.3163.100 Safari/537.36',\n",
    "}\n",
    "g = grab.Grab(headers=headers)\n",
    "\n",
    "MOVIE_URLS = set()\n",
    "x_path_table = 'html'\n",
    "\n",
    "\n",
    "#for x in [1,2,3,4,5]:\n",
    "try:\n",
    "    #g.go(url % x)\n",
    "    g.go(url)\n",
    "    #print g.xpath_list('//a/@href')\n",
    "    MOVIE_URLS.update([x for x in g.xpath_list('//a/@href') if x.startswith('/film/') and x.count('/')==3])\n",
    "except Exception as e:\n",
    "    logging.error(str(e))\n",
    "    #logging.error('Error on %s' % x)\n",
    "\n",
    "MOVIE_URLS = list(MOVIE_URLS)\n",
    "#print MOVIE_URLS[0]\n",
    "print 'Total movie urls: %d' % len(MOVIE_URLS)\n",
    "print 'Examples: \\n%s' % '\\n'.join(MOVIE_URLS[:5])"
   ]
  },
  {
   "cell_type": "code",
   "execution_count": 113,
   "metadata": {},
   "outputs": [],
   "source": [
    "from collections import defaultdict"
   ]
  },
  {
   "cell_type": "code",
   "execution_count": null,
   "metadata": {},
   "outputs": [],
   "source": [
    "%%time\n",
    "TOTAL_REVIEWS = 0\n",
    "dt = defaultdict(str)\n",
    "with codecs.open('./data.csv', mode='w', encoding='utf-8') as f_out:\n",
    "    for x in tqdm(MOVIE_URLS[:3]):\n",
    "        name = x.split('/')[2]\n",
    "        print x\n",
    "        try:\n",
    "            i = 1\n",
    "            while True:\n",
    "                print 'https://www.kinopoisk.ru%s' % x \n",
    "                g.go('https://www.kinopoisk.ru%s' % x, timeout=30)\n",
    "                #reviews = g.xpath_list('//*/ul/li[1]/a')\n",
    "                reviews = g.xpath_list('//*/ul/li[@itemprop=\"actors\"]/a/text()[1]')\n",
    "                for t in reviews:\n",
    "                    print t\n",
    "                    dt[t] += 1\n",
    "        except Exception as e:\n",
    "            logging.error('Error on %s: %s' % (name, str(e)))\n",
    "#print 'Total reviews: %d' % TOTAL_REVIEWS\n",
    "lst = sorted(dt.items(), key=lambda k_v: k_v[1], reverse=True)\n",
    "for i in range(10):\n",
    "    print lst[i]"
   ]
  },
  {
   "cell_type": "markdown",
   "metadata": {},
   "source": [
    "### Too slow..."
   ]
  },
  {
   "cell_type": "code",
   "execution_count": null,
   "metadata": {},
   "outputs": [],
   "source": []
  }
 ],
 "metadata": {
  "kernelspec": {
   "display_name": "Python 2",
   "language": "python",
   "name": "python2"
  },
  "language_info": {
   "codemirror_mode": {
    "name": "ipython",
    "version": 2
   },
   "file_extension": ".py",
   "mimetype": "text/x-python",
   "name": "python",
   "nbconvert_exporter": "python",
   "pygments_lexer": "ipython2",
   "version": "2.7.14"
  }
 },
 "nbformat": 4,
 "nbformat_minor": 2
}
