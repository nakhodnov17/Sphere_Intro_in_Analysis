{
 "cells": [
  {
   "cell_type": "code",
   "execution_count": 1,
   "metadata": {},
   "outputs": [],
   "source": [
    "import requests\n",
    "import grab\n",
    "import json\n",
    "import logging\n",
    "import codecs\n",
    "from lxml.etree import ElementTree, fromstring\n",
    "from bs4 import BeautifulSoup\n",
    "from tqdm import tqdm\n",
    "from multiprocessing.dummy import Pool as ThreadPool\n",
    "from IPython.display import HTML"
   ]
  },
  {
   "cell_type": "markdown",
   "metadata": {},
   "source": [
    "### Get All Movie Links"
   ]
  },
  {
   "cell_type": "code",
   "execution_count": 2,
   "metadata": {},
   "outputs": [
    {
     "name": "stdout",
     "output_type": "stream",
     "text": [
      "Total movie urls: 277\n",
      "Examples: \n",
      "/film/starshiy-syn-1975-43982/\n",
      "/film/oficery-1971-42736/\n",
      "/film/piraty-karibskogo-morya-proklyatie-chernoy-zhemchuzhiny-2003-4374/\n",
      "/film/igra-1997-12198/\n",
      "/film/romeo-i-dzhuletta-1968-15204/\n"
     ]
    },
    {
     "name": "stderr",
     "output_type": "stream",
     "text": [
      "/usr/local/lib/python2.7/dist-packages/ipykernel_launcher.py:17: GrabDeprecationWarning: Call to deprecated function xpath_list. Use grab.doc.select() instead.\n"
     ]
    }
   ],
   "source": [
    "url = 'https://www.kinopoisk.ru/top/'\n",
    "headers = {\n",
    "    'User-Agent': 'Mozilla/5.0 (Macintosh; Intel Mac OS X 10_12_5) AppleWebKit/537.36 (KHTML, like Gecko)' + \n",
    "                  'Chrome/61.0.3163.100 Safari/537.36',\n",
    "}\n",
    "g = grab.Grab(headers=headers)\n",
    "\n",
    "MOVIE_URLS = set()\n",
    "x_path_table = 'html'\n",
    "\n",
    "\n",
    "#for x in [1,2,3,4,5]:\n",
    "try:\n",
    "    #g.go(url % x)\n",
    "    g.go(url)\n",
    "    #print g.xpath_list('//a/@href')\n",
    "    MOVIE_URLS.update([x for x in g.xpath_list('//a/@href') if x.startswith('/film/') and x.count('/')==3])\n",
    "except Exception as e:\n",
    "    logging.error(str(e))\n",
    "    #logging.error('Error on %s' % x)\n",
    "\n",
    "MOVIE_URLS = list(MOVIE_URLS)\n",
    "#print MOVIE_URLS[0]\n",
    "print 'Total movie urls: %d' % len(MOVIE_URLS)\n",
    "print 'Examples: \\n%s' % '\\n'.join(MOVIE_URLS[:5])"
   ]
  },
  {
   "cell_type": "code",
   "execution_count": 3,
   "metadata": {},
   "outputs": [],
   "source": [
    "from collections import defaultdict"
   ]
  },
  {
   "cell_type": "code",
   "execution_count": 4,
   "metadata": {},
   "outputs": [
    {
     "name": "stderr",
     "output_type": "stream",
     "text": [
      "  0%|          | 0/50 [00:00<?, ?it/s]/usr/local/lib/python2.7/dist-packages/ipykernel_launcher.py:13: GrabDeprecationWarning: Call to deprecated function xpath_list. Use grab.doc.select() instead.\n",
      "  del sys.path[0]\n"
     ]
    },
    {
     "name": "stdout",
     "output_type": "stream",
     "text": [
      "/film/starshiy-syn-1975-43982/\n",
      "https://www.kinopoisk.ru/film/starshiy-syn-1975-43982/\n",
      "https://www.kinopoisk.ru/film/starshiy-syn-1975-43982/\n",
      "https://www.kinopoisk.ru/film/starshiy-syn-1975-43982/\n",
      "https://www.kinopoisk.ru/film/starshiy-syn-1975-43982/\n",
      "https://www.kinopoisk.ru/film/starshiy-syn-1975-43982/\n",
      "https://www.kinopoisk.ru/film/starshiy-syn-1975-43982/\n",
      "https://www.kinopoisk.ru/film/starshiy-syn-1975-43982/\n",
      "https://www.kinopoisk.ru/film/starshiy-syn-1975-43982/\n",
      "https://www.kinopoisk.ru/film/starshiy-syn-1975-43982/\n",
      "https://www.kinopoisk.ru/film/starshiy-syn-1975-43982/\n",
      "https://www.kinopoisk.ru/film/starshiy-syn-1975-43982/\n",
      "https://www.kinopoisk.ru/film/starshiy-syn-1975-43982/\n",
      "https://www.kinopoisk.ru/film/starshiy-syn-1975-43982/\n",
      "https://www.kinopoisk.ru/film/starshiy-syn-1975-43982/\n",
      "https://www.kinopoisk.ru/film/starshiy-syn-1975-43982/\n",
      "https://www.kinopoisk.ru/film/starshiy-syn-1975-43982/\n",
      "https://www.kinopoisk.ru/film/starshiy-syn-1975-43982/\n",
      "https://www.kinopoisk.ru/film/starshiy-syn-1975-43982/\n",
      "https://www.kinopoisk.ru/film/starshiy-syn-1975-43982/\n",
      "https://www.kinopoisk.ru/film/starshiy-syn-1975-43982/\n",
      "https://www.kinopoisk.ru/film/starshiy-syn-1975-43982/\n",
      "https://www.kinopoisk.ru/film/starshiy-syn-1975-43982/\n",
      "https://www.kinopoisk.ru/film/starshiy-syn-1975-43982/\n",
      "https://www.kinopoisk.ru/film/starshiy-syn-1975-43982/\n",
      "https://www.kinopoisk.ru/film/starshiy-syn-1975-43982/\n",
      "https://www.kinopoisk.ru/film/starshiy-syn-1975-43982/\n",
      "https://www.kinopoisk.ru/film/starshiy-syn-1975-43982/\n",
      "https://www.kinopoisk.ru/film/starshiy-syn-1975-43982/\n",
      "https://www.kinopoisk.ru/film/starshiy-syn-1975-43982/\n",
      "https://www.kinopoisk.ru/film/starshiy-syn-1975-43982/\n",
      "https://www.kinopoisk.ru/film/starshiy-syn-1975-43982/\n",
      "https://www.kinopoisk.ru/film/starshiy-syn-1975-43982/\n",
      "https://www.kinopoisk.ru/film/starshiy-syn-1975-43982/\n",
      "https://www.kinopoisk.ru/film/starshiy-syn-1975-43982/\n",
      "https://www.kinopoisk.ru/film/starshiy-syn-1975-43982/\n",
      "https://www.kinopoisk.ru/film/starshiy-syn-1975-43982/\n",
      "https://www.kinopoisk.ru/film/starshiy-syn-1975-43982/\n",
      "https://www.kinopoisk.ru/film/starshiy-syn-1975-43982/\n",
      "https://www.kinopoisk.ru/film/starshiy-syn-1975-43982/\n",
      "https://www.kinopoisk.ru/film/starshiy-syn-1975-43982/\n",
      "https://www.kinopoisk.ru/film/starshiy-syn-1975-43982/\n",
      "https://www.kinopoisk.ru/film/starshiy-syn-1975-43982/\n",
      "https://www.kinopoisk.ru/film/starshiy-syn-1975-43982/\n",
      "https://www.kinopoisk.ru/film/starshiy-syn-1975-43982/\n",
      "https://www.kinopoisk.ru/film/starshiy-syn-1975-43982/\n",
      "https://www.kinopoisk.ru/film/starshiy-syn-1975-43982/\n",
      "https://www.kinopoisk.ru/film/starshiy-syn-1975-43982/\n",
      "https://www.kinopoisk.ru/film/starshiy-syn-1975-43982/\n",
      "https://www.kinopoisk.ru/film/starshiy-syn-1975-43982/\n",
      "https://www.kinopoisk.ru/film/starshiy-syn-1975-43982/\n",
      "https://www.kinopoisk.ru/film/starshiy-syn-1975-43982/\n",
      "https://www.kinopoisk.ru/film/starshiy-syn-1975-43982/\n",
      "https://www.kinopoisk.ru/film/starshiy-syn-1975-43982/\n",
      "https://www.kinopoisk.ru/film/starshiy-syn-1975-43982/\n",
      "https://www.kinopoisk.ru/film/starshiy-syn-1975-43982/\n",
      "https://www.kinopoisk.ru/film/starshiy-syn-1975-43982/\n",
      "https://www.kinopoisk.ru/film/starshiy-syn-1975-43982/\n",
      "https://www.kinopoisk.ru/film/starshiy-syn-1975-43982/\n",
      "https://www.kinopoisk.ru/film/starshiy-syn-1975-43982/\n",
      "https://www.kinopoisk.ru/film/starshiy-syn-1975-43982/\n",
      "https://www.kinopoisk.ru/film/starshiy-syn-1975-43982/\n",
      "https://www.kinopoisk.ru/film/starshiy-syn-1975-43982/\n",
      "https://www.kinopoisk.ru/film/starshiy-syn-1975-43982/\n",
      "https://www.kinopoisk.ru/film/starshiy-syn-1975-43982/\n",
      "https://www.kinopoisk.ru/film/starshiy-syn-1975-43982/\n",
      "https://www.kinopoisk.ru/film/starshiy-syn-1975-43982/\n",
      "https://www.kinopoisk.ru/film/starshiy-syn-1975-43982/\n",
      "https://www.kinopoisk.ru/film/starshiy-syn-1975-43982/\n",
      "https://www.kinopoisk.ru/film/starshiy-syn-1975-43982/\n",
      "https://www.kinopoisk.ru/film/starshiy-syn-1975-43982/\n",
      "https://www.kinopoisk.ru/film/starshiy-syn-1975-43982/\n",
      "https://www.kinopoisk.ru/film/starshiy-syn-1975-43982/\n",
      "https://www.kinopoisk.ru/film/starshiy-syn-1975-43982/\n",
      "https://www.kinopoisk.ru/film/starshiy-syn-1975-43982/\n",
      "https://www.kinopoisk.ru/film/starshiy-syn-1975-43982/\n",
      "https://www.kinopoisk.ru/film/starshiy-syn-1975-43982/\n",
      "https://www.kinopoisk.ru/film/starshiy-syn-1975-43982/\n",
      "https://www.kinopoisk.ru/film/starshiy-syn-1975-43982/\n",
      "https://www.kinopoisk.ru/film/starshiy-syn-1975-43982/\n",
      "https://www.kinopoisk.ru/film/starshiy-syn-1975-43982/\n",
      "https://www.kinopoisk.ru/film/starshiy-syn-1975-43982/\n",
      "https://www.kinopoisk.ru/film/starshiy-syn-1975-43982/\n",
      "https://www.kinopoisk.ru/film/starshiy-syn-1975-43982/\n",
      "https://www.kinopoisk.ru/film/starshiy-syn-1975-43982/\n",
      "https://www.kinopoisk.ru/film/starshiy-syn-1975-43982/\n",
      "https://www.kinopoisk.ru/film/starshiy-syn-1975-43982/\n",
      "https://www.kinopoisk.ru/film/starshiy-syn-1975-43982/\n",
      "https://www.kinopoisk.ru/film/starshiy-syn-1975-43982/\n",
      "https://www.kinopoisk.ru/film/starshiy-syn-1975-43982/\n",
      "https://www.kinopoisk.ru/film/starshiy-syn-1975-43982/\n",
      "https://www.kinopoisk.ru/film/starshiy-syn-1975-43982/\n",
      "https://www.kinopoisk.ru/film/starshiy-syn-1975-43982/\n",
      "https://www.kinopoisk.ru/film/starshiy-syn-1975-43982/\n",
      "https://www.kinopoisk.ru/film/starshiy-syn-1975-43982/\n",
      "https://www.kinopoisk.ru/film/starshiy-syn-1975-43982/\n",
      "https://www.kinopoisk.ru/film/starshiy-syn-1975-43982/\n",
      "https://www.kinopoisk.ru/film/starshiy-syn-1975-43982/\n",
      "https://www.kinopoisk.ru/film/starshiy-syn-1975-43982/\n",
      "https://www.kinopoisk.ru/film/starshiy-syn-1975-43982/\n",
      "https://www.kinopoisk.ru/film/starshiy-syn-1975-43982/\n",
      "https://www.kinopoisk.ru/film/starshiy-syn-1975-43982/\n",
      "https://www.kinopoisk.ru/film/starshiy-syn-1975-43982/\n",
      "https://www.kinopoisk.ru/film/starshiy-syn-1975-43982/\n",
      "https://www.kinopoisk.ru/film/starshiy-syn-1975-43982/\n",
      "https://www.kinopoisk.ru/film/starshiy-syn-1975-43982/\n",
      "https://www.kinopoisk.ru/film/starshiy-syn-1975-43982/\n",
      "https://www.kinopoisk.ru/film/starshiy-syn-1975-43982/\n",
      "https://www.kinopoisk.ru/film/starshiy-syn-1975-43982/\n",
      "https://www.kinopoisk.ru/film/starshiy-syn-1975-43982/\n",
      "https://www.kinopoisk.ru/film/starshiy-syn-1975-43982/\n",
      "https://www.kinopoisk.ru/film/starshiy-syn-1975-43982/\n",
      "https://www.kinopoisk.ru/film/starshiy-syn-1975-43982/\n",
      "https://www.kinopoisk.ru/film/starshiy-syn-1975-43982/\n",
      "https://www.kinopoisk.ru/film/starshiy-syn-1975-43982/\n",
      "https://www.kinopoisk.ru/film/starshiy-syn-1975-43982/\n",
      "https://www.kinopoisk.ru/film/starshiy-syn-1975-43982/\n",
      "https://www.kinopoisk.ru/film/starshiy-syn-1975-43982/\n",
      "https://www.kinopoisk.ru/film/starshiy-syn-1975-43982/\n",
      "https://www.kinopoisk.ru/film/starshiy-syn-1975-43982/\n",
      "https://www.kinopoisk.ru/film/starshiy-syn-1975-43982/\n",
      "https://www.kinopoisk.ru/film/starshiy-syn-1975-43982/\n",
      "https://www.kinopoisk.ru/film/starshiy-syn-1975-43982/\n",
      "https://www.kinopoisk.ru/film/starshiy-syn-1975-43982/\n",
      "https://www.kinopoisk.ru/film/starshiy-syn-1975-43982/\n",
      "https://www.kinopoisk.ru/film/starshiy-syn-1975-43982/\n",
      "https://www.kinopoisk.ru/film/starshiy-syn-1975-43982/\n",
      "https://www.kinopoisk.ru/film/starshiy-syn-1975-43982/\n",
      "https://www.kinopoisk.ru/film/starshiy-syn-1975-43982/\n",
      "https://www.kinopoisk.ru/film/starshiy-syn-1975-43982/\n",
      "https://www.kinopoisk.ru/film/starshiy-syn-1975-43982/\n",
      "https://www.kinopoisk.ru/film/starshiy-syn-1975-43982/\n",
      "https://www.kinopoisk.ru/film/starshiy-syn-1975-43982/\n",
      "https://www.kinopoisk.ru/film/starshiy-syn-1975-43982/\n",
      "https://www.kinopoisk.ru/film/starshiy-syn-1975-43982/\n",
      "https://www.kinopoisk.ru/film/starshiy-syn-1975-43982/\n",
      "https://www.kinopoisk.ru/film/starshiy-syn-1975-43982/\n",
      "https://www.kinopoisk.ru/film/starshiy-syn-1975-43982/\n",
      "https://www.kinopoisk.ru/film/starshiy-syn-1975-43982/\n",
      "https://www.kinopoisk.ru/film/starshiy-syn-1975-43982/\n",
      "https://www.kinopoisk.ru/film/starshiy-syn-1975-43982/\n",
      "https://www.kinopoisk.ru/film/starshiy-syn-1975-43982/\n",
      "https://www.kinopoisk.ru/film/starshiy-syn-1975-43982/\n",
      "https://www.kinopoisk.ru/film/starshiy-syn-1975-43982/\n",
      "https://www.kinopoisk.ru/film/starshiy-syn-1975-43982/\n",
      "https://www.kinopoisk.ru/film/starshiy-syn-1975-43982/\n",
      "https://www.kinopoisk.ru/film/starshiy-syn-1975-43982/\n",
      "https://www.kinopoisk.ru/film/starshiy-syn-1975-43982/\n",
      "https://www.kinopoisk.ru/film/starshiy-syn-1975-43982/\n",
      "https://www.kinopoisk.ru/film/starshiy-syn-1975-43982/\n"
     ]
    },
    {
     "name": "stdout",
     "output_type": "stream",
     "text": [
      "https://www.kinopoisk.ru/film/starshiy-syn-1975-43982/\n",
      "https://www.kinopoisk.ru/film/starshiy-syn-1975-43982/\n",
      "https://www.kinopoisk.ru/film/starshiy-syn-1975-43982/\n",
      "https://www.kinopoisk.ru/film/starshiy-syn-1975-43982/\n",
      "https://www.kinopoisk.ru/film/starshiy-syn-1975-43982/\n",
      "https://www.kinopoisk.ru/film/starshiy-syn-1975-43982/\n",
      "https://www.kinopoisk.ru/film/starshiy-syn-1975-43982/\n",
      "https://www.kinopoisk.ru/film/starshiy-syn-1975-43982/\n",
      "https://www.kinopoisk.ru/film/starshiy-syn-1975-43982/\n",
      "https://www.kinopoisk.ru/film/starshiy-syn-1975-43982/\n",
      "https://www.kinopoisk.ru/film/starshiy-syn-1975-43982/\n",
      "https://www.kinopoisk.ru/film/starshiy-syn-1975-43982/\n",
      "https://www.kinopoisk.ru/film/starshiy-syn-1975-43982/\n",
      "https://www.kinopoisk.ru/film/starshiy-syn-1975-43982/\n",
      "https://www.kinopoisk.ru/film/starshiy-syn-1975-43982/\n",
      "https://www.kinopoisk.ru/film/starshiy-syn-1975-43982/\n",
      "https://www.kinopoisk.ru/film/starshiy-syn-1975-43982/\n",
      "https://www.kinopoisk.ru/film/starshiy-syn-1975-43982/\n",
      "https://www.kinopoisk.ru/film/starshiy-syn-1975-43982/\n",
      "https://www.kinopoisk.ru/film/starshiy-syn-1975-43982/\n",
      "https://www.kinopoisk.ru/film/starshiy-syn-1975-43982/\n",
      "https://www.kinopoisk.ru/film/starshiy-syn-1975-43982/\n",
      "https://www.kinopoisk.ru/film/starshiy-syn-1975-43982/\n",
      "https://www.kinopoisk.ru/film/starshiy-syn-1975-43982/\n",
      "https://www.kinopoisk.ru/film/starshiy-syn-1975-43982/\n",
      "https://www.kinopoisk.ru/film/starshiy-syn-1975-43982/\n",
      "https://www.kinopoisk.ru/film/starshiy-syn-1975-43982/\n",
      "https://www.kinopoisk.ru/film/starshiy-syn-1975-43982/\n",
      "https://www.kinopoisk.ru/film/starshiy-syn-1975-43982/\n",
      "https://www.kinopoisk.ru/film/starshiy-syn-1975-43982/\n",
      "https://www.kinopoisk.ru/film/starshiy-syn-1975-43982/\n",
      "https://www.kinopoisk.ru/film/starshiy-syn-1975-43982/\n",
      "https://www.kinopoisk.ru/film/starshiy-syn-1975-43982/\n",
      "https://www.kinopoisk.ru/film/starshiy-syn-1975-43982/\n",
      "https://www.kinopoisk.ru/film/starshiy-syn-1975-43982/\n",
      "https://www.kinopoisk.ru/film/starshiy-syn-1975-43982/\n",
      "https://www.kinopoisk.ru/film/starshiy-syn-1975-43982/\n",
      "https://www.kinopoisk.ru/film/starshiy-syn-1975-43982/\n",
      "https://www.kinopoisk.ru/film/starshiy-syn-1975-43982/\n",
      "https://www.kinopoisk.ru/film/starshiy-syn-1975-43982/\n",
      "https://www.kinopoisk.ru/film/starshiy-syn-1975-43982/\n",
      "https://www.kinopoisk.ru/film/starshiy-syn-1975-43982/\n",
      "https://www.kinopoisk.ru/film/starshiy-syn-1975-43982/\n",
      "https://www.kinopoisk.ru/film/starshiy-syn-1975-43982/\n",
      "https://www.kinopoisk.ru/film/starshiy-syn-1975-43982/\n",
      "https://www.kinopoisk.ru/film/starshiy-syn-1975-43982/\n",
      "https://www.kinopoisk.ru/film/starshiy-syn-1975-43982/\n",
      "https://www.kinopoisk.ru/film/starshiy-syn-1975-43982/\n",
      "https://www.kinopoisk.ru/film/starshiy-syn-1975-43982/\n",
      "https://www.kinopoisk.ru/film/starshiy-syn-1975-43982/\n",
      "https://www.kinopoisk.ru/film/starshiy-syn-1975-43982/\n",
      "https://www.kinopoisk.ru/film/starshiy-syn-1975-43982/\n",
      "https://www.kinopoisk.ru/film/starshiy-syn-1975-43982/\n",
      "https://www.kinopoisk.ru/film/starshiy-syn-1975-43982/\n",
      "https://www.kinopoisk.ru/film/starshiy-syn-1975-43982/\n",
      "https://www.kinopoisk.ru/film/starshiy-syn-1975-43982/\n",
      "https://www.kinopoisk.ru/film/starshiy-syn-1975-43982/\n",
      "https://www.kinopoisk.ru/film/starshiy-syn-1975-43982/\n",
      "https://www.kinopoisk.ru/film/starshiy-syn-1975-43982/\n",
      "https://www.kinopoisk.ru/film/starshiy-syn-1975-43982/\n",
      "https://www.kinopoisk.ru/film/starshiy-syn-1975-43982/\n",
      "https://www.kinopoisk.ru/film/starshiy-syn-1975-43982/\n",
      "https://www.kinopoisk.ru/film/starshiy-syn-1975-43982/\n",
      "https://www.kinopoisk.ru/film/starshiy-syn-1975-43982/\n",
      "https://www.kinopoisk.ru/film/starshiy-syn-1975-43982/\n",
      "https://www.kinopoisk.ru/film/starshiy-syn-1975-43982/\n",
      "https://www.kinopoisk.ru/film/starshiy-syn-1975-43982/\n",
      "https://www.kinopoisk.ru/film/starshiy-syn-1975-43982/\n",
      "https://www.kinopoisk.ru/film/starshiy-syn-1975-43982/\n",
      "https://www.kinopoisk.ru/film/starshiy-syn-1975-43982/\n",
      "https://www.kinopoisk.ru/film/starshiy-syn-1975-43982/\n",
      "https://www.kinopoisk.ru/film/starshiy-syn-1975-43982/\n",
      "https://www.kinopoisk.ru/film/starshiy-syn-1975-43982/\n",
      "https://www.kinopoisk.ru/film/starshiy-syn-1975-43982/\n",
      "https://www.kinopoisk.ru/film/starshiy-syn-1975-43982/\n",
      "https://www.kinopoisk.ru/film/starshiy-syn-1975-43982/\n",
      "https://www.kinopoisk.ru/film/starshiy-syn-1975-43982/\n",
      "https://www.kinopoisk.ru/film/starshiy-syn-1975-43982/\n",
      "https://www.kinopoisk.ru/film/starshiy-syn-1975-43982/\n",
      "https://www.kinopoisk.ru/film/starshiy-syn-1975-43982/\n",
      "https://www.kinopoisk.ru/film/starshiy-syn-1975-43982/\n",
      "https://www.kinopoisk.ru/film/starshiy-syn-1975-43982/\n",
      "https://www.kinopoisk.ru/film/starshiy-syn-1975-43982/\n",
      "https://www.kinopoisk.ru/film/starshiy-syn-1975-43982/\n",
      "https://www.kinopoisk.ru/film/starshiy-syn-1975-43982/\n",
      "https://www.kinopoisk.ru/film/starshiy-syn-1975-43982/\n",
      "https://www.kinopoisk.ru/film/starshiy-syn-1975-43982/\n",
      "https://www.kinopoisk.ru/film/starshiy-syn-1975-43982/\n",
      "https://www.kinopoisk.ru/film/starshiy-syn-1975-43982/\n",
      "https://www.kinopoisk.ru/film/starshiy-syn-1975-43982/\n",
      "https://www.kinopoisk.ru/film/starshiy-syn-1975-43982/\n",
      "https://www.kinopoisk.ru/film/starshiy-syn-1975-43982/\n",
      "https://www.kinopoisk.ru/film/starshiy-syn-1975-43982/\n",
      "https://www.kinopoisk.ru/film/starshiy-syn-1975-43982/\n",
      "https://www.kinopoisk.ru/film/starshiy-syn-1975-43982/\n",
      "https://www.kinopoisk.ru/film/starshiy-syn-1975-43982/\n",
      "https://www.kinopoisk.ru/film/starshiy-syn-1975-43982/\n",
      "https://www.kinopoisk.ru/film/starshiy-syn-1975-43982/\n",
      "https://www.kinopoisk.ru/film/starshiy-syn-1975-43982/\n",
      "https://www.kinopoisk.ru/film/starshiy-syn-1975-43982/\n",
      "https://www.kinopoisk.ru/film/starshiy-syn-1975-43982/\n",
      "https://www.kinopoisk.ru/film/starshiy-syn-1975-43982/\n",
      "https://www.kinopoisk.ru/film/starshiy-syn-1975-43982/\n",
      "https://www.kinopoisk.ru/film/starshiy-syn-1975-43982/\n",
      "https://www.kinopoisk.ru/film/starshiy-syn-1975-43982/\n",
      "https://www.kinopoisk.ru/film/starshiy-syn-1975-43982/\n",
      "https://www.kinopoisk.ru/film/starshiy-syn-1975-43982/\n",
      "https://www.kinopoisk.ru/film/starshiy-syn-1975-43982/\n",
      "https://www.kinopoisk.ru/film/starshiy-syn-1975-43982/\n",
      "https://www.kinopoisk.ru/film/starshiy-syn-1975-43982/\n",
      "https://www.kinopoisk.ru/film/starshiy-syn-1975-43982/\n",
      "https://www.kinopoisk.ru/film/starshiy-syn-1975-43982/\n",
      "https://www.kinopoisk.ru/film/starshiy-syn-1975-43982/\n",
      "https://www.kinopoisk.ru/film/starshiy-syn-1975-43982/\n",
      "https://www.kinopoisk.ru/film/starshiy-syn-1975-43982/\n",
      "https://www.kinopoisk.ru/film/starshiy-syn-1975-43982/\n",
      "https://www.kinopoisk.ru/film/starshiy-syn-1975-43982/\n",
      "https://www.kinopoisk.ru/film/starshiy-syn-1975-43982/\n",
      "https://www.kinopoisk.ru/film/starshiy-syn-1975-43982/\n",
      "https://www.kinopoisk.ru/film/starshiy-syn-1975-43982/\n",
      "https://www.kinopoisk.ru/film/starshiy-syn-1975-43982/\n",
      "https://www.kinopoisk.ru/film/starshiy-syn-1975-43982/\n",
      "https://www.kinopoisk.ru/film/starshiy-syn-1975-43982/\n",
      "https://www.kinopoisk.ru/film/starshiy-syn-1975-43982/\n",
      "https://www.kinopoisk.ru/film/starshiy-syn-1975-43982/\n",
      "https://www.kinopoisk.ru/film/starshiy-syn-1975-43982/\n",
      "https://www.kinopoisk.ru/film/starshiy-syn-1975-43982/\n",
      "https://www.kinopoisk.ru/film/starshiy-syn-1975-43982/\n",
      "https://www.kinopoisk.ru/film/starshiy-syn-1975-43982/\n",
      "https://www.kinopoisk.ru/film/starshiy-syn-1975-43982/\n",
      "https://www.kinopoisk.ru/film/starshiy-syn-1975-43982/\n",
      "https://www.kinopoisk.ru/film/starshiy-syn-1975-43982/\n",
      "https://www.kinopoisk.ru/film/starshiy-syn-1975-43982/\n",
      "https://www.kinopoisk.ru/film/starshiy-syn-1975-43982/\n",
      "https://www.kinopoisk.ru/film/starshiy-syn-1975-43982/\n",
      "https://www.kinopoisk.ru/film/starshiy-syn-1975-43982/\n",
      "https://www.kinopoisk.ru/film/starshiy-syn-1975-43982/\n",
      "https://www.kinopoisk.ru/film/starshiy-syn-1975-43982/\n",
      "https://www.kinopoisk.ru/film/starshiy-syn-1975-43982/\n",
      "https://www.kinopoisk.ru/film/starshiy-syn-1975-43982/\n",
      "https://www.kinopoisk.ru/film/starshiy-syn-1975-43982/\n",
      "https://www.kinopoisk.ru/film/starshiy-syn-1975-43982/\n",
      "https://www.kinopoisk.ru/film/starshiy-syn-1975-43982/\n",
      "https://www.kinopoisk.ru/film/starshiy-syn-1975-43982/\n",
      "https://www.kinopoisk.ru/film/starshiy-syn-1975-43982/\n",
      "https://www.kinopoisk.ru/film/starshiy-syn-1975-43982/\n",
      "https://www.kinopoisk.ru/film/starshiy-syn-1975-43982/\n",
      "https://www.kinopoisk.ru/film/starshiy-syn-1975-43982/\n",
      "https://www.kinopoisk.ru/film/starshiy-syn-1975-43982/\n"
     ]
    },
    {
     "name": "stdout",
     "output_type": "stream",
     "text": [
      "https://www.kinopoisk.ru/film/starshiy-syn-1975-43982/\n",
      "https://www.kinopoisk.ru/film/starshiy-syn-1975-43982/\n",
      "https://www.kinopoisk.ru/film/starshiy-syn-1975-43982/\n",
      "https://www.kinopoisk.ru/film/starshiy-syn-1975-43982/\n",
      "https://www.kinopoisk.ru/film/starshiy-syn-1975-43982/\n",
      "https://www.kinopoisk.ru/film/starshiy-syn-1975-43982/\n",
      "https://www.kinopoisk.ru/film/starshiy-syn-1975-43982/\n",
      "https://www.kinopoisk.ru/film/starshiy-syn-1975-43982/\n",
      "https://www.kinopoisk.ru/film/starshiy-syn-1975-43982/\n",
      "https://www.kinopoisk.ru/film/starshiy-syn-1975-43982/\n",
      "https://www.kinopoisk.ru/film/starshiy-syn-1975-43982/\n",
      "https://www.kinopoisk.ru/film/starshiy-syn-1975-43982/\n",
      "https://www.kinopoisk.ru/film/starshiy-syn-1975-43982/\n",
      "https://www.kinopoisk.ru/film/starshiy-syn-1975-43982/\n",
      "https://www.kinopoisk.ru/film/starshiy-syn-1975-43982/\n",
      "https://www.kinopoisk.ru/film/starshiy-syn-1975-43982/\n"
     ]
    },
    {
     "name": "stderr",
     "output_type": "stream",
     "text": [
      "ERROR:root:Error on starshiy-syn-1975-43982: cannot concatenate 'str' and 'int' objects\n",
      "  2%|▏         | 1/50 [00:16<13:28, 16.50s/it]"
     ]
    },
    {
     "name": "stdout",
     "output_type": "stream",
     "text": [
      "Евгений Леонов\n",
      "/film/oficery-1971-42736/\n",
      "https://www.kinopoisk.ru/film/oficery-1971-42736/\n",
      "https://www.kinopoisk.ru/film/oficery-1971-42736/\n",
      "https://www.kinopoisk.ru/film/oficery-1971-42736/\n",
      "https://www.kinopoisk.ru/film/oficery-1971-42736/\n",
      "https://www.kinopoisk.ru/film/oficery-1971-42736/\n",
      "https://www.kinopoisk.ru/film/oficery-1971-42736/\n",
      "https://www.kinopoisk.ru/film/oficery-1971-42736/\n",
      "https://www.kinopoisk.ru/film/oficery-1971-42736/\n",
      "https://www.kinopoisk.ru/film/oficery-1971-42736/\n",
      "https://www.kinopoisk.ru/film/oficery-1971-42736/\n",
      "https://www.kinopoisk.ru/film/oficery-1971-42736/\n",
      "https://www.kinopoisk.ru/film/oficery-1971-42736/\n",
      "https://www.kinopoisk.ru/film/oficery-1971-42736/\n",
      "https://www.kinopoisk.ru/film/oficery-1971-42736/\n",
      "https://www.kinopoisk.ru/film/oficery-1971-42736/\n",
      "https://www.kinopoisk.ru/film/oficery-1971-42736/\n",
      "https://www.kinopoisk.ru/film/oficery-1971-42736/\n",
      "https://www.kinopoisk.ru/film/oficery-1971-42736/\n",
      "https://www.kinopoisk.ru/film/oficery-1971-42736/\n",
      "https://www.kinopoisk.ru/film/oficery-1971-42736/\n",
      "https://www.kinopoisk.ru/film/oficery-1971-42736/\n",
      "https://www.kinopoisk.ru/film/oficery-1971-42736/\n",
      "https://www.kinopoisk.ru/film/oficery-1971-42736/\n",
      "https://www.kinopoisk.ru/film/oficery-1971-42736/\n",
      "https://www.kinopoisk.ru/film/oficery-1971-42736/\n",
      "https://www.kinopoisk.ru/film/oficery-1971-42736/\n",
      "https://www.kinopoisk.ru/film/oficery-1971-42736/\n",
      "https://www.kinopoisk.ru/film/oficery-1971-42736/\n",
      "https://www.kinopoisk.ru/film/oficery-1971-42736/\n",
      "https://www.kinopoisk.ru/film/oficery-1971-42736/\n",
      "https://www.kinopoisk.ru/film/oficery-1971-42736/\n",
      "https://www.kinopoisk.ru/film/oficery-1971-42736/\n",
      "https://www.kinopoisk.ru/film/oficery-1971-42736/\n",
      "https://www.kinopoisk.ru/film/oficery-1971-42736/\n",
      "https://www.kinopoisk.ru/film/oficery-1971-42736/\n",
      "https://www.kinopoisk.ru/film/oficery-1971-42736/\n",
      "https://www.kinopoisk.ru/film/oficery-1971-42736/\n",
      "https://www.kinopoisk.ru/film/oficery-1971-42736/\n",
      "https://www.kinopoisk.ru/film/oficery-1971-42736/\n",
      "https://www.kinopoisk.ru/film/oficery-1971-42736/\n",
      "https://www.kinopoisk.ru/film/oficery-1971-42736/\n",
      "https://www.kinopoisk.ru/film/oficery-1971-42736/\n",
      "https://www.kinopoisk.ru/film/oficery-1971-42736/\n",
      "https://www.kinopoisk.ru/film/oficery-1971-42736/\n",
      "https://www.kinopoisk.ru/film/oficery-1971-42736/\n",
      "https://www.kinopoisk.ru/film/oficery-1971-42736/\n",
      "https://www.kinopoisk.ru/film/oficery-1971-42736/\n",
      "https://www.kinopoisk.ru/film/oficery-1971-42736/\n",
      "https://www.kinopoisk.ru/film/oficery-1971-42736/\n",
      "https://www.kinopoisk.ru/film/oficery-1971-42736/\n",
      "https://www.kinopoisk.ru/film/oficery-1971-42736/\n",
      "https://www.kinopoisk.ru/film/oficery-1971-42736/\n",
      "https://www.kinopoisk.ru/film/oficery-1971-42736/\n",
      "https://www.kinopoisk.ru/film/oficery-1971-42736/\n",
      "https://www.kinopoisk.ru/film/oficery-1971-42736/\n",
      "https://www.kinopoisk.ru/film/oficery-1971-42736/\n",
      "https://www.kinopoisk.ru/film/oficery-1971-42736/\n",
      "https://www.kinopoisk.ru/film/oficery-1971-42736/\n",
      "https://www.kinopoisk.ru/film/oficery-1971-42736/\n",
      "https://www.kinopoisk.ru/film/oficery-1971-42736/\n",
      "https://www.kinopoisk.ru/film/oficery-1971-42736/\n",
      "https://www.kinopoisk.ru/film/oficery-1971-42736/\n",
      "https://www.kinopoisk.ru/film/oficery-1971-42736/\n",
      "https://www.kinopoisk.ru/film/oficery-1971-42736/\n",
      "https://www.kinopoisk.ru/film/oficery-1971-42736/\n",
      "https://www.kinopoisk.ru/film/oficery-1971-42736/\n",
      "https://www.kinopoisk.ru/film/oficery-1971-42736/\n",
      "https://www.kinopoisk.ru/film/oficery-1971-42736/\n",
      "https://www.kinopoisk.ru/film/oficery-1971-42736/\n",
      "https://www.kinopoisk.ru/film/oficery-1971-42736/\n",
      "https://www.kinopoisk.ru/film/oficery-1971-42736/\n",
      "https://www.kinopoisk.ru/film/oficery-1971-42736/\n",
      "https://www.kinopoisk.ru/film/oficery-1971-42736/\n",
      "https://www.kinopoisk.ru/film/oficery-1971-42736/\n",
      "https://www.kinopoisk.ru/film/oficery-1971-42736/\n",
      "https://www.kinopoisk.ru/film/oficery-1971-42736/\n",
      "https://www.kinopoisk.ru/film/oficery-1971-42736/\n",
      "https://www.kinopoisk.ru/film/oficery-1971-42736/\n",
      "https://www.kinopoisk.ru/film/oficery-1971-42736/\n",
      "https://www.kinopoisk.ru/film/oficery-1971-42736/\n",
      "https://www.kinopoisk.ru/film/oficery-1971-42736/\n",
      "https://www.kinopoisk.ru/film/oficery-1971-42736/\n",
      "https://www.kinopoisk.ru/film/oficery-1971-42736/\n",
      "https://www.kinopoisk.ru/film/oficery-1971-42736/\n",
      "https://www.kinopoisk.ru/film/oficery-1971-42736/\n",
      "https://www.kinopoisk.ru/film/oficery-1971-42736/\n",
      "https://www.kinopoisk.ru/film/oficery-1971-42736/\n",
      "https://www.kinopoisk.ru/film/oficery-1971-42736/\n",
      "https://www.kinopoisk.ru/film/oficery-1971-42736/\n",
      "https://www.kinopoisk.ru/film/oficery-1971-42736/\n",
      "https://www.kinopoisk.ru/film/oficery-1971-42736/\n",
      "https://www.kinopoisk.ru/film/oficery-1971-42736/\n",
      "https://www.kinopoisk.ru/film/oficery-1971-42736/\n",
      "https://www.kinopoisk.ru/film/oficery-1971-42736/\n",
      "https://www.kinopoisk.ru/film/oficery-1971-42736/\n",
      "https://www.kinopoisk.ru/film/oficery-1971-42736/\n",
      "https://www.kinopoisk.ru/film/oficery-1971-42736/\n",
      "https://www.kinopoisk.ru/film/oficery-1971-42736/\n",
      "https://www.kinopoisk.ru/film/oficery-1971-42736/\n",
      "https://www.kinopoisk.ru/film/oficery-1971-42736/\n",
      "https://www.kinopoisk.ru/film/oficery-1971-42736/\n",
      "https://www.kinopoisk.ru/film/oficery-1971-42736/\n",
      "https://www.kinopoisk.ru/film/oficery-1971-42736/\n",
      "https://www.kinopoisk.ru/film/oficery-1971-42736/\n",
      "https://www.kinopoisk.ru/film/oficery-1971-42736/\n",
      "https://www.kinopoisk.ru/film/oficery-1971-42736/\n",
      "https://www.kinopoisk.ru/film/oficery-1971-42736/\n",
      "https://www.kinopoisk.ru/film/oficery-1971-42736/\n",
      "https://www.kinopoisk.ru/film/oficery-1971-42736/\n",
      "https://www.kinopoisk.ru/film/oficery-1971-42736/\n",
      "https://www.kinopoisk.ru/film/oficery-1971-42736/\n",
      "https://www.kinopoisk.ru/film/oficery-1971-42736/\n",
      "https://www.kinopoisk.ru/film/oficery-1971-42736/\n",
      "https://www.kinopoisk.ru/film/oficery-1971-42736/\n",
      "https://www.kinopoisk.ru/film/oficery-1971-42736/\n",
      "https://www.kinopoisk.ru/film/oficery-1971-42736/\n",
      "https://www.kinopoisk.ru/film/oficery-1971-42736/\n",
      "https://www.kinopoisk.ru/film/oficery-1971-42736/\n",
      "https://www.kinopoisk.ru/film/oficery-1971-42736/\n",
      "https://www.kinopoisk.ru/film/oficery-1971-42736/\n",
      "https://www.kinopoisk.ru/film/oficery-1971-42736/\n",
      "https://www.kinopoisk.ru/film/oficery-1971-42736/\n",
      "https://www.kinopoisk.ru/film/oficery-1971-42736/\n",
      "https://www.kinopoisk.ru/film/oficery-1971-42736/\n",
      "https://www.kinopoisk.ru/film/oficery-1971-42736/\n",
      "https://www.kinopoisk.ru/film/oficery-1971-42736/\n",
      "https://www.kinopoisk.ru/film/oficery-1971-42736/\n",
      "https://www.kinopoisk.ru/film/oficery-1971-42736/\n",
      "https://www.kinopoisk.ru/film/oficery-1971-42736/\n",
      "https://www.kinopoisk.ru/film/oficery-1971-42736/\n",
      "https://www.kinopoisk.ru/film/oficery-1971-42736/\n",
      "https://www.kinopoisk.ru/film/oficery-1971-42736/\n",
      "https://www.kinopoisk.ru/film/oficery-1971-42736/\n",
      "https://www.kinopoisk.ru/film/oficery-1971-42736/\n",
      "https://www.kinopoisk.ru/film/oficery-1971-42736/\n",
      "https://www.kinopoisk.ru/film/oficery-1971-42736/\n",
      "https://www.kinopoisk.ru/film/oficery-1971-42736/\n",
      "https://www.kinopoisk.ru/film/oficery-1971-42736/\n",
      "https://www.kinopoisk.ru/film/oficery-1971-42736/\n",
      "https://www.kinopoisk.ru/film/oficery-1971-42736/\n",
      "https://www.kinopoisk.ru/film/oficery-1971-42736/\n",
      "https://www.kinopoisk.ru/film/oficery-1971-42736/\n",
      "https://www.kinopoisk.ru/film/oficery-1971-42736/\n",
      "https://www.kinopoisk.ru/film/oficery-1971-42736/\n",
      "https://www.kinopoisk.ru/film/oficery-1971-42736/\n",
      "https://www.kinopoisk.ru/film/oficery-1971-42736/\n",
      "https://www.kinopoisk.ru/film/oficery-1971-42736/\n",
      "https://www.kinopoisk.ru/film/oficery-1971-42736/\n",
      "https://www.kinopoisk.ru/film/oficery-1971-42736/\n",
      "https://www.kinopoisk.ru/film/oficery-1971-42736/\n",
      "https://www.kinopoisk.ru/film/oficery-1971-42736/\n",
      "https://www.kinopoisk.ru/film/oficery-1971-42736/\n",
      "https://www.kinopoisk.ru/film/oficery-1971-42736/\n",
      "https://www.kinopoisk.ru/film/oficery-1971-42736/\n",
      "https://www.kinopoisk.ru/film/oficery-1971-42736/\n",
      "https://www.kinopoisk.ru/film/oficery-1971-42736/\n",
      "https://www.kinopoisk.ru/film/oficery-1971-42736/\n",
      "https://www.kinopoisk.ru/film/oficery-1971-42736/\n",
      "https://www.kinopoisk.ru/film/oficery-1971-42736/\n",
      "https://www.kinopoisk.ru/film/oficery-1971-42736/\n",
      "https://www.kinopoisk.ru/film/oficery-1971-42736/\n",
      "https://www.kinopoisk.ru/film/oficery-1971-42736/\n",
      "https://www.kinopoisk.ru/film/oficery-1971-42736/\n",
      "https://www.kinopoisk.ru/film/oficery-1971-42736/\n",
      "https://www.kinopoisk.ru/film/oficery-1971-42736/\n",
      "https://www.kinopoisk.ru/film/oficery-1971-42736/\n",
      "https://www.kinopoisk.ru/film/oficery-1971-42736/\n"
     ]
    },
    {
     "name": "stdout",
     "output_type": "stream",
     "text": [
      "https://www.kinopoisk.ru/film/oficery-1971-42736/\n",
      "https://www.kinopoisk.ru/film/oficery-1971-42736/\n",
      "https://www.kinopoisk.ru/film/oficery-1971-42736/\n",
      "https://www.kinopoisk.ru/film/oficery-1971-42736/\n",
      "https://www.kinopoisk.ru/film/oficery-1971-42736/\n"
     ]
    },
    {
     "name": "stderr",
     "output_type": "stream",
     "text": [
      "ERROR:root:Error on oficery-1971-42736: cannot concatenate 'str' and 'int' objects\n",
      "  4%|▍         | 2/50 [00:26<10:43, 13.41s/it]"
     ]
    },
    {
     "name": "stdout",
     "output_type": "stream",
     "text": [
      "Георгий Юматов\n",
      "/film/piraty-karibskogo-morya-proklyatie-chernoy-zhemchuzhiny-2003-4374/\n",
      "https://www.kinopoisk.ru/film/piraty-karibskogo-morya-proklyatie-chernoy-zhemchuzhiny-2003-4374/\n"
     ]
    },
    {
     "name": "stderr",
     "output_type": "stream",
     "text": [
      "ERROR:root:Error on piraty-karibskogo-morya-proklyatie-chernoy-zhemchuzhiny-2003-4374: cannot concatenate 'str' and 'int' objects\n",
      "  6%|▌         | 3/50 [00:27<07:08,  9.11s/it]"
     ]
    },
    {
     "name": "stdout",
     "output_type": "stream",
     "text": [
      "Джонни Депп\n",
      "/film/igra-1997-12198/\n",
      "https://www.kinopoisk.ru/film/igra-1997-12198/\n"
     ]
    },
    {
     "name": "stderr",
     "output_type": "stream",
     "text": [
      "ERROR:root:Error on igra-1997-12198: cannot concatenate 'str' and 'int' objects\n",
      "  8%|▊         | 4/50 [00:27<05:21,  6.99s/it]"
     ]
    },
    {
     "name": "stdout",
     "output_type": "stream",
     "text": [
      "Скотт Хантер МакГуайр\n",
      "/film/romeo-i-dzhuletta-1968-15204/\n",
      "https://www.kinopoisk.ru/film/romeo-i-dzhuletta-1968-15204/\n"
     ]
    },
    {
     "name": "stderr",
     "output_type": "stream",
     "text": [
      "ERROR:root:Error on romeo-i-dzhuletta-1968-15204: cannot concatenate 'str' and 'int' objects\n",
      " 10%|█         | 5/50 [00:28<04:16,  5.70s/it]"
     ]
    },
    {
     "name": "stdout",
     "output_type": "stream",
     "text": [
      "Леонард Уайтинг\n",
      "/film/ochen-strannye-dela-2016-915196/\n",
      "https://www.kinopoisk.ru/film/ochen-strannye-dela-2016-915196/\n"
     ]
    },
    {
     "name": "stderr",
     "output_type": "stream",
     "text": [
      "ERROR:root:Error on ochen-strannye-dela-2016-915196: cannot concatenate 'str' and 'int' objects\n",
      " 12%|█▏        | 6/50 [00:29<03:33,  4.86s/it]"
     ]
    },
    {
     "name": "stdout",
     "output_type": "stream",
     "text": [
      "Вайнона Райдер\n",
      "/film/zolotoy-telenok-1968-45389/\n",
      "https://www.kinopoisk.ru/film/zolotoy-telenok-1968-45389/\n"
     ]
    },
    {
     "name": "stderr",
     "output_type": "stream",
     "text": [
      "ERROR:root:Error on zolotoy-telenok-1968-45389: cannot concatenate 'str' and 'int' objects\n",
      " 14%|█▍        | 7/50 [00:29<03:02,  4.25s/it]"
     ]
    },
    {
     "name": "stdout",
     "output_type": "stream",
     "text": [
      "Сергей Юрский\n",
      "/film/obshchestvo-mertvykh-poetov-1989-4996/\n",
      "https://www.kinopoisk.ru/film/obshchestvo-mertvykh-poetov-1989-4996/\n"
     ]
    },
    {
     "name": "stderr",
     "output_type": "stream",
     "text": [
      "ERROR:root:Error on obshchestvo-mertvykh-poetov-1989-4996: cannot concatenate 'str' and 'int' objects\n",
      " 16%|█▌        | 8/50 [00:30<02:39,  3.79s/it]"
     ]
    },
    {
     "name": "stdout",
     "output_type": "stream",
     "text": [
      "Робин Уильямс\n",
      "/film/garri-potter-i-uznik-azkabana-2004-322/\n",
      "https://www.kinopoisk.ru/film/garri-potter-i-uznik-azkabana-2004-322/\n"
     ]
    },
    {
     "name": "stderr",
     "output_type": "stream",
     "text": [
      "ERROR:root:Error on garri-potter-i-uznik-azkabana-2004-322: cannot concatenate 'str' and 'int' objects\n",
      " 18%|█▊        | 9/50 [00:32<02:29,  3.65s/it]"
     ]
    },
    {
     "name": "stdout",
     "output_type": "stream",
     "text": [
      "Дэниэл Рэдклифф\n",
      "/film/oderzhimost-2013-725190/\n",
      "https://www.kinopoisk.ru/film/oderzhimost-2013-725190/\n"
     ]
    },
    {
     "name": "stderr",
     "output_type": "stream",
     "text": [
      "ERROR:root:Error on oderzhimost-2013-725190: cannot concatenate 'str' and 'int' objects\n",
      " 20%|██        | 10/50 [00:33<02:13,  3.34s/it]"
     ]
    },
    {
     "name": "stdout",
     "output_type": "stream",
     "text": [
      "Майлз Теллер\n",
      "/film/advokat-dyavola-1997-3797/\n",
      "https://www.kinopoisk.ru/film/advokat-dyavola-1997-3797/\n"
     ]
    },
    {
     "name": "stderr",
     "output_type": "stream",
     "text": [
      "ERROR:root:Error on advokat-dyavola-1997-3797: cannot concatenate 'str' and 'int' objects\n",
      " 22%|██▏       | 11/50 [00:33<02:00,  3.09s/it]"
     ]
    },
    {
     "name": "stdout",
     "output_type": "stream",
     "text": [
      "Киану Ривз\n",
      "/film/trener-karter-2005-77531/\n",
      "https://www.kinopoisk.ru/film/trener-karter-2005-77531/\n"
     ]
    },
    {
     "name": "stderr",
     "output_type": "stream",
     "text": [
      "ERROR:root:Error on trener-karter-2005-77531: cannot concatenate 'str' and 'int' objects\n",
      " 24%|██▍       | 12/50 [00:34<01:49,  2.88s/it]"
     ]
    },
    {
     "name": "stdout",
     "output_type": "stream",
     "text": [
      "Сэмюэл Л. Джексон\n",
      "/film/tri-idiota-2009-423210/\n",
      "https://www.kinopoisk.ru/film/tri-idiota-2009-423210/\n"
     ]
    },
    {
     "name": "stderr",
     "output_type": "stream",
     "text": [
      "ERROR:root:Error on tri-idiota-2009-423210: cannot concatenate 'str' and 'int' objects\n",
      " 26%|██▌       | 13/50 [00:35<01:40,  2.70s/it]"
     ]
    },
    {
     "name": "stdout",
     "output_type": "stream",
     "text": [
      "Аамир Кхан\n",
      "/film/karty-dengi-dva-stvola-1998-522/\n",
      "https://www.kinopoisk.ru/film/karty-dengi-dva-stvola-1998-522/\n"
     ]
    },
    {
     "name": "stderr",
     "output_type": "stream",
     "text": [
      "ERROR:root:Error on karty-dengi-dva-stvola-1998-522: cannot concatenate 'str' and 'int' objects\n",
      " 28%|██▊       | 14/50 [00:37<01:36,  2.67s/it]"
     ]
    },
    {
     "name": "stdout",
     "output_type": "stream",
     "text": [
      "Джейсон Флеминг\n",
      "/film/rapuntsel-zaputannaya-istoriya-2010-84049/\n",
      "https://www.kinopoisk.ru/film/rapuntsel-zaputannaya-istoriya-2010-84049/\n"
     ]
    },
    {
     "name": "stderr",
     "output_type": "stream",
     "text": [
      "ERROR:root:Error on rapuntsel-zaputannaya-istoriya-2010-84049: cannot concatenate 'str' and 'int' objects\n",
      " 30%|███       | 15/50 [00:37<01:28,  2.52s/it]"
     ]
    },
    {
     "name": "stdout",
     "output_type": "stream",
     "text": [
      "Мэнди Мур\n",
      "/film/ratatuy-2007-89514/\n",
      "https://www.kinopoisk.ru/film/ratatuy-2007-89514/\n"
     ]
    },
    {
     "name": "stderr",
     "output_type": "stream",
     "text": [
      "ERROR:root:Error on ratatuy-2007-89514: cannot concatenate 'str' and 'int' objects\n",
      " 32%|███▏      | 16/50 [00:38<01:21,  2.39s/it]"
     ]
    },
    {
     "name": "stdout",
     "output_type": "stream",
     "text": [
      "Пэттон Освальт\n",
      "/film/prividenie-1990-1991/\n",
      "https://www.kinopoisk.ru/film/prividenie-1990-1991/\n"
     ]
    },
    {
     "name": "stderr",
     "output_type": "stream",
     "text": [
      "ERROR:root:Error on prividenie-1990-1991: cannot concatenate 'str' and 'int' objects\n",
      " 34%|███▍      | 17/50 [00:38<01:15,  2.29s/it]"
     ]
    },
    {
     "name": "stdout",
     "output_type": "stream",
     "text": [
      "Патрик Суэйзи\n",
      "/film/ubiystvo-v-vostochnom-ekspresse-2017-817969/\n",
      "https://www.kinopoisk.ru/film/ubiystvo-v-vostochnom-ekspresse-2017-817969/\n"
     ]
    },
    {
     "name": "stderr",
     "output_type": "stream",
     "text": [
      "ERROR:root:Error on ubiystvo-v-vostochnom-ekspresse-2017-817969: cannot concatenate 'str' and 'int' objects\n",
      " 36%|███▌      | 18/50 [00:40<01:11,  2.25s/it]"
     ]
    },
    {
     "name": "stdout",
     "output_type": "stream",
     "text": [
      "Паапа Эссьеду\n",
      "/film/moskva-slezam-ne-verit-1979-46708/\n",
      "https://www.kinopoisk.ru/film/moskva-slezam-ne-verit-1979-46708/\n"
     ]
    },
    {
     "name": "stderr",
     "output_type": "stream",
     "text": [
      "ERROR:root:Error on moskva-slezam-ne-verit-1979-46708: cannot concatenate 'str' and 'int' objects\n",
      " 38%|███▊      | 19/50 [00:41<01:07,  2.18s/it]"
     ]
    },
    {
     "name": "stdout",
     "output_type": "stream",
     "text": [
      "Вера Алентова\n",
      "/film/nazad-v-budushhee-2-1989-5502/\n",
      "https://www.kinopoisk.ru/film/nazad-v-budushhee-2-1989-5502/\n"
     ]
    },
    {
     "name": "stderr",
     "output_type": "stream",
     "text": [
      "ERROR:root:Error on nazad-v-budushhee-2-1989-5502: cannot concatenate 'str' and 'int' objects\n",
      " 40%|████      | 20/50 [00:42<01:03,  2.11s/it]"
     ]
    },
    {
     "name": "stdout",
     "output_type": "stream",
     "text": [
      "Майкл Дж. Фокс\n",
      "/film/afera-1973-383/\n",
      "https://www.kinopoisk.ru/film/afera-1973-383/\n"
     ]
    },
    {
     "name": "stderr",
     "output_type": "stream",
     "text": [
      "ERROR:root:Error on afera-1973-383: cannot concatenate 'str' and 'int' objects\n",
      " 42%|████▏     | 21/50 [00:44<01:00,  2.10s/it]"
     ]
    },
    {
     "name": "stdout",
     "output_type": "stream",
     "text": [
      "Пол Ньюман\n",
      "/film/tri-billborda-na-granitse-ebbinga-missuri-2017-944098/\n",
      "https://www.kinopoisk.ru/film/tri-billborda-na-granitse-ebbinga-missuri-2017-944098/\n"
     ]
    },
    {
     "name": "stderr",
     "output_type": "stream",
     "text": [
      "ERROR:root:Error on tri-billborda-na-granitse-ebbinga-missuri-2017-944098: cannot concatenate 'str' and 'int' objects\n",
      " 44%|████▍     | 22/50 [00:44<00:56,  2.03s/it]"
     ]
    },
    {
     "name": "stdout",
     "output_type": "stream",
     "text": [
      "Фрэнсис МакДорманд\n",
      "/film/illyuzionist-2005-102198/\n",
      "https://www.kinopoisk.ru/film/illyuzionist-2005-102198/\n"
     ]
    },
    {
     "name": "stderr",
     "output_type": "stream",
     "text": [
      "ERROR:root:Error on illyuzionist-2005-102198: cannot concatenate 'str' and 'int' objects\n",
      " 46%|████▌     | 23/50 [00:46<00:55,  2.04s/it]"
     ]
    },
    {
     "name": "stdout",
     "output_type": "stream",
     "text": [
      "Эдвард Нортон\n",
      "/film/sherlok-kholms-i-doktor-vatson-znakomstvo-1979-77269/\n",
      "https://www.kinopoisk.ru/film/sherlok-kholms-i-doktor-vatson-znakomstvo-1979-77269/\n"
     ]
    },
    {
     "name": "stderr",
     "output_type": "stream",
     "text": [
      "ERROR:root:Error on sherlok-kholms-i-doktor-vatson-znakomstvo-1979-77269: cannot concatenate 'str' and 'int' objects\n",
      " 48%|████▊     | 24/50 [00:47<00:51,  1.98s/it]"
     ]
    },
    {
     "name": "stdout",
     "output_type": "stream",
     "text": [
      "Василий Ливанов\n",
      "/film/operaciya-y-i-drugie-priklyucheniya-shurika-1965-42782/\n",
      "https://www.kinopoisk.ru/film/operaciya-y-i-drugie-priklyucheniya-shurika-1965-42782/\n"
     ]
    },
    {
     "name": "stderr",
     "output_type": "stream",
     "text": [
      "ERROR:root:Error on operaciya-y-i-drugie-priklyucheniya-shurika-1965-42782: cannot concatenate 'str' and 'int' objects\n",
      " 50%|█████     | 25/50 [00:48<00:48,  1.96s/it]"
     ]
    },
    {
     "name": "stdout",
     "output_type": "stream",
     "text": [
      "Александр Демьяненко\n",
      "/film/annigilyatsiya-2018-749370/\n",
      "https://www.kinopoisk.ru/film/annigilyatsiya-2018-749370/\n"
     ]
    },
    {
     "name": "stderr",
     "output_type": "stream",
     "text": [
      "ERROR:root:Error on annigilyatsiya-2018-749370: cannot concatenate 'str' and 'int' objects\n",
      " 52%|█████▏    | 26/50 [00:49<00:45,  1.90s/it]"
     ]
    },
    {
     "name": "stdout",
     "output_type": "stream",
     "text": [
      "Натали Портман\n",
      "/film/princessa-mononoke-1997-441/\n",
      "https://www.kinopoisk.ru/film/princessa-mononoke-1997-441/\n"
     ]
    },
    {
     "name": "stderr",
     "output_type": "stream",
     "text": [
      "ERROR:root:Error on princessa-mononoke-1997-441: cannot concatenate 'str' and 'int' objects\n",
      " 54%|█████▍    | 27/50 [00:49<00:42,  1.85s/it]"
     ]
    },
    {
     "name": "stdout",
     "output_type": "stream",
     "text": [
      "Юрико Исида\n",
      "/film/oni-srazhalis-za-rodinu-1975-42770/\n",
      "https://www.kinopoisk.ru/film/oni-srazhalis-za-rodinu-1975-42770/\n"
     ]
    },
    {
     "name": "stderr",
     "output_type": "stream",
     "text": [
      "ERROR:root:Error on oni-srazhalis-za-rodinu-1975-42770: cannot concatenate 'str' and 'int' objects\n",
      " 56%|█████▌    | 28/50 [00:50<00:39,  1.80s/it]"
     ]
    },
    {
     "name": "stdout",
     "output_type": "stream",
     "text": [
      "Василий Шукшин\n",
      "/film/ogni-bolshogo-goroda-1931-414/\n",
      "https://www.kinopoisk.ru/film/ogni-bolshogo-goroda-1931-414/\n"
     ]
    },
    {
     "name": "stderr",
     "output_type": "stream",
     "text": [
      "ERROR:root:Error on ogni-bolshogo-goroda-1931-414: cannot concatenate 'str' and 'int' objects\n",
      " 58%|█████▊    | 29/50 [00:51<00:36,  1.76s/it]"
     ]
    },
    {
     "name": "stdout",
     "output_type": "stream",
     "text": [
      "Вирджиния Черрилл\n",
      "/film/v-pogone-za-schastem-2006-104938/\n",
      "https://www.kinopoisk.ru/film/v-pogone-za-schastem-2006-104938/\n"
     ]
    },
    {
     "name": "stderr",
     "output_type": "stream",
     "text": [
      "ERROR:root:Error on v-pogone-za-schastem-2006-104938: cannot concatenate 'str' and 'int' objects\n",
      " 60%|██████    | 30/50 [00:53<00:35,  1.78s/it]"
     ]
    },
    {
     "name": "stdout",
     "output_type": "stream",
     "text": [
      "Уилл Смит\n",
      "/film/pyatyy-element-1997-2656/\n",
      "https://www.kinopoisk.ru/film/pyatyy-element-1997-2656/\n"
     ]
    },
    {
     "name": "stderr",
     "output_type": "stream",
     "text": [
      "ERROR:root:Error on pyatyy-element-1997-2656: cannot concatenate 'str' and 'int' objects\n",
      " 62%|██████▏   | 31/50 [00:53<00:33,  1.74s/it]"
     ]
    },
    {
     "name": "stdout",
     "output_type": "stream",
     "text": [
      "Брюс Уиллис\n",
      "/film/krepkiy-oreshek-1988-471/\n",
      "https://www.kinopoisk.ru/film/krepkiy-oreshek-1988-471/\n"
     ]
    },
    {
     "name": "stderr",
     "output_type": "stream",
     "text": [
      "ERROR:root:Error on krepkiy-oreshek-1988-471: cannot concatenate 'str' and 'int' objects\n",
      " 64%|██████▍   | 32/50 [00:54<00:30,  1.70s/it]"
     ]
    },
    {
     "name": "stdout",
     "output_type": "stream",
     "text": [
      "Брюс Уиллис\n",
      "/film/malysh-1921-2127/\n",
      "https://www.kinopoisk.ru/film/malysh-1921-2127/\n"
     ]
    },
    {
     "name": "stderr",
     "output_type": "stream",
     "text": [
      "ERROR:root:Error on malysh-1921-2127: cannot concatenate 'str' and 'int' objects\n",
      " 66%|██████▌   | 33/50 [00:54<00:28,  1.67s/it]"
     ]
    },
    {
     "name": "stdout",
     "output_type": "stream",
     "text": [
      "Чарльз Чаплин\n",
      "/film/kak-priruchit-drakona-2010-280172/\n",
      "https://www.kinopoisk.ru/film/kak-priruchit-drakona-2010-280172/\n"
     ]
    },
    {
     "name": "stderr",
     "output_type": "stream",
     "text": [
      "ERROR:root:Error on kak-priruchit-drakona-2010-280172: cannot concatenate 'str' and 'int' objects\n",
      " 68%|██████▊   | 34/50 [00:55<00:26,  1.63s/it]"
     ]
    },
    {
     "name": "stdout",
     "output_type": "stream",
     "text": [
      "Джей Барушель\n",
      "/film/shestoe-chuvstvo-1999-395/\n",
      "https://www.kinopoisk.ru/film/shestoe-chuvstvo-1999-395/\n"
     ]
    },
    {
     "name": "stderr",
     "output_type": "stream",
     "text": [
      "ERROR:root:Error on shestoe-chuvstvo-1999-395: cannot concatenate 'str' and 'int' objects\n",
      " 70%|███████   | 35/50 [00:56<00:24,  1.60s/it]"
     ]
    },
    {
     "name": "stdout",
     "output_type": "stream",
     "text": [
      "Брюс Уиллис\n",
      "/film/korol-govorit-2010-485311/\n",
      "https://www.kinopoisk.ru/film/korol-govorit-2010-485311/\n"
     ]
    },
    {
     "name": "stderr",
     "output_type": "stream",
     "text": [
      "ERROR:root:Error on korol-govorit-2010-485311: cannot concatenate 'str' and 'int' objects\n",
      " 72%|███████▏  | 36/50 [00:56<00:22,  1.58s/it]"
     ]
    },
    {
     "name": "stdout",
     "output_type": "stream",
     "text": [
      "Колин Фёрт\n",
      "/film/dzhango-osvobozhdennyy-2012-586397/\n",
      "https://www.kinopoisk.ru/film/dzhango-osvobozhdennyy-2012-586397/\n"
     ]
    },
    {
     "name": "stderr",
     "output_type": "stream",
     "text": [
      "ERROR:root:Error on dzhango-osvobozhdennyy-2012-586397: cannot concatenate 'str' and 'int' objects\n",
      " 74%|███████▍  | 37/50 [00:57<00:20,  1.55s/it]"
     ]
    },
    {
     "name": "stdout",
     "output_type": "stream",
     "text": [
      "Джейми Фокс\n",
      "/film/novyy-kinoteatr-paradizo-1988-424/\n",
      "https://www.kinopoisk.ru/film/novyy-kinoteatr-paradizo-1988-424/\n"
     ]
    },
    {
     "name": "stderr",
     "output_type": "stream",
     "text": [
      "ERROR:root:Error on novyy-kinoteatr-paradizo-1988-424: cannot concatenate 'str' and 'int' objects\n",
      " 76%|███████▌  | 38/50 [00:57<00:18,  1.52s/it]"
     ]
    },
    {
     "name": "stdout",
     "output_type": "stream",
     "text": [
      "Филипп Нуаре\n",
      "/film/khobbit-nezhdannoe-puteshestvie-2012-278522/\n",
      "https://www.kinopoisk.ru/film/khobbit-nezhdannoe-puteshestvie-2012-278522/\n"
     ]
    },
    {
     "name": "stderr",
     "output_type": "stream",
     "text": [
      "ERROR:root:Error on khobbit-nezhdannoe-puteshestvie-2012-278522: cannot concatenate 'str' and 'int' objects\n",
      " 78%|███████▊  | 39/50 [00:58<00:16,  1.50s/it]"
     ]
    },
    {
     "name": "stdout",
     "output_type": "stream",
     "text": [
      "Мартин Фриман\n",
      "/film/zhestokiy-romans-1984-45314/\n",
      "https://www.kinopoisk.ru/film/zhestokiy-romans-1984-45314/\n"
     ]
    },
    {
     "name": "stderr",
     "output_type": "stream",
     "text": [
      "ERROR:root:Error on zhestokiy-romans-1984-45314: cannot concatenate 'str' and 'int' objects\n",
      " 80%|████████  | 40/50 [00:58<00:14,  1.47s/it]"
     ]
    },
    {
     "name": "stdout",
     "output_type": "stream",
     "text": [
      "Лариса Гузеева\n",
      "/film/oktyabrskoe-nebo-1999-2056/\n",
      "https://www.kinopoisk.ru/film/oktyabrskoe-nebo-1999-2056/\n"
     ]
    },
    {
     "name": "stderr",
     "output_type": "stream",
     "text": [
      "ERROR:root:Error on oktyabrskoe-nebo-1999-2056: cannot concatenate 'str' and 'int' objects\n",
      " 82%|████████▏ | 41/50 [00:59<00:13,  1.45s/it]"
     ]
    },
    {
     "name": "stdout",
     "output_type": "stream",
     "text": [
      "Джейк Джилленхол\n",
      "/film/ostrov-sokrovishh-1988-573759/\n",
      "https://www.kinopoisk.ru/film/ostrov-sokrovishh-1988-573759/\n"
     ]
    },
    {
     "name": "stderr",
     "output_type": "stream",
     "text": [
      "ERROR:root:Error on ostrov-sokrovishh-1988-573759: cannot concatenate 'str' and 'int' objects\n",
      " 84%|████████▍ | 42/50 [00:59<00:11,  1.43s/it]"
     ]
    },
    {
     "name": "stdout",
     "output_type": "stream",
     "text": [
      "Владимир Заднепровский\n",
      "/film/sem-samuraev-1954-332/\n",
      "https://www.kinopoisk.ru/film/sem-samuraev-1954-332/\n"
     ]
    },
    {
     "name": "stderr",
     "output_type": "stream",
     "text": [
      "ERROR:root:Error on sem-samuraev-1954-332: cannot concatenate 'str' and 'int' objects\n",
      " 86%|████████▌ | 43/50 [01:00<00:09,  1.41s/it]"
     ]
    },
    {
     "name": "stdout",
     "output_type": "stream",
     "text": [
      "Тосиро Мифунэ\n",
      "/film/zhizn-drugikh-2006-126196/\n",
      "https://www.kinopoisk.ru/film/zhizn-drugikh-2006-126196/\n"
     ]
    },
    {
     "name": "stderr",
     "output_type": "stream",
     "text": [
      "ERROR:root:Error on zhizn-drugikh-2006-126196: cannot concatenate 'str' and 'int' objects\n",
      " 88%|████████▊ | 44/50 [01:01<00:08,  1.39s/it]"
     ]
    },
    {
     "name": "stdout",
     "output_type": "stream",
     "text": [
      "Ульрих  Мюэ\n",
      "/film/blef-1976-10179/\n",
      "https://www.kinopoisk.ru/film/blef-1976-10179/\n"
     ]
    },
    {
     "name": "stderr",
     "output_type": "stream",
     "text": [
      "ERROR:root:Error on blef-1976-10179: cannot concatenate 'str' and 'int' objects\n",
      " 90%|█████████ | 45/50 [01:01<00:06,  1.37s/it]"
     ]
    },
    {
     "name": "stdout",
     "output_type": "stream",
     "text": [
      "Адриано Челентано\n",
      "/film/poka-ne-sygral-v-yashhik-2007-258885/\n",
      "https://www.kinopoisk.ru/film/poka-ne-sygral-v-yashhik-2007-258885/\n"
     ]
    },
    {
     "name": "stderr",
     "output_type": "stream",
     "text": [
      "ERROR:root:Error on poka-ne-sygral-v-yashhik-2007-258885: cannot concatenate 'str' and 'int' objects\n",
      " 92%|█████████▏| 46/50 [01:02<00:05,  1.35s/it]"
     ]
    },
    {
     "name": "stdout",
     "output_type": "stream",
     "text": [
      "Джек Николсон\n",
      "/film/durak-2014-808639/\n",
      "https://www.kinopoisk.ru/film/durak-2014-808639/\n"
     ]
    },
    {
     "name": "stderr",
     "output_type": "stream",
     "text": [
      "ERROR:root:Error on durak-2014-808639: cannot concatenate 'str' and 'int' objects\n",
      " 94%|█████████▍| 47/50 [01:02<00:04,  1.33s/it]"
     ]
    },
    {
     "name": "stdout",
     "output_type": "stream",
     "text": [
      "Артем Быстров\n",
      "/film/gran-torino-2008-408410/\n",
      "https://www.kinopoisk.ru/film/gran-torino-2008-408410/\n"
     ]
    },
    {
     "name": "stderr",
     "output_type": "stream",
     "text": [
      "ERROR:root:Error on gran-torino-2008-408410: cannot concatenate 'str' and 'int' objects\n",
      " 96%|█████████▌| 48/50 [01:03<00:02,  1.32s/it]"
     ]
    },
    {
     "name": "stdout",
     "output_type": "stream",
     "text": [
      "Клинт Иствуд\n",
      "/film/belyy-bim-chernoe-ukho-1976-46068/\n",
      "https://www.kinopoisk.ru/film/belyy-bim-chernoe-ukho-1976-46068/\n"
     ]
    },
    {
     "name": "stderr",
     "output_type": "stream",
     "text": [
      "ERROR:root:Error on belyy-bim-chernoe-ukho-1976-46068: cannot concatenate 'str' and 'int' objects\n",
      " 98%|█████████▊| 49/50 [01:03<00:01,  1.30s/it]"
     ]
    },
    {
     "name": "stdout",
     "output_type": "stream",
     "text": [
      "Вячеслав Тихонов\n",
      "/film/artist-2011-539550/\n",
      "https://www.kinopoisk.ru/film/artist-2011-539550/\n"
     ]
    },
    {
     "name": "stderr",
     "output_type": "stream",
     "text": [
      "ERROR:root:Error on artist-2011-539550: cannot concatenate 'str' and 'int' objects\n",
      "100%|██████████| 50/50 [01:04<00:00,  1.28s/it]"
     ]
    },
    {
     "name": "stdout",
     "output_type": "stream",
     "text": [
      "Жан Дюжарден\n",
      "Вячеслав Тихонов\n",
      "Чарльз Чаплин\n",
      "Джонни Депп\n",
      "Пэттон Освальт\n",
      "Александр Демьяненко\n",
      "Паапа Эссьеду\n",
      "Майлз Теллер\n",
      "Киану Ривз\n",
      "Вера Алентова\n",
      "Патрик Суэйзи\n",
      "CPU times: user 3.28 s, sys: 663 ms, total: 3.95 s\n",
      "Wall time: 1min 4s\n"
     ]
    },
    {
     "name": "stderr",
     "output_type": "stream",
     "text": [
      "\n"
     ]
    }
   ],
   "source": [
    "%%time\n",
    "TOTAL_REVIEWS = 0\n",
    "dt = defaultdict(str)\n",
    "with codecs.open('./data.csv', mode='w', encoding='utf-8') as f_out:\n",
    "    for x in tqdm(MOVIE_URLS[:50]):\n",
    "        name = x.split('/')[2]\n",
    "        print x\n",
    "        try:\n",
    "            i = 1\n",
    "            while True:\n",
    "                print 'https://www.kinopoisk.ru%s' % x \n",
    "                g.go('https://www.kinopoisk.ru%s' % x, timeout=30)\n",
    "                #reviews = g.xpath_list('//*/ul/li[1]/a')\n",
    "                reviews = g.xpath_list('//*/ul/li[@itemprop=\"actors\"]/a/text()[1]')\n",
    "                for t in reviews:\n",
    "                    print t\n",
    "                    dt[t] += 1\n",
    "        except Exception as e:\n",
    "            logging.error('Error on %s: %s' % (name, str(e)))\n",
    "#print 'Total reviews: %d' % TOTAL_REVIEWS\n",
    "lst = sorted(dt.items(), key=lambda k_v: k_v[1], reverse=True)\n",
    "for i in range(10):\n",
    "    print lst[i][0]"
   ]
  },
  {
   "cell_type": "markdown",
   "metadata": {},
   "source": [
    "### Too slow..."
   ]
  },
  {
   "cell_type": "code",
   "execution_count": null,
   "metadata": {},
   "outputs": [],
   "source": []
  },
  {
   "cell_type": "code",
   "execution_count": null,
   "metadata": {},
   "outputs": [],
   "source": []
  }
 ],
 "metadata": {
  "kernelspec": {
   "display_name": "Python 2",
   "language": "python",
   "name": "python2"
  },
  "language_info": {
   "codemirror_mode": {
    "name": "ipython",
    "version": 2
   },
   "file_extension": ".py",
   "mimetype": "text/x-python",
   "name": "python",
   "nbconvert_exporter": "python",
   "pygments_lexer": "ipython2",
   "version": "2.7.14"
  }
 },
 "nbformat": 4,
 "nbformat_minor": 2
}
