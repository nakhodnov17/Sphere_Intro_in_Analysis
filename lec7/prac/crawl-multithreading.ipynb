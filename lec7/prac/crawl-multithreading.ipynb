{
 "cells": [
  {
   "cell_type": "code",
   "execution_count": 1,
   "metadata": {},
   "outputs": [],
   "source": [
    "import requests\n",
    "import grab\n",
    "import json\n",
    "import logging\n",
    "import codecs\n",
    "from collections import defaultdict\n",
    "from lxml.etree import ElementTree, fromstring\n",
    "from bs4 import BeautifulSoup\n",
    "from tqdm import tqdm\n",
    "from multiprocessing.dummy import Pool as ThreadPool\n",
    "from IPython.display import HTML"
   ]
  },
  {
   "cell_type": "markdown",
   "metadata": {},
   "source": [
    "### Get All Movie Links"
   ]
  },
  {
   "cell_type": "code",
   "execution_count": 2,
   "metadata": {},
   "outputs": [
    {
     "name": "stderr",
     "output_type": "stream",
     "text": [
      "/Users/vladfedorenko/anaconda/lib/python2.7/site-packages/grab/util/warning.py:28: GrabDeprecationWarning: Call to deprecated function xpath_list. Use grab.doc.select() instead.\n",
      "  warn(message)\n"
     ]
    },
    {
     "name": "stdout",
     "output_type": "stream",
     "text": [
      "Total movie urls: 1043\n",
      "Examples: \n",
      "/film/neuderzhimye-2010-432550/\n",
      "/film/neveroyatnyy-khalk-2008-255380/\n",
      "/film/komnata-strakha-2002-780/\n",
      "/film/ekzamen-2009-418762/\n",
      "/film/shpionskiy-most-2015-840884/\n"
     ]
    }
   ],
   "source": [
    "url = 'https://www.kinopoisk.ru/top/lists/186/filtr/all/sort/order/page/%d/perpage/200/'\n",
    "headers = {\n",
    "    'User-Agent': 'Mozilla/5.0 (Macintosh; Intel Mac OS X 10_12_5) AppleWebKit/537.36 (KHTML, like Gecko)' + \n",
    "                  'Chrome/61.0.3163.100 Safari/537.36',\n",
    "}\n",
    "g = grab.Grab(headers=headers)\n",
    "\n",
    "MOVIE_URLS = set()\n",
    "\n",
    "for x in [1,2,3,4,5]:\n",
    "    try:\n",
    "        g.go(url % x)\n",
    "        MOVIE_URLS.update([x for x in g.xpath_list('//a/@href') if x.startswith('/film/') and x.count('/')==3])\n",
    "    except Exception as e:\n",
    "        logging.error(str(e))\n",
    "        logging.error('Error on %s' % x)\n",
    "\n",
    "MOVIE_URLS = list(MOVIE_URLS)\n",
    "print 'Total movie urls: %d' % len(MOVIE_URLS)\n",
    "print 'Examples: \\n%s' % '\\n'.join(MOVIE_URLS[:5])"
   ]
  },
  {
   "cell_type": "code",
   "execution_count": 3,
   "metadata": {},
   "outputs": [],
   "source": [
    "def process_movie(x):\n",
    "    results = []\n",
    "    g = grab.Grab(headers=headers)\n",
    "    name = x.split('/')[2]\n",
    "    try:\n",
    "        i = 1\n",
    "        while True:\n",
    "            g.go('https://www.kinopoisk.ru%sord/rating/perpage/200/page/%d/#list' % (x, i), timeout=30)\n",
    "            reviews = g.xpath_list(\"//div[@class='reviewItem userReview']\")\n",
    "            if not reviews:\n",
    "                break\n",
    "            for y in reviews:\n",
    "                d = {'name': name}\n",
    "                if 'bad' in y.getchildren()[2].get('class', ''):\n",
    "                    d['sentiment'] = 'negative'\n",
    "                elif 'good' in y.getchildren()[2].get('class', ''):\n",
    "                    d['sentiment'] = 'positive'\n",
    "                else:\n",
    "                    d['sentiment'] = 'neutral'\n",
    "                d['text'] = y.getchildren()[2].getchildren()[2].text_content().replace('\\n', ' ')\\\n",
    "                    .replace('\\t', ' ').replace('\\r', ' ').strip()\n",
    "                results.append(d)\n",
    "            else:\n",
    "                break\n",
    "            i += 1\n",
    "    except Exception as e:\n",
    "        logging.error('%s %s' % (x, str(e)))\n",
    "    return results"
   ]
  },
  {
   "cell_type": "code",
   "execution_count": 4,
   "metadata": {},
   "outputs": [],
   "source": [
    "def chunks(l, n):\n",
    "    for i in range(0, len(l), n):\n",
    "        yield l[i:i + n]"
   ]
  },
  {
   "cell_type": "code",
   "execution_count": 6,
   "metadata": {},
   "outputs": [
    {
     "name": "stderr",
     "output_type": "stream",
     "text": [
      "66it [20:28, 16.80s/it]                        "
     ]
    },
    {
     "name": "stdout",
     "output_type": "stream",
     "text": [
      "Total 2457152 reviews\n",
      "Class balance: \n",
      "{\n",
      "    \"positive\": 118919, \n",
      "    \"neutral\": 20435, \n",
      "    \"negative\": 14595\n",
      "}\n",
      "CPU times: user 2min 8s, sys: 12 s, total: 2min 20s\n",
      "Wall time: 20min 28s\n"
     ]
    },
    {
     "name": "stderr",
     "output_type": "stream",
     "text": [
      "\n"
     ]
    }
   ],
   "source": [
    "%%time\n",
    "pool_size = 16\n",
    "with codecs.open('./data_mp.csv', 'w', encoding='utf-8') as f_out:\n",
    "    total_reviews = 0\n",
    "    class_counters = defaultdict(int)\n",
    "    for x in tqdm(chunks(MOVIE_URLS, pool_size), total=len(MOVIE_URLS) // pool_size):\n",
    "        pool = ThreadPool(pool_size)\n",
    "        res = pool.map(process_movie, x)\n",
    "        pool.close()\n",
    "        pool.join()\n",
    "        for y in res:\n",
    "            for z in y:\n",
    "                f_out.write('%s\\t%s\\t%s\\n' % (z['name'], z['sentiment'], z['text']))\n",
    "                total_reviews += len(res)\n",
    "                class_counters[z['sentiment']] += 1\n",
    "print 'Total %d reviews' % total_reviews\n",
    "print 'Class balance: \\n%s' % json.dumps(class_counters, indent=4) "
   ]
  },
  {
   "cell_type": "code",
   "execution_count": null,
   "metadata": {},
   "outputs": [],
   "source": []
  }
 ],
 "metadata": {
  "kernelspec": {
   "display_name": "Python 2",
   "language": "python",
   "name": "python2"
  },
  "language_info": {
   "codemirror_mode": {
    "name": "ipython",
    "version": 2
   },
   "file_extension": ".py",
   "mimetype": "text/x-python",
   "name": "python",
   "nbconvert_exporter": "python",
   "pygments_lexer": "ipython2",
   "version": "2.7.13"
  }
 },
 "nbformat": 4,
 "nbformat_minor": 2
}
