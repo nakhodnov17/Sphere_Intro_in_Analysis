{
 "cells": [
  {
   "cell_type": "code",
   "execution_count": 23,
   "metadata": {},
   "outputs": [],
   "source": [
    "import requests\n",
    "from selenium.webdriver import Chrome"
   ]
  },
  {
   "cell_type": "code",
   "execution_count": 24,
   "metadata": {},
   "outputs": [],
   "source": [
    "driver = Chrome('/Users/vladfedorenko/chromedriver')"
   ]
  },
  {
   "cell_type": "markdown",
   "metadata": {},
   "source": [
    "<a href='http://localhost:5000/js_test'>JavaScript Page</a>"
   ]
  },
  {
   "cell_type": "code",
   "execution_count": 28,
   "metadata": {},
   "outputs": [
    {
     "name": "stdout",
     "output_type": "stream",
     "text": [
      "from flask import Flask, jsonify, request\r\n",
      "app = Flask(__name__)\r\n",
      "\r\n",
      "@app.route('/js_test')\r\n",
      "def get_student_name():\r\n",
      "    return '<html><center><script>document.write(\"Hello, i`am js!\")</script></center></html>'\r\n",
      "\r\n",
      "if __name__ == '__main__':\r\n",
      "    app.run()\r\n"
     ]
    }
   ],
   "source": [
    "!cat js_server.py"
   ]
  },
  {
   "cell_type": "code",
   "execution_count": 29,
   "metadata": {},
   "outputs": [
    {
     "name": "stdout",
     "output_type": "stream",
     "text": [
      "from flask import Flask, jsonify, request\r\n",
      "app = Flask(__name__)\r\n",
      "\r\n",
      "@app.route('/student')\r\n",
      "def get_student_name():\r\n",
      "    return jsonify({'student': 'Fedorenko'})\r\n",
      "\r\n",
      "@app.route('/sentiment', methods=['POST'])\r\n",
      "def get_text_score():\r\n",
      "    try:\r\n",
      "        text = request.json.get('text', '')\r\n",
      "        score = 0.0\r\n",
      "    except Exception as e:\r\n",
      "        logging.error(str(e))\r\n",
      "        score = 0.0\r\n",
      "    return jsonify({'score': score})\r\n",
      "\r\n",
      "\r\n",
      "if __name__ == '__main__':\r\n",
      "    app.run()\r\n"
     ]
    }
   ],
   "source": [
    "!cat random_server.py"
   ]
  },
  {
   "cell_type": "code",
   "execution_count": 25,
   "metadata": {},
   "outputs": [
    {
     "name": "stdout",
     "output_type": "stream",
     "text": [
      "<html><center><script>document.write(\"Hello, i`am js!\")</script></center></html>\n"
     ]
    }
   ],
   "source": [
    "t = requests.get('http://localhost:5000/js_test')\n",
    "if t.status_code == 200:\n",
    "    print t.content\n",
    "else:\n",
    "    print 'Bad code'"
   ]
  },
  {
   "cell_type": "code",
   "execution_count": 26,
   "metadata": {},
   "outputs": [],
   "source": [
    "driver.get('http://localhost:5000/js_test')"
   ]
  },
  {
   "cell_type": "code",
   "execution_count": 27,
   "metadata": {},
   "outputs": [
    {
     "data": {
      "text/plain": [
       "u'Hello, i`am js!'"
      ]
     },
     "execution_count": 27,
     "metadata": {},
     "output_type": "execute_result"
    }
   ],
   "source": [
    "driver.find_element_by_tag_name('html').text"
   ]
  },
  {
   "cell_type": "code",
   "execution_count": null,
   "metadata": {},
   "outputs": [],
   "source": []
  }
 ],
 "metadata": {
  "kernelspec": {
   "display_name": "Python 2",
   "language": "python",
   "name": "python2"
  },
  "language_info": {
   "codemirror_mode": {
    "name": "ipython",
    "version": 2
   },
   "file_extension": ".py",
   "mimetype": "text/x-python",
   "name": "python",
   "nbconvert_exporter": "python",
   "pygments_lexer": "ipython2",
   "version": "2.7.14"
  }
 },
 "nbformat": 4,
 "nbformat_minor": 2
}
