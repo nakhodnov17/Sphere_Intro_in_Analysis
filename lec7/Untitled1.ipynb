{
 "cells": [
  {
   "cell_type": "code",
   "execution_count": 3,
   "metadata": {},
   "outputs": [
    {
     "name": "stdout",
     "output_type": "stream",
     "text": [
      "Collecting flask\n",
      "  Downloading Flask-0.12.2-py2.py3-none-any.whl (83kB)\n",
      "\u001b[K    100% |████████████████████████████████| 92kB 127kB/s ta 0:00:01\n",
      "\u001b[?25hCollecting itsdangerous>=0.21 (from flask)\n",
      "  Downloading itsdangerous-0.24.tar.gz (46kB)\n",
      "\u001b[K    100% |████████████████████████████████| 51kB 227kB/s ta 0:00:011\n",
      "\u001b[?25hRequirement already satisfied: Jinja2>=2.4 in /usr/local/lib/python2.7/dist-packages (from flask)\n",
      "Collecting Werkzeug>=0.7 (from flask)\n",
      "  Downloading Werkzeug-0.12.2-py2.py3-none-any.whl (312kB)\n",
      "\u001b[K    100% |████████████████████████████████| 317kB 188kB/s ta 0:00:01\n",
      "\u001b[?25hCollecting click>=2.0 (from flask)\n",
      "  Downloading click-6.7-py2.py3-none-any.whl (71kB)\n",
      "\u001b[K    100% |████████████████████████████████| 71kB 103kB/s a 0:00:01\n",
      "\u001b[?25hRequirement already satisfied: MarkupSafe>=0.23 in /usr/local/lib/python2.7/dist-packages (from Jinja2>=2.4->flask)\n",
      "Building wheels for collected packages: itsdangerous\n",
      "  Running setup.py bdist_wheel for itsdangerous ... \u001b[?25ldone\n",
      "\u001b[?25h  Stored in directory: /root/.cache/pip/wheels/fc/a8/66/24d655233c757e178d45dea2de22a04c6d92766abfb741129a\n",
      "Successfully built itsdangerous\n",
      "Installing collected packages: itsdangerous, Werkzeug, click, flask\n",
      "Successfully installed Werkzeug-0.12.2 click-6.7 flask-0.12.2 itsdangerous-0.24\n"
     ]
    }
   ],
   "source": [
    "!pip install flask"
   ]
  },
  {
   "cell_type": "code",
   "execution_count": null,
   "metadata": {},
   "outputs": [],
   "source": []
  }
 ],
 "metadata": {
  "kernelspec": {
   "display_name": "Python 2",
   "language": "python",
   "name": "python2"
  },
  "language_info": {
   "codemirror_mode": {
    "name": "ipython",
    "version": 2
   },
   "file_extension": ".py",
   "mimetype": "text/x-python",
   "name": "python",
   "nbconvert_exporter": "python",
   "pygments_lexer": "ipython2",
   "version": "2.7.14"
  }
 },
 "nbformat": 4,
 "nbformat_minor": 2
}
