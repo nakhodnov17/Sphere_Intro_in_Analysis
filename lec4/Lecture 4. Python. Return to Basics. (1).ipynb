{
 "cells": [
  {
   "cell_type": "raw",
   "metadata": {},
   "source": [
    "Слайды Python (А.Г Дьяконов)\n",
    "https://alexanderdyakonov.wordpress.com/2016/10/12/питон-python/\n",
    "\n",
    "Слайды Pandas (А.Г Дьяконов)\n",
    "https://alexanderdyakonov.wordpress.com/2015/11/06/знакомство-с-pandas-слайды/\n",
    "\n",
    "Лекции по Python (Сергей Лебедев): \n",
    "https://compscicenter.ru/courses/python/2015-autumn/"
   ]
  },
  {
   "cell_type": "markdown",
   "metadata": {
    "nbpresent": {
     "id": "3a7c68f6-8cc8-4475-9609-8f02f2fe2a41"
    }
   },
   "source": [
    "# Python. Типы."
   ]
  },
  {
   "cell_type": "code",
   "execution_count": 5,
   "metadata": {},
   "outputs": [
    {
     "data": {
      "text/html": [
       "<style>.container { width:90% !important; }</style>"
      ],
      "text/plain": [
       "<IPython.core.display.HTML object>"
      ]
     },
     "metadata": {},
     "output_type": "display_data"
    }
   ],
   "source": [
    "from IPython.core.display import display, HTML\n",
    "display(HTML(\"<style>.container { width:90% !important; }</style>\"))"
   ]
  },
  {
   "cell_type": "raw",
   "metadata": {
    "nbpresent": {
     "id": "e7f9cc96-1f27-4826-9424-3ae8471c454f"
    }
   },
   "source": [
    "Базовые типы:\n",
    "1. None\n",
    "2. Логические (True, False)\n",
    "3. Числовые (int, float, complex)\n",
    "4. Изменяемые коллекции (list, set, dict)\n",
    "5. Неизменяемые коллекции (tuple, frozenset)"
   ]
  },
  {
   "cell_type": "code",
   "execution_count": 6,
   "metadata": {
    "nbpresent": {
     "id": "56313b27-6ecd-4581-a757-a8872b4004cd"
    }
   },
   "outputs": [],
   "source": [
    "# a = None\n",
    "# b = None\n",
    "# print id(a) == id(b)\n",
    "# print id(5) == id(5)\n",
    "# print id(172) == id(272)"
   ]
  },
  {
   "cell_type": "markdown",
   "metadata": {
    "nbpresent": {
     "id": "2724e9b5-507e-4a55-af4f-1808a45219c0"
    }
   },
   "source": [
    "# Модуль Collections"
   ]
  },
  {
   "cell_type": "raw",
   "metadata": {
    "nbpresent": {
     "id": "4439e70a-f2ed-4d4b-b51a-5e21588f9ede"
    }
   },
   "source": [
    "1. Tuple-like (namedtuple)\n",
    "2. List-like (deque)\n",
    "3. Dict-like (Counter, OrderedDict, defaultdict)"
   ]
  },
  {
   "cell_type": "code",
   "execution_count": 7,
   "metadata": {
    "nbpresent": {
     "id": "dd7ceff4-9966-459d-a23a-9434177aa2ab"
    }
   },
   "outputs": [],
   "source": [
    "from collections import namedtuple, deque, \\\n",
    "                        Counter, OrderedDict, \\\n",
    "                        defaultdict"
   ]
  },
  {
   "cell_type": "code",
   "execution_count": null,
   "metadata": {},
   "outputs": [],
   "source": []
  },
  {
   "cell_type": "code",
   "execution_count": null,
   "metadata": {},
   "outputs": [],
   "source": []
  },
  {
   "cell_type": "markdown",
   "metadata": {
    "nbpresent": {
     "id": "fb19f2f3-b576-417a-a489-6728ffc77062"
    }
   },
   "source": [
    "# Коллекции"
   ]
  },
  {
   "cell_type": "markdown",
   "metadata": {
    "nbpresent": {
     "id": "082f4a14-4026-48bf-9aad-854ee6fdc3c0"
    }
   },
   "source": [
    "## Базовые методы"
   ]
  },
  {
   "cell_type": "raw",
   "metadata": {
    "nbpresent": {
     "id": "1c2a9dc6-5118-4602-804a-e9b5771efefa"
    }
   },
   "source": [
    "len - длина коллекции\n",
    "elem in collection, elem not in collection # разная сложность операций для разных collection\n",
    "del - удаление элемента"
   ]
  },
  {
   "cell_type": "code",
   "execution_count": 8,
   "metadata": {
    "nbpresent": {
     "id": "ad316f63-47fe-48e3-85e0-2057db2c308e"
    }
   },
   "outputs": [
    {
     "name": "stdout",
     "output_type": "stream",
     "text": [
      "() () (1,) (1, 1, 1)\n",
      "[] [1, 1] [[], []]\n",
      "set([])\n",
      "{} {}\n"
     ]
    }
   ],
   "source": [
    "print tuple(), (), (1,), (1,)*3\n",
    "print list(), [1] * 2, [[]] * 2\n",
    "print set()\n",
    "print dict(), {}"
   ]
  },
  {
   "cell_type": "code",
   "execution_count": 9,
   "metadata": {
    "nbpresent": {
     "id": "006b1ca0-5d9a-468f-aac4-a969998b998d"
    }
   },
   "outputs": [
    {
     "name": "stdout",
     "output_type": "stream",
     "text": [
      "[1, 3, 4, 5]\n",
      "True False False\n"
     ]
    }
   ],
   "source": [
    "a = [1, 2, 3, 4, 5]\n",
    "del a[1]\n",
    "print a\n",
    "print 1 in a, 2 in a, 'asd' in a"
   ]
  },
  {
   "cell_type": "code",
   "execution_count": 10,
   "metadata": {
    "nbpresent": {
     "id": "73551960-c564-4372-afe8-4c8ef0d07a6a"
    }
   },
   "outputs": [
    {
     "name": "stdout",
     "output_type": "stream",
     "text": [
      "{'key_2': 2}\n",
      "True False\n"
     ]
    }
   ],
   "source": [
    "d = {'key_1': 1, 'key_2': 2}\n",
    "del d['key_1']\n",
    "print d\n",
    "print 'key_2' in d, 2 in d"
   ]
  },
  {
   "cell_type": "code",
   "execution_count": null,
   "metadata": {},
   "outputs": [],
   "source": []
  },
  {
   "cell_type": "code",
   "execution_count": null,
   "metadata": {},
   "outputs": [],
   "source": []
  },
  {
   "cell_type": "markdown",
   "metadata": {
    "nbpresent": {
     "id": "4e1ccf15-142f-419a-aef8-9ad67f0a211b"
    }
   },
   "source": [
    "## Изменяемые vs Неизменяемые"
   ]
  },
  {
   "cell_type": "code",
   "execution_count": 11,
   "metadata": {
    "nbpresent": {
     "id": "d6f0b73d-c370-4dfc-9d38-ae637a7bb74b"
    }
   },
   "outputs": [
    {
     "name": "stdout",
     "output_type": "stream",
     "text": [
      "[1, 2, 3]\n",
      "[1, 2, 3, 4]\n",
      "Has id changed (list)? False\n",
      "----------------------------------------------------------------------------------------------------\n",
      "(1, 2, 3)\n",
      "(1, 2, 3, 4)\n",
      "Has id changed (tuple)? True\n"
     ]
    }
   ],
   "source": [
    "# Изменяемые (list, set, dict, deque, Counter, OrderedDict, defaultdict)\n",
    "\n",
    "lst = [1, 2, 3]\n",
    "prev_id = id(lst)\n",
    "print lst\n",
    "lst += [4]  # lst.append(4)\n",
    "new_id = id(lst)\n",
    "print lst\n",
    "print 'Has id changed (list)?', prev_id != new_id\n",
    "\n",
    "print '-' * 100\n",
    "\n",
    "# Неизменяемые (tuple, namedtuple)\n",
    "tpl = (1, 2, 3)\n",
    "prev_id = id(tpl)\n",
    "print tpl\n",
    "tpl += (4,)  # Запятая нужна! \n",
    "print tpl\n",
    "new_id = id(tpl)\n",
    "print 'Has id changed (tuple)?', prev_id != new_id"
   ]
  },
  {
   "cell_type": "markdown",
   "metadata": {},
   "source": [
    "## Сложность\n",
    "https://wiki.python.org/moin/TimeComplexity"
   ]
  },
  {
   "cell_type": "markdown",
   "metadata": {
    "nbpresent": {
     "id": "1d28cd53-1546-4e85-83f9-7e7b12a422e0"
    }
   },
   "source": [
    "# Tuple"
   ]
  },
  {
   "cell_type": "code",
   "execution_count": 12,
   "metadata": {
    "nbpresent": {
     "id": "c01ca1cc-f568-4815-8875-a000a8c79684"
    }
   },
   "outputs": [],
   "source": [
    "# http://stackoverflow.com/questions/6153348/time-complexity-of-tuple-in-python\n",
    "profile = (1, 'Pavel', 'Durov', 1984, 'Telegram')"
   ]
  },
  {
   "cell_type": "code",
   "execution_count": 13,
   "metadata": {
    "nbpresent": {
     "id": "0db904e1-42f4-421d-a105-c3becb5d508f"
    }
   },
   "outputs": [],
   "source": [
    "name = profile[1:3]"
   ]
  },
  {
   "cell_type": "code",
   "execution_count": 14,
   "metadata": {},
   "outputs": [
    {
     "data": {
      "text/plain": [
       "('Pavel', 'Durov')"
      ]
     },
     "execution_count": 14,
     "metadata": {},
     "output_type": "execute_result"
    }
   ],
   "source": [
    "name"
   ]
  },
  {
   "cell_type": "code",
   "execution_count": 15,
   "metadata": {},
   "outputs": [],
   "source": [
    "NAME_SLICE = slice(1, 3)"
   ]
  },
  {
   "cell_type": "code",
   "execution_count": 16,
   "metadata": {},
   "outputs": [
    {
     "name": "stdout",
     "output_type": "stream",
     "text": [
      "('Pavel', 'Durov')\n"
     ]
    }
   ],
   "source": [
    "print profile[NAME_SLICE]"
   ]
  },
  {
   "cell_type": "markdown",
   "metadata": {},
   "source": [
    "# Namedtuple"
   ]
  },
  {
   "cell_type": "code",
   "execution_count": 17,
   "metadata": {
    "scrolled": true
   },
   "outputs": [],
   "source": [
    "from collections import namedtuple\n",
    "fiels = ['vk_id', 'name', 'surname', 'year', 'work']\n",
    "VkProfile = namedtuple('VkProfile', fiels)"
   ]
  },
  {
   "cell_type": "code",
   "execution_count": 18,
   "metadata": {},
   "outputs": [],
   "source": [
    "profile_nt = VkProfile(vk_id=1, name='Pavel', \n",
    "                       surname='Durov', \n",
    "                       year=1984, \n",
    "                       work='Telegram')"
   ]
  },
  {
   "cell_type": "code",
   "execution_count": 19,
   "metadata": {},
   "outputs": [
    {
     "data": {
      "text/plain": [
       "('Pavel', 'Durov')"
      ]
     },
     "execution_count": 19,
     "metadata": {},
     "output_type": "execute_result"
    }
   ],
   "source": [
    "profile_nt.name, profile_nt.surname"
   ]
  },
  {
   "cell_type": "code",
   "execution_count": 20,
   "metadata": {},
   "outputs": [
    {
     "data": {
      "text/plain": [
       "VkProfile(vk_id=1, name='Pavel', surname='Durov', year=1984, work='new job')"
      ]
     },
     "execution_count": 20,
     "metadata": {},
     "output_type": "execute_result"
    }
   ],
   "source": [
    "profile_nt._replace(work='new job')"
   ]
  },
  {
   "cell_type": "code",
   "execution_count": 21,
   "metadata": {},
   "outputs": [
    {
     "data": {
      "text/plain": [
       "OrderedDict([('vk_id', 1),\n",
       "             ('name', 'Pavel'),\n",
       "             ('surname', 'Durov'),\n",
       "             ('year', 1984),\n",
       "             ('work', 'Telegram')])"
      ]
     },
     "execution_count": 21,
     "metadata": {},
     "output_type": "execute_result"
    }
   ],
   "source": [
    "profile_nt._asdict()"
   ]
  },
  {
   "cell_type": "code",
   "execution_count": null,
   "metadata": {},
   "outputs": [],
   "source": []
  },
  {
   "cell_type": "code",
   "execution_count": null,
   "metadata": {},
   "outputs": [],
   "source": []
  },
  {
   "cell_type": "code",
   "execution_count": null,
   "metadata": {},
   "outputs": [],
   "source": []
  },
  {
   "cell_type": "markdown",
   "metadata": {},
   "source": [
    "# List"
   ]
  },
  {
   "cell_type": "markdown",
   "metadata": {},
   "source": [
    "## Базовые операции"
   ]
  },
  {
   "cell_type": "code",
   "execution_count": 22,
   "metadata": {},
   "outputs": [
    {
     "name": "stdout",
     "output_type": "stream",
     "text": [
      "['start', 1]\n"
     ]
    }
   ],
   "source": [
    "a = ['start']\n",
    "\n",
    "# Добавление одного элемента в конец списка\n",
    "a.append(1)  # O(1)\n",
    "print a"
   ]
  },
  {
   "cell_type": "code",
   "execution_count": 23,
   "metadata": {},
   "outputs": [
    {
     "name": "stdout",
     "output_type": "stream",
     "text": [
      "['start', 1, 2, 3]\n"
     ]
    }
   ],
   "source": [
    "# Добавление k элементов в конец списка\n",
    "a.extend([2, 3])  # O(k)\n",
    "print a"
   ]
  },
  {
   "cell_type": "code",
   "execution_count": 24,
   "metadata": {},
   "outputs": [
    {
     "name": "stdout",
     "output_type": "stream",
     "text": [
      "start\n"
     ]
    }
   ],
   "source": [
    "# Доступ к элементу по индексу\n",
    "print a[0]  # O(1)"
   ]
  },
  {
   "cell_type": "code",
   "execution_count": 25,
   "metadata": {},
   "outputs": [
    {
     "name": "stdout",
     "output_type": "stream",
     "text": [
      "['start', 1, 'new_element', 2, 3]\n"
     ]
    }
   ],
   "source": [
    "# Вставка элемента внутрь списка\n",
    "a.insert(2, 'new_element')  # O(n)\n",
    "print a"
   ]
  },
  {
   "cell_type": "code",
   "execution_count": 26,
   "metadata": {},
   "outputs": [
    {
     "name": "stdout",
     "output_type": "stream",
     "text": [
      "1 ['start', 'new_element', 2, 3]\n",
      "1 ['start', 2, 3]\n"
     ]
    }
   ],
   "source": [
    "# Удаление элемента из списка по индексу\n",
    "ret = a.pop(1)  # O(n) - с вовзращением элемента\n",
    "print ret, a\n",
    "del a[1]  # O(n) - без вовзращения элемента\n",
    "print ret, a"
   ]
  },
  {
   "cell_type": "code",
   "execution_count": 27,
   "metadata": {},
   "outputs": [
    {
     "name": "stdout",
     "output_type": "stream",
     "text": [
      "[2, 3, 'start']\n",
      "['start', 2, 3]\n",
      "[2, 3, 'start']\n"
     ]
    }
   ],
   "source": [
    "# Сортировка https://en.wikipedia.org/wiki/Timsort\n",
    "print sorted(a)  # без изменения исходного списка\n",
    "print a\n",
    "a.sort()  # с изменением исходного списка\n",
    "print a  "
   ]
  },
  {
   "cell_type": "code",
   "execution_count": 28,
   "metadata": {},
   "outputs": [
    {
     "data": {
      "text/plain": [
       "True"
      ]
     },
     "execution_count": 28,
     "metadata": {},
     "output_type": "execute_result"
    }
   ],
   "source": [
    "# Наличие элемента в списке\n",
    "'start' in a  # O(n) !!!"
   ]
  },
  {
   "cell_type": "markdown",
   "metadata": {},
   "source": [
    "## Особенности копирования"
   ]
  },
  {
   "cell_type": "markdown",
   "metadata": {},
   "source": [
    "### Как не работает? "
   ]
  },
  {
   "cell_type": "code",
   "execution_count": 29,
   "metadata": {},
   "outputs": [
    {
     "data": {
      "text/plain": [
       "[[0], [0]]"
      ]
     },
     "execution_count": 29,
     "metadata": {},
     "output_type": "execute_result"
    }
   ],
   "source": [
    "x = [[0]] * 2\n",
    "x"
   ]
  },
  {
   "cell_type": "code",
   "execution_count": 30,
   "metadata": {},
   "outputs": [
    {
     "data": {
      "text/plain": [
       "[[1], [1]]"
      ]
     },
     "execution_count": 30,
     "metadata": {},
     "output_type": "execute_result"
    }
   ],
   "source": [
    "x[0][0] = 1\n",
    "x"
   ]
  },
  {
   "cell_type": "code",
   "execution_count": 31,
   "metadata": {},
   "outputs": [
    {
     "data": {
      "text/plain": [
       "True"
      ]
     },
     "execution_count": 31,
     "metadata": {},
     "output_type": "execute_result"
    }
   ],
   "source": [
    "id(x[0]) == id(x[1])"
   ]
  },
  {
   "cell_type": "code",
   "execution_count": 32,
   "metadata": {},
   "outputs": [
    {
     "data": {
      "text/plain": [
       "[[1], [1], [1], [1]]"
      ]
     },
     "execution_count": 32,
     "metadata": {},
     "output_type": "execute_result"
    }
   ],
   "source": [
    "y = x + x\n",
    "y"
   ]
  },
  {
   "cell_type": "code",
   "execution_count": 33,
   "metadata": {},
   "outputs": [
    {
     "data": {
      "text/plain": [
       "[[2], [2], [2], [2]]"
      ]
     },
     "execution_count": 33,
     "metadata": {},
     "output_type": "execute_result"
    }
   ],
   "source": [
    "y[0][0] = 2\n",
    "y"
   ]
  },
  {
   "cell_type": "markdown",
   "metadata": {},
   "source": [
    "### А как работает?"
   ]
  },
  {
   "cell_type": "code",
   "execution_count": 34,
   "metadata": {},
   "outputs": [
    {
     "name": "stdout",
     "output_type": "stream",
     "text": [
      "[[0], [0]]\n",
      "[[1], [0]]\n"
     ]
    }
   ],
   "source": [
    "x = [[0] for x in xrange(2)]\n",
    "print x\n",
    "x[0][0] = 1\n",
    "print x"
   ]
  },
  {
   "cell_type": "markdown",
   "metadata": {},
   "source": [
    "### Как скопировать список? "
   ]
  },
  {
   "cell_type": "code",
   "execution_count": 35,
   "metadata": {},
   "outputs": [
    {
     "data": {
      "text/plain": [
       "True"
      ]
     },
     "execution_count": 35,
     "metadata": {},
     "output_type": "execute_result"
    }
   ],
   "source": [
    "x = [1, 2, 3]\n",
    "y = x\n",
    "id(x) == id(y)"
   ]
  },
  {
   "cell_type": "code",
   "execution_count": 36,
   "metadata": {},
   "outputs": [
    {
     "name": "stdout",
     "output_type": "stream",
     "text": [
      "y=x[:] False\n",
      "y=list(x) False\n",
      "y=copy(x) False\n"
     ]
    }
   ],
   "source": [
    "y = x[:]\n",
    "print 'y=x[:]', id(x) == id(y)\n",
    "\n",
    "y = list(x)\n",
    "print 'y=list(x)', id(x) == id(y)\n",
    "\n",
    "from copy import copy\n",
    "y = copy(x)\n",
    "print 'y=copy(x)', id(x) == id(y)"
   ]
  },
  {
   "cell_type": "code",
   "execution_count": 37,
   "metadata": {},
   "outputs": [],
   "source": [
    "x = [[1, 2], [3, 4]]"
   ]
  },
  {
   "cell_type": "code",
   "execution_count": 38,
   "metadata": {},
   "outputs": [
    {
     "name": "stdout",
     "output_type": "stream",
     "text": [
      "y=x[:] True\n",
      "y=list(x) True\n",
      "y=copy(x) True\n"
     ]
    }
   ],
   "source": [
    "y = x[:]\n",
    "print 'y=x[:]', id(x[0]) == id(y[0])\n",
    "\n",
    "y = list(x)\n",
    "print 'y=list(x)', id(x[0]) == id(y[0])\n",
    "\n",
    "from copy import copy\n",
    "y = copy(x)\n",
    "print 'y=copy(x)', id(x[0]) == id(y[0])"
   ]
  },
  {
   "cell_type": "code",
   "execution_count": 39,
   "metadata": {},
   "outputs": [
    {
     "name": "stdout",
     "output_type": "stream",
     "text": [
      "False\n"
     ]
    }
   ],
   "source": [
    "from copy import deepcopy\n",
    "y = deepcopy(x)\n",
    "print id(x[0]) == id(y[0])"
   ]
  },
  {
   "cell_type": "markdown",
   "metadata": {},
   "source": [
    "# Deque"
   ]
  },
  {
   "cell_type": "code",
   "execution_count": 40,
   "metadata": {},
   "outputs": [],
   "source": [
    "from collections import deque"
   ]
  },
  {
   "cell_type": "code",
   "execution_count": 41,
   "metadata": {},
   "outputs": [],
   "source": [
    "deq = deque([1, 2, 3])"
   ]
  },
  {
   "cell_type": "code",
   "execution_count": 42,
   "metadata": {},
   "outputs": [
    {
     "name": "stdout",
     "output_type": "stream",
     "text": [
      "deque([1, 2, 3, 100])\n"
     ]
    }
   ],
   "source": [
    "deq.append(100)  # O(1)\n",
    "print deq"
   ]
  },
  {
   "cell_type": "code",
   "execution_count": 43,
   "metadata": {},
   "outputs": [
    {
     "name": "stdout",
     "output_type": "stream",
     "text": [
      "deque([-7, 1, 2, 3, 100])\n"
     ]
    }
   ],
   "source": [
    "deq.appendleft(-7)  # O(1)\n",
    "print deq"
   ]
  },
  {
   "cell_type": "code",
   "execution_count": 44,
   "metadata": {},
   "outputs": [
    {
     "ename": "TypeError",
     "evalue": "sequence index must be integer, not 'slice'",
     "output_type": "error",
     "traceback": [
      "\u001b[0;31m---------------------------------------------------------------------------\u001b[0m",
      "\u001b[0;31mTypeError\u001b[0m                                 Traceback (most recent call last)",
      "\u001b[0;32m<ipython-input-44-6bff5883968a>\u001b[0m in \u001b[0;36m<module>\u001b[0;34m()\u001b[0m\n\u001b[1;32m      1\u001b[0m \u001b[0;31m# Добавление и удаление элемента с обеих сторон очереди работает за константное время.\u001b[0m\u001b[0;34m\u001b[0m\u001b[0;34m\u001b[0m\u001b[0m\n\u001b[1;32m      2\u001b[0m \u001b[0;31m# Но нет slice!\u001b[0m\u001b[0;34m\u001b[0m\u001b[0;34m\u001b[0m\u001b[0m\n\u001b[0;32m----> 3\u001b[0;31m \u001b[0mdeq\u001b[0m\u001b[0;34m[\u001b[0m\u001b[0;36m1\u001b[0m\u001b[0;34m:\u001b[0m\u001b[0;36m3\u001b[0m\u001b[0;34m]\u001b[0m\u001b[0;34m\u001b[0m\u001b[0m\n\u001b[0m",
      "\u001b[0;31mTypeError\u001b[0m: sequence index must be integer, not 'slice'"
     ]
    }
   ],
   "source": [
    "# Добавление и удаление элемента с обеих сторон очереди работает за константное время.\n",
    "# Но нет slice! \n",
    "deq[1:3]"
   ]
  },
  {
   "cell_type": "markdown",
   "metadata": {},
   "source": [
    "### Очереди с ограниченной длинной можно создать с помощью параметра max_len\n",
    "deq = deque([1, 2, 3], maxlen=3)"
   ]
  },
  {
   "cell_type": "markdown",
   "metadata": {},
   "source": [
    "# Множества (set, frozenset)"
   ]
  },
  {
   "cell_type": "markdown",
   "metadata": {},
   "source": [
    "### Общее frozenset и set"
   ]
  },
  {
   "cell_type": "markdown",
   "metadata": {},
   "source": [
    "### В Python — это хеш-сет, то есть оно может содержать только элементы, которые можно захешировать (неизменяемые типы - хешируемые, изменяемые - нет) "
   ]
  },
  {
   "cell_type": "code",
   "execution_count": 45,
   "metadata": {},
   "outputs": [
    {
     "data": {
      "text/plain": [
       "{(2, 3)}"
      ]
     },
     "execution_count": 45,
     "metadata": {},
     "output_type": "execute_result"
    }
   ],
   "source": [
    "{(2, 3)}"
   ]
  },
  {
   "cell_type": "code",
   "execution_count": 46,
   "metadata": {},
   "outputs": [
    {
     "ename": "TypeError",
     "evalue": "unhashable type: 'list'",
     "output_type": "error",
     "traceback": [
      "\u001b[0;31m---------------------------------------------------------------------------\u001b[0m",
      "\u001b[0;31mTypeError\u001b[0m                                 Traceback (most recent call last)",
      "\u001b[0;32m<ipython-input-46-3ed13bb87dbe>\u001b[0m in \u001b[0;36m<module>\u001b[0;34m()\u001b[0m\n\u001b[0;32m----> 1\u001b[0;31m \u001b[0;34m{\u001b[0m\u001b[0;34m[\u001b[0m\u001b[0;36m2\u001b[0m\u001b[0;34m,\u001b[0m \u001b[0;36m3\u001b[0m\u001b[0;34m]\u001b[0m\u001b[0;34m}\u001b[0m\u001b[0;34m\u001b[0m\u001b[0m\n\u001b[0m",
      "\u001b[0;31mTypeError\u001b[0m: unhashable type: 'list'"
     ]
    }
   ],
   "source": [
    "{[2, 3]}"
   ]
  },
  {
   "cell_type": "code",
   "execution_count": 47,
   "metadata": {},
   "outputs": [
    {
     "ename": "TypeError",
     "evalue": "unhashable type: 'set'",
     "output_type": "error",
     "traceback": [
      "\u001b[0;31m---------------------------------------------------------------------------\u001b[0m",
      "\u001b[0;31mTypeError\u001b[0m                                 Traceback (most recent call last)",
      "\u001b[0;32m<ipython-input-47-d884fd62ba61>\u001b[0m in \u001b[0;36m<module>\u001b[0;34m()\u001b[0m\n\u001b[0;32m----> 1\u001b[0;31m \u001b[0;34m{\u001b[0m\u001b[0mset\u001b[0m\u001b[0;34m(\u001b[0m\u001b[0;34m)\u001b[0m\u001b[0;34m,\u001b[0m \u001b[0mset\u001b[0m\u001b[0;34m(\u001b[0m\u001b[0;34m)\u001b[0m\u001b[0;34m}\u001b[0m\u001b[0;34m\u001b[0m\u001b[0m\n\u001b[0m",
      "\u001b[0;31mTypeError\u001b[0m: unhashable type: 'set'"
     ]
    }
   ],
   "source": [
    "{set(), set()}"
   ]
  },
  {
   "cell_type": "code",
   "execution_count": 48,
   "metadata": {},
   "outputs": [
    {
     "data": {
      "text/plain": [
       "{frozenset()}"
      ]
     },
     "execution_count": 48,
     "metadata": {},
     "output_type": "execute_result"
    }
   ],
   "source": [
    "{frozenset(), frozenset()}"
   ]
  },
  {
   "cell_type": "code",
   "execution_count": 49,
   "metadata": {},
   "outputs": [],
   "source": [
    "elems = {1, 2, 'py'}"
   ]
  },
  {
   "cell_type": "code",
   "execution_count": 50,
   "metadata": {},
   "outputs": [
    {
     "name": "stdout",
     "output_type": "stream",
     "text": [
      "True\n",
      "True\n"
     ]
    }
   ],
   "source": [
    "print 1 in elems  # O(1) !!! \n",
    "print 'py' in elems  # O(1) !!!"
   ]
  },
  {
   "cell_type": "code",
   "execution_count": 51,
   "metadata": {},
   "outputs": [
    {
     "name": "stdout",
     "output_type": "stream",
     "text": [
      "set([1, 2, 'py', 4])\n",
      "set([1, 2, 'py', 4])\n"
     ]
    }
   ],
   "source": [
    "# Объединение\n",
    "print elems.union({1, 4})\n",
    "print elems | {1, 4}"
   ]
  },
  {
   "cell_type": "code",
   "execution_count": 52,
   "metadata": {},
   "outputs": [
    {
     "name": "stdout",
     "output_type": "stream",
     "text": [
      "set([1])\n",
      "set([1])\n"
     ]
    }
   ],
   "source": [
    "# Пересечение\n",
    "print elems.intersection({1, 4})\n",
    "print elems & {1, 4}"
   ]
  },
  {
   "cell_type": "code",
   "execution_count": 53,
   "metadata": {},
   "outputs": [
    {
     "name": "stdout",
     "output_type": "stream",
     "text": [
      "set([2, 'py'])\n",
      "set([2, 'py'])\n"
     ]
    }
   ],
   "source": [
    "# Разность\n",
    "print elems.difference({1, 4})\n",
    "print elems - {1, 4}"
   ]
  },
  {
   "cell_type": "code",
   "execution_count": 54,
   "metadata": {},
   "outputs": [
    {
     "name": "stdout",
     "output_type": "stream",
     "text": [
      "True\n",
      "True\n",
      "False\n"
     ]
    }
   ],
   "source": [
    "# Вложения\n",
    "a = {1, 2, 3}\n",
    "b = {2, 3}\n",
    "print a >= b\n",
    "print a > b\n",
    "print a < b"
   ]
  },
  {
   "cell_type": "markdown",
   "metadata": {},
   "source": [
    "### Только set"
   ]
  },
  {
   "cell_type": "code",
   "execution_count": 55,
   "metadata": {},
   "outputs": [],
   "source": [
    "# Добавление\n",
    "a.add(5)\n",
    "a.update([1, 5])\n",
    "# Удаление\n",
    "a.remove(5) # remove удаляет из множества существующий элемент или \n",
    "            # поднимает исключение, если элемент во множестве не содержится\n",
    "a.discard(5) # discard удаляет элемент, только если он содержится во множестве"
   ]
  },
  {
   "cell_type": "markdown",
   "metadata": {},
   "source": [
    "# Словари"
   ]
  },
  {
   "cell_type": "code",
   "execution_count": 56,
   "metadata": {},
   "outputs": [],
   "source": [
    "d = {'a': 1, 'b': 2, 'c': 5, 'd': 'yes'}\n",
    "d = dict(a=1, b=2, c=5, d='yes')"
   ]
  },
  {
   "cell_type": "code",
   "execution_count": 57,
   "metadata": {},
   "outputs": [
    {
     "data": {
      "text/plain": [
       "True"
      ]
     },
     "execution_count": 57,
     "metadata": {},
     "output_type": "execute_result"
    }
   ],
   "source": [
    "# Проверка наличия ключа в словаре\n",
    "'a' in d  # O(1) !!!"
   ]
  },
  {
   "cell_type": "code",
   "execution_count": 58,
   "metadata": {},
   "outputs": [
    {
     "name": "stdout",
     "output_type": "stream",
     "text": [
      "default\n",
      "default\n"
     ]
    },
    {
     "ename": "KeyError",
     "evalue": "'default'",
     "output_type": "error",
     "traceback": [
      "\u001b[0;31m---------------------------------------------------------------------------\u001b[0m",
      "\u001b[0;31mKeyError\u001b[0m                                  Traceback (most recent call last)",
      "\u001b[0;32m<ipython-input-58-480a777d0620>\u001b[0m in \u001b[0;36m<module>\u001b[0;34m()\u001b[0m\n\u001b[1;32m      4\u001b[0m \u001b[0;32mprint\u001b[0m \u001b[0md\u001b[0m\u001b[0;34m[\u001b[0m\u001b[0mkey\u001b[0m\u001b[0;34m]\u001b[0m \u001b[0;32mif\u001b[0m \u001b[0mkey\u001b[0m \u001b[0;32min\u001b[0m \u001b[0md\u001b[0m \u001b[0;32melse\u001b[0m \u001b[0mdefault_val\u001b[0m\u001b[0;34m\u001b[0m\u001b[0m\n\u001b[1;32m      5\u001b[0m \u001b[0;32mprint\u001b[0m \u001b[0md\u001b[0m\u001b[0;34m.\u001b[0m\u001b[0mget\u001b[0m\u001b[0;34m(\u001b[0m\u001b[0mkey\u001b[0m\u001b[0;34m,\u001b[0m \u001b[0mdefault_val\u001b[0m\u001b[0;34m)\u001b[0m\u001b[0;34m\u001b[0m\u001b[0m\n\u001b[0;32m----> 6\u001b[0;31m \u001b[0;32mprint\u001b[0m \u001b[0md\u001b[0m\u001b[0;34m[\u001b[0m\u001b[0mkey\u001b[0m\u001b[0;34m]\u001b[0m\u001b[0;34m\u001b[0m\u001b[0m\n\u001b[0m",
      "\u001b[0;31mKeyError\u001b[0m: 'default'"
     ]
    }
   ],
   "source": [
    "key = 'default'\n",
    "default_val = 'default'\n",
    "# Следующее равносильно\n",
    "print d[key] if key in d else default_val\n",
    "print d.get(key, default_val)\n",
    "print d[key]"
   ]
  },
  {
   "cell_type": "code",
   "execution_count": 59,
   "metadata": {},
   "outputs": [
    {
     "name": "stdout",
     "output_type": "stream",
     "text": [
      "['a', 'c', 'b', 'd']\n",
      "[1, 5, 2, 'yes']\n",
      "[('a', 1), ('c', 5), ('b', 2), ('d', 'yes')]\n"
     ]
    }
   ],
   "source": [
    "print d.keys()\n",
    "print d.values()\n",
    "print d.items()"
   ]
  },
  {
   "cell_type": "code",
   "execution_count": 60,
   "metadata": {},
   "outputs": [
    {
     "name": "stdout",
     "output_type": "stream",
     "text": [
      "{'a': 1, 'c': 5, 'b': 2, 'd': 'yes', 'z': 0}\n",
      "{'a': 1, 'c': 5, 'b': 2, 'd': 'yes', 'w': -2, 'y': -1, 'z': 0}\n"
     ]
    }
   ],
   "source": [
    "# Добавление в словарь\n",
    "d['z'] = 0\n",
    "print d\n",
    "d.update({'y': -1, 'w': -2})\n",
    "print d"
   ]
  },
  {
   "cell_type": "code",
   "execution_count": 61,
   "metadata": {},
   "outputs": [],
   "source": [
    "# Удаление из словаря\n",
    "del d['a']"
   ]
  },
  {
   "cell_type": "code",
   "execution_count": 62,
   "metadata": {},
   "outputs": [
    {
     "name": "stdout",
     "output_type": "stream",
     "text": [
      "c 5\n",
      "b 2\n",
      "d yes\n",
      "w -2\n",
      "y -1\n",
      "z 0\n"
     ]
    }
   ],
   "source": [
    "for k in d:  # тоже самое, что и d.keys()\n",
    "    print k, d[k]"
   ]
  },
  {
   "cell_type": "code",
   "execution_count": 63,
   "metadata": {},
   "outputs": [
    {
     "name": "stdout",
     "output_type": "stream",
     "text": [
      "({'a': 1, 'c': 4, 'b': 3}, {'a': 1, 'b': 2}, {'c': 4, 'b': 3})\n",
      "({'a': 1, 'c': 4, 'b': 3}, {'a': 1, 'b': 2}, {'c': 4, 'b': 3})\n"
     ]
    }
   ],
   "source": [
    "# Объединение словарей без их изменения\n",
    "dct1 = {'a':1, 'b':2}\n",
    "dct2 = {'b':3, 'c':4}\n",
    "union = dct1.copy()\n",
    "union.update(dct2)\n",
    "print(union, dct1, dct2)\n",
    "\n",
    "dct1 = {'a':1, 'b':2}\n",
    "dct2 = {'b':3, 'c':4}\n",
    "union  = dict(dct1, **dct2)  # про ** будет чуть позже\n",
    "print(union, dct1, dct2)"
   ]
  },
  {
   "cell_type": "code",
   "execution_count": 64,
   "metadata": {},
   "outputs": [
    {
     "name": "stdout",
     "output_type": "stream",
     "text": [
      "Success\n"
     ]
    }
   ],
   "source": [
    "# в Python нет switch, но есть словари) \n",
    "def fail_func():\n",
    "    print('Fail')\n",
    "    \n",
    "def success_func():\n",
    "    print('Success')\n",
    "    \n",
    "cases = {'case_1': fail_func, 'case_2': success_func}\n",
    "\n",
    "cases['case_2']()"
   ]
  },
  {
   "cell_type": "markdown",
   "metadata": {},
   "source": [
    "## OrderedDict"
   ]
  },
  {
   "cell_type": "code",
   "execution_count": 65,
   "metadata": {},
   "outputs": [],
   "source": [
    "from collections import OrderedDict\n",
    "# словарь с ключами, упорядоченными по времени добавления\n",
    "# Изменение значения по ключу не влияет на порядок ключей в словаре"
   ]
  },
  {
   "cell_type": "markdown",
   "metadata": {},
   "source": [
    "## Counter"
   ]
  },
  {
   "cell_type": "code",
   "execution_count": 66,
   "metadata": {},
   "outputs": [],
   "source": [
    "from collections import Counter"
   ]
  },
  {
   "cell_type": "code",
   "execution_count": 67,
   "metadata": {},
   "outputs": [
    {
     "data": {
      "text/plain": [
       "Counter({1: 3, 2: 1, 3: 1})"
      ]
     },
     "execution_count": 67,
     "metadata": {},
     "output_type": "execute_result"
    }
   ],
   "source": [
    "cnt = Counter([1, 1, 2, 1, 3])\n",
    "cnt"
   ]
  },
  {
   "cell_type": "code",
   "execution_count": 68,
   "metadata": {},
   "outputs": [
    {
     "data": {
      "text/plain": [
       "Counter({0: 1, 1: 3, 2: 1, 3: 1})"
      ]
     },
     "execution_count": 68,
     "metadata": {},
     "output_type": "execute_result"
    }
   ],
   "source": [
    "cnt[0] += 1  # Нет ошибки !!!\n",
    "cnt"
   ]
  },
  {
   "cell_type": "code",
   "execution_count": 69,
   "metadata": {},
   "outputs": [
    {
     "data": {
      "text/plain": [
       "[(1, 3), (0, 1)]"
      ]
     },
     "execution_count": 69,
     "metadata": {},
     "output_type": "execute_result"
    }
   ],
   "source": [
    "cnt.most_common(2)"
   ]
  },
  {
   "cell_type": "code",
   "execution_count": 70,
   "metadata": {},
   "outputs": [
    {
     "name": "stdout",
     "output_type": "stream",
     "text": [
      "Counter({'foo': 6, 'bar': 1})\n",
      "Counter({'foo': 2})\n",
      "Counter({'foo': 2})\n",
      "Counter({'foo': 4, 'bar': 2})\n"
     ]
    }
   ],
   "source": [
    "c1 = Counter(foo=4, bar=-1) \n",
    "c2 = Counter(foo=2, bar=2)\n",
    "print c1 + c2 # c1[k] + c2[k]\n",
    "print c1 - c2 # c1[k] - c2[k]\n",
    "print c1 & c2 # min(c1[k], c2[k])\n",
    "print c1 | c2 # max(c1[k], c2[k])"
   ]
  },
  {
   "cell_type": "code",
   "execution_count": null,
   "metadata": {},
   "outputs": [],
   "source": []
  },
  {
   "cell_type": "markdown",
   "metadata": {},
   "source": [
    "# Упаковка и распаковка"
   ]
  },
  {
   "cell_type": "code",
   "execution_count": 71,
   "metadata": {},
   "outputs": [],
   "source": [
    "def _max(x, y):\n",
    "    if x > y:\n",
    "        return x\n",
    "    return y"
   ]
  },
  {
   "cell_type": "code",
   "execution_count": 72,
   "metadata": {},
   "outputs": [
    {
     "data": {
      "text/plain": [
       "(3, 3)"
      ]
     },
     "execution_count": 72,
     "metadata": {},
     "output_type": "execute_result"
    }
   ],
   "source": [
    "_max(2, 3), _max(3, 2)"
   ]
  },
  {
   "cell_type": "code",
   "execution_count": 73,
   "metadata": {},
   "outputs": [],
   "source": [
    "def _max(*args):\n",
    "    print 'args:', args\n",
    "    max_x = float('-inf')\n",
    "    for x in args:\n",
    "        if x > max_x:\n",
    "            max_x = x\n",
    "    return max_x"
   ]
  },
  {
   "cell_type": "code",
   "execution_count": 74,
   "metadata": {},
   "outputs": [
    {
     "name": "stdout",
     "output_type": "stream",
     "text": [
      "args: (3, 1, 100, -2)\n"
     ]
    },
    {
     "data": {
      "text/plain": [
       "100"
      ]
     },
     "execution_count": 74,
     "metadata": {},
     "output_type": "execute_result"
    }
   ],
   "source": [
    "_max(3, 1, 100, -2)"
   ]
  },
  {
   "cell_type": "code",
   "execution_count": 75,
   "metadata": {},
   "outputs": [
    {
     "name": "stdout",
     "output_type": "stream",
     "text": [
      "args: (3, 1, 100, -2)\n"
     ]
    },
    {
     "data": {
      "text/plain": [
       "100"
      ]
     },
     "execution_count": 75,
     "metadata": {},
     "output_type": "execute_result"
    }
   ],
   "source": [
    "lst = [3, 1, 100, -2]\n",
    "_max(*lst)"
   ]
  },
  {
   "cell_type": "code",
   "execution_count": 76,
   "metadata": {},
   "outputs": [],
   "source": [
    "def return_x(**kwargs):\n",
    "    print 'kwargs:', kwargs\n",
    "    return kwargs.get('x')"
   ]
  },
  {
   "cell_type": "code",
   "execution_count": 77,
   "metadata": {},
   "outputs": [
    {
     "ename": "TypeError",
     "evalue": "return_x() takes exactly 0 arguments (1 given)",
     "output_type": "error",
     "traceback": [
      "\u001b[0;31m---------------------------------------------------------------------------\u001b[0m",
      "\u001b[0;31mTypeError\u001b[0m                                 Traceback (most recent call last)",
      "\u001b[0;32m<ipython-input-77-08f926b874f3>\u001b[0m in \u001b[0;36m<module>\u001b[0;34m()\u001b[0m\n\u001b[0;32m----> 1\u001b[0;31m \u001b[0mreturn_x\u001b[0m\u001b[0;34m(\u001b[0m\u001b[0;34m{\u001b[0m\u001b[0;34m'x'\u001b[0m\u001b[0;34m:\u001b[0m \u001b[0;36m100\u001b[0m\u001b[0;34m,\u001b[0m \u001b[0;34m'y'\u001b[0m\u001b[0;34m:\u001b[0m \u001b[0;36m50\u001b[0m\u001b[0;34m}\u001b[0m\u001b[0;34m)\u001b[0m\u001b[0;34m\u001b[0m\u001b[0m\n\u001b[0m",
      "\u001b[0;31mTypeError\u001b[0m: return_x() takes exactly 0 arguments (1 given)"
     ]
    }
   ],
   "source": [
    "return_x({'x': 100, 'y': 50})"
   ]
  },
  {
   "cell_type": "code",
   "execution_count": 78,
   "metadata": {},
   "outputs": [
    {
     "name": "stdout",
     "output_type": "stream",
     "text": [
      "kwargs: {'y': 50, 'x': 100}\n"
     ]
    },
    {
     "data": {
      "text/plain": [
       "100"
      ]
     },
     "execution_count": 78,
     "metadata": {},
     "output_type": "execute_result"
    }
   ],
   "source": [
    "return_x(**{'x': 100, 'y': 50})"
   ]
  },
  {
   "cell_type": "code",
   "execution_count": null,
   "metadata": {},
   "outputs": [],
   "source": []
  },
  {
   "cell_type": "markdown",
   "metadata": {},
   "source": [
    "# Itertools\n",
    "http://nvie.com/posts/iterators-vs-generators/"
   ]
  },
  {
   "cell_type": "code",
   "execution_count": 79,
   "metadata": {},
   "outputs": [
    {
     "name": "stdout",
     "output_type": "stream",
     "text": [
      "0\n",
      "1\n",
      "[2, 3, 4, 5, 6]\n"
     ]
    },
    {
     "ename": "StopIteration",
     "evalue": "",
     "output_type": "error",
     "traceback": [
      "\u001b[0;31m---------------------------------------------------------------------------\u001b[0m",
      "\u001b[0;31mStopIteration\u001b[0m                             Traceback (most recent call last)",
      "\u001b[0;32m<ipython-input-79-e8b311107df8>\u001b[0m in \u001b[0;36m<module>\u001b[0;34m()\u001b[0m\n\u001b[1;32m      6\u001b[0m \u001b[0;34m\u001b[0m\u001b[0m\n\u001b[1;32m      7\u001b[0m \u001b[0;34m\u001b[0m\u001b[0m\n\u001b[0;32m----> 8\u001b[0;31m \u001b[0;32mprint\u001b[0m \u001b[0;34m(\u001b[0m\u001b[0mnext\u001b[0m\u001b[0;34m(\u001b[0m\u001b[0mit\u001b[0m\u001b[0;34m)\u001b[0m\u001b[0;34m)\u001b[0m\u001b[0;34m\u001b[0m\u001b[0m\n\u001b[0m",
      "\u001b[0;31mStopIteration\u001b[0m: "
     ]
    }
   ],
   "source": [
    "it = iter(xrange(7))\n",
    "\n",
    "print (next(it))\n",
    "print (next(it))\n",
    "print ([x for x in it])\n",
    "\n",
    " \n",
    "print (next(it))"
   ]
  },
  {
   "cell_type": "code",
   "execution_count": 80,
   "metadata": {},
   "outputs": [
    {
     "ename": "TypeError",
     "evalue": "unsupported operand type(s) for +: 'listiterator' and 'listiterator'",
     "output_type": "error",
     "traceback": [
      "\u001b[0;31m---------------------------------------------------------------------------\u001b[0m",
      "\u001b[0;31mTypeError\u001b[0m                                 Traceback (most recent call last)",
      "\u001b[0;32m<ipython-input-80-fff1a08227b5>\u001b[0m in \u001b[0;36m<module>\u001b[0;34m()\u001b[0m\n\u001b[1;32m      1\u001b[0m \u001b[0ma\u001b[0m \u001b[0;34m=\u001b[0m \u001b[0miter\u001b[0m\u001b[0;34m(\u001b[0m\u001b[0;34m[\u001b[0m\u001b[0;36m1\u001b[0m\u001b[0;34m,\u001b[0m \u001b[0;36m2\u001b[0m\u001b[0;34m,\u001b[0m \u001b[0;36m3\u001b[0m\u001b[0;34m]\u001b[0m\u001b[0;34m)\u001b[0m\u001b[0;34m\u001b[0m\u001b[0m\n\u001b[1;32m      2\u001b[0m \u001b[0mb\u001b[0m \u001b[0;34m=\u001b[0m \u001b[0miter\u001b[0m\u001b[0;34m(\u001b[0m\u001b[0;34m[\u001b[0m\u001b[0;36m4\u001b[0m\u001b[0;34m,\u001b[0m \u001b[0;36m5\u001b[0m\u001b[0;34m]\u001b[0m\u001b[0;34m)\u001b[0m\u001b[0;34m\u001b[0m\u001b[0m\n\u001b[0;32m----> 3\u001b[0;31m \u001b[0ma\u001b[0m \u001b[0;34m+\u001b[0m \u001b[0mb\u001b[0m\u001b[0;34m\u001b[0m\u001b[0m\n\u001b[0m",
      "\u001b[0;31mTypeError\u001b[0m: unsupported operand type(s) for +: 'listiterator' and 'listiterator'"
     ]
    }
   ],
   "source": [
    "a = iter([1, 2, 3])\n",
    "b = iter([4, 5])\n",
    "a + b"
   ]
  },
  {
   "cell_type": "code",
   "execution_count": 81,
   "metadata": {},
   "outputs": [
    {
     "name": "stdout",
     "output_type": "stream",
     "text": [
      "1\n",
      "2\n",
      "3\n",
      "4\n",
      "5\n"
     ]
    }
   ],
   "source": [
    "# Объединение итераторов\n",
    "from itertools import chain\n",
    "for x in chain(a, b):\n",
    "    print x"
   ]
  },
  {
   "cell_type": "code",
   "execution_count": 82,
   "metadata": {},
   "outputs": [
    {
     "data": {
      "text/plain": [
       "([], [])"
      ]
     },
     "execution_count": 82,
     "metadata": {},
     "output_type": "execute_result"
    }
   ],
   "source": [
    "list(a), list(b)"
   ]
  },
  {
   "cell_type": "code",
   "execution_count": 83,
   "metadata": {},
   "outputs": [
    {
     "name": "stdout",
     "output_type": "stream",
     "text": [
      "2\n",
      "3\n"
     ]
    }
   ],
   "source": [
    "# Срезы\n",
    "from itertools import islice\n",
    "a = iter([1, 2, 3])\n",
    "b = iter([4, 5])\n",
    "\n",
    "for x in islice(a, 1, 3):\n",
    "    print x"
   ]
  },
  {
   "cell_type": "code",
   "execution_count": 84,
   "metadata": {},
   "outputs": [
    {
     "name": "stdout",
     "output_type": "stream",
     "text": [
      "[('A', 'B'), ('B', 'A')]\n"
     ]
    }
   ],
   "source": [
    "# перестановки\n",
    "from itertools import permutations\n",
    "print list(permutations('AB'))"
   ]
  },
  {
   "cell_type": "code",
   "execution_count": 85,
   "metadata": {},
   "outputs": [
    {
     "data": {
      "text/plain": [
       "[('A', 'B'), ('A', 'C'), ('B', 'C')]"
      ]
     },
     "execution_count": 85,
     "metadata": {},
     "output_type": "execute_result"
    }
   ],
   "source": [
    "# сочетания без повторений\n",
    "from itertools import combinations\n",
    "list(combinations('ABC', 2))"
   ]
  },
  {
   "cell_type": "code",
   "execution_count": 86,
   "metadata": {},
   "outputs": [
    {
     "data": {
      "text/plain": [
       "[('A', 'A'), ('A', 'B'), ('A', 'C'), ('B', 'B'), ('B', 'C'), ('C', 'C')]"
      ]
     },
     "execution_count": 86,
     "metadata": {},
     "output_type": "execute_result"
    }
   ],
   "source": [
    "# сочетания c повторениями\n",
    "from itertools import combinations_with_replacement\n",
    "list(combinations_with_replacement('ABC', 2))"
   ]
  },
  {
   "cell_type": "code",
   "execution_count": 87,
   "metadata": {},
   "outputs": [
    {
     "name": "stdout",
     "output_type": "stream",
     "text": [
      "(1, 3, 5)\n",
      "(1, 3, 6)\n",
      "(1, 4, 5)\n",
      "(1, 4, 6)\n",
      "(2, 3, 5)\n",
      "(2, 3, 6)\n",
      "(2, 4, 5)\n",
      "(2, 4, 6)\n"
     ]
    }
   ],
   "source": [
    "# декартово произведение\n",
    "from itertools import product\n",
    "\n",
    "# Например, когда не знаешь глубину вложенного цикла\n",
    "n = 3\n",
    "cycles = [\n",
    "    [1, 2],\n",
    "    [3, 4],\n",
    "    [5, 6]\n",
    "]\n",
    "for indecies in product(*cycles):\n",
    "    print indecies"
   ]
  },
  {
   "cell_type": "markdown",
   "metadata": {},
   "source": [
    "### GroupBy"
   ]
  },
  {
   "cell_type": "code",
   "execution_count": 88,
   "metadata": {},
   "outputs": [],
   "source": [
    "# данные key - value\n",
    "from itertools import groupby\n",
    "data = [\n",
    "    ('Factory A', 'day 1', 100),\n",
    "    ('Factory B', 'day 1', 200),\n",
    "    ('Factory C', 'day 1', 300),\n",
    "    \n",
    "    ('Factory A', 'day 2', 175),\n",
    "    ('Factory B', 'day 2', 115),\n",
    "    ('Factory C', 'day 2', 100),\n",
    "    \n",
    "    ('Factory A', 'day 3', 500),\n",
    "    ('Factory B', 'day 3', 800),\n",
    "    ('Factory C', 'day 3', 1000)\n",
    "]"
   ]
  },
  {
   "cell_type": "code",
   "execution_count": 89,
   "metadata": {},
   "outputs": [
    {
     "name": "stdout",
     "output_type": "stream",
     "text": [
      "day 1 <itertools._grouper object at 0x7fc368021a90>\n",
      "day 2 <itertools._grouper object at 0x7fc368021a10>\n",
      "day 3 <itertools._grouper object at 0x7fc368021a90>\n"
     ]
    }
   ],
   "source": [
    "# Сколько товара все фабрики произвели за каждый день\n",
    "for (key, values) in groupby(data, lambda x: x[1]):\n",
    "    print key, values"
   ]
  },
  {
   "cell_type": "code",
   "execution_count": 90,
   "metadata": {},
   "outputs": [
    {
     "name": "stdout",
     "output_type": "stream",
     "text": [
      "day 1 600\n",
      "day 2 390\n",
      "day 3 2300\n"
     ]
    }
   ],
   "source": [
    "for (key, values) in groupby(data, lambda x: x[1]):\n",
    "    s = 0\n",
    "    for v in values:\n",
    "        s += v[2]\n",
    "    print key, s"
   ]
  },
  {
   "cell_type": "code",
   "execution_count": 91,
   "metadata": {},
   "outputs": [
    {
     "name": "stdout",
     "output_type": "stream",
     "text": [
      "day 1 600\n",
      "day 2 390\n",
      "day 3 2300\n"
     ]
    }
   ],
   "source": [
    "for (key, values) in groupby(data, lambda x: x[1]):\n",
    "    print key, sum([v[2] for v in values])"
   ]
  },
  {
   "cell_type": "code",
   "execution_count": 92,
   "metadata": {},
   "outputs": [
    {
     "name": "stdout",
     "output_type": "stream",
     "text": [
      "Factory A 100\n",
      "Factory B 200\n",
      "Factory C 300\n",
      "Factory A 175\n",
      "Factory B 115\n",
      "Factory C 100\n",
      "Factory A 500\n",
      "Factory B 800\n",
      "Factory C 1000\n"
     ]
    }
   ],
   "source": [
    "# Сколько каждая фабрика произвела за все дни\n",
    "for (key, values) in groupby(data, lambda x: x[0]):\n",
    "    print key, sum([v[2] for v in values])"
   ]
  },
  {
   "cell_type": "code",
   "execution_count": 93,
   "metadata": {},
   "outputs": [],
   "source": [
    "data = sorted(data)"
   ]
  },
  {
   "cell_type": "code",
   "execution_count": 94,
   "metadata": {},
   "outputs": [
    {
     "data": {
      "text/plain": [
       "[('Factory A', 'day 1', 100),\n",
       " ('Factory A', 'day 2', 175),\n",
       " ('Factory A', 'day 3', 500),\n",
       " ('Factory B', 'day 1', 200),\n",
       " ('Factory B', 'day 2', 115),\n",
       " ('Factory B', 'day 3', 800),\n",
       " ('Factory C', 'day 1', 300),\n",
       " ('Factory C', 'day 2', 100),\n",
       " ('Factory C', 'day 3', 1000)]"
      ]
     },
     "execution_count": 94,
     "metadata": {},
     "output_type": "execute_result"
    }
   ],
   "source": [
    "data"
   ]
  },
  {
   "cell_type": "code",
   "execution_count": 95,
   "metadata": {},
   "outputs": [
    {
     "name": "stdout",
     "output_type": "stream",
     "text": [
      "Factory A 775\n",
      "Factory B 1115\n",
      "Factory C 1400\n"
     ]
    }
   ],
   "source": [
    "for (key, values) in groupby(data, lambda x: x[0]):\n",
    "    print key, sum([v[2] for v in values])"
   ]
  },
  {
   "cell_type": "code",
   "execution_count": null,
   "metadata": {},
   "outputs": [],
   "source": []
  },
  {
   "cell_type": "markdown",
   "metadata": {},
   "source": [
    "# Задания"
   ]
  },
  {
   "cell_type": "raw",
   "metadata": {},
   "source": [
    "GroupBy\n",
    "0. Загрузите titanic dataset\n",
    "1. Выясните среднюю стоимость (Fare) для каждого из классов (с помощью groupby в pandas)\n",
    "2. Сделайте тоже самое, но уже с помощью groupby из itertools\n",
    "\n",
    "Permutations\n",
    "4. Посчитайте число перестановок из n элементов (n=2..7), в которых ни один элемент не находится на своем изначальном месте. \n",
    "\n",
    "Collections\n",
    "5. Посчитайте частоты триграмм в тексте. \n",
    "В качестве текста возьмем имена и фамилии из titanic dataset (text = ' '.join(data.Name.str.lower().values)). \n",
    "\n",
    "Генераторы \n",
    "6. Создайте генератор, возвращающий числа из последовательности Фибоначчи"
   ]
  },
  {
   "cell_type": "code",
   "execution_count": 97,
   "metadata": {},
   "outputs": [],
   "source": [
    "from sklearn import datasets\n",
    "import pandas as pd\n",
    "import numpy as np"
   ]
  },
  {
   "cell_type": "code",
   "execution_count": 98,
   "metadata": {},
   "outputs": [],
   "source": [
    "tit_df = pd.read_csv('titanic.csv')"
   ]
  },
  {
   "cell_type": "code",
   "execution_count": 99,
   "metadata": {},
   "outputs": [
    {
     "data": {
      "text/html": [
       "<div>\n",
       "<style>\n",
       "    .dataframe thead tr:only-child th {\n",
       "        text-align: right;\n",
       "    }\n",
       "\n",
       "    .dataframe thead th {\n",
       "        text-align: left;\n",
       "    }\n",
       "\n",
       "    .dataframe tbody tr th {\n",
       "        vertical-align: top;\n",
       "    }\n",
       "</style>\n",
       "<table border=\"1\" class=\"dataframe\">\n",
       "  <thead>\n",
       "    <tr style=\"text-align: right;\">\n",
       "      <th></th>\n",
       "      <th>PassengerId</th>\n",
       "      <th>Survived</th>\n",
       "      <th>Pclass</th>\n",
       "      <th>Name</th>\n",
       "      <th>Sex</th>\n",
       "      <th>Age</th>\n",
       "      <th>SibSp</th>\n",
       "      <th>Parch</th>\n",
       "      <th>Ticket</th>\n",
       "      <th>Fare</th>\n",
       "      <th>Cabin</th>\n",
       "      <th>Embarked</th>\n",
       "    </tr>\n",
       "  </thead>\n",
       "  <tbody>\n",
       "    <tr>\n",
       "      <th>0</th>\n",
       "      <td>1</td>\n",
       "      <td>0</td>\n",
       "      <td>3</td>\n",
       "      <td>Braund, Mr. Owen Harris</td>\n",
       "      <td>male</td>\n",
       "      <td>22.0</td>\n",
       "      <td>1</td>\n",
       "      <td>0</td>\n",
       "      <td>A/5 21171</td>\n",
       "      <td>7.2500</td>\n",
       "      <td>NaN</td>\n",
       "      <td>S</td>\n",
       "    </tr>\n",
       "    <tr>\n",
       "      <th>1</th>\n",
       "      <td>2</td>\n",
       "      <td>1</td>\n",
       "      <td>1</td>\n",
       "      <td>Cumings, Mrs. John Bradley (Florence Briggs Th...</td>\n",
       "      <td>female</td>\n",
       "      <td>38.0</td>\n",
       "      <td>1</td>\n",
       "      <td>0</td>\n",
       "      <td>PC 17599</td>\n",
       "      <td>71.2833</td>\n",
       "      <td>C85</td>\n",
       "      <td>C</td>\n",
       "    </tr>\n",
       "    <tr>\n",
       "      <th>2</th>\n",
       "      <td>3</td>\n",
       "      <td>1</td>\n",
       "      <td>3</td>\n",
       "      <td>Heikkinen, Miss. Laina</td>\n",
       "      <td>female</td>\n",
       "      <td>26.0</td>\n",
       "      <td>0</td>\n",
       "      <td>0</td>\n",
       "      <td>STON/O2. 3101282</td>\n",
       "      <td>7.9250</td>\n",
       "      <td>NaN</td>\n",
       "      <td>S</td>\n",
       "    </tr>\n",
       "    <tr>\n",
       "      <th>3</th>\n",
       "      <td>4</td>\n",
       "      <td>1</td>\n",
       "      <td>1</td>\n",
       "      <td>Futrelle, Mrs. Jacques Heath (Lily May Peel)</td>\n",
       "      <td>female</td>\n",
       "      <td>35.0</td>\n",
       "      <td>1</td>\n",
       "      <td>0</td>\n",
       "      <td>113803</td>\n",
       "      <td>53.1000</td>\n",
       "      <td>C123</td>\n",
       "      <td>S</td>\n",
       "    </tr>\n",
       "    <tr>\n",
       "      <th>4</th>\n",
       "      <td>5</td>\n",
       "      <td>0</td>\n",
       "      <td>3</td>\n",
       "      <td>Allen, Mr. William Henry</td>\n",
       "      <td>male</td>\n",
       "      <td>35.0</td>\n",
       "      <td>0</td>\n",
       "      <td>0</td>\n",
       "      <td>373450</td>\n",
       "      <td>8.0500</td>\n",
       "      <td>NaN</td>\n",
       "      <td>S</td>\n",
       "    </tr>\n",
       "  </tbody>\n",
       "</table>\n",
       "</div>"
      ],
      "text/plain": [
       "   PassengerId  Survived  Pclass  \\\n",
       "0            1         0       3   \n",
       "1            2         1       1   \n",
       "2            3         1       3   \n",
       "3            4         1       1   \n",
       "4            5         0       3   \n",
       "\n",
       "                                                Name     Sex   Age  SibSp  \\\n",
       "0                            Braund, Mr. Owen Harris    male  22.0      1   \n",
       "1  Cumings, Mrs. John Bradley (Florence Briggs Th...  female  38.0      1   \n",
       "2                             Heikkinen, Miss. Laina  female  26.0      0   \n",
       "3       Futrelle, Mrs. Jacques Heath (Lily May Peel)  female  35.0      1   \n",
       "4                           Allen, Mr. William Henry    male  35.0      0   \n",
       "\n",
       "   Parch            Ticket     Fare Cabin Embarked  \n",
       "0      0         A/5 21171   7.2500   NaN        S  \n",
       "1      0          PC 17599  71.2833   C85        C  \n",
       "2      0  STON/O2. 3101282   7.9250   NaN        S  \n",
       "3      0            113803  53.1000  C123        S  \n",
       "4      0            373450   8.0500   NaN        S  "
      ]
     },
     "execution_count": 99,
     "metadata": {},
     "output_type": "execute_result"
    }
   ],
   "source": [
    "tit_df.head()"
   ]
  },
  {
   "cell_type": "code",
   "execution_count": 113,
   "metadata": {},
   "outputs": [
    {
     "data": {
      "text/plain": [
       "Pclass\n",
       "1    84.154687\n",
       "2    20.662183\n",
       "3    13.675550\n",
       "Name: Fare, dtype: float64"
      ]
     },
     "execution_count": 113,
     "metadata": {},
     "output_type": "execute_result"
    }
   ],
   "source": [
    "tit_df.groupby(['Pclass'])['Fare'].agg('mean')"
   ]
  },
  {
   "cell_type": "code",
   "execution_count": 147,
   "metadata": {},
   "outputs": [
    {
     "data": {
      "text/plain": [
       "{'Age': 5,\n",
       " 'Cabin': 10,\n",
       " 'Embarked': 11,\n",
       " 'Fare': 9,\n",
       " 'Name': 3,\n",
       " 'Parch': 7,\n",
       " 'PassengerId': 0,\n",
       " 'Pclass': 2,\n",
       " 'Sex': 4,\n",
       " 'SibSp': 6,\n",
       " 'Survived': 1,\n",
       " 'Ticket': 8}"
      ]
     },
     "execution_count": 147,
     "metadata": {},
     "output_type": "execute_result"
    }
   ],
   "source": [
    "tit_lst = list(tit_df.values)\n",
    "dts_lst = list(tit_df.columns.values)\n",
    "dts_dct = dict(zip(dts_lst, [x for x in range(0, len(dts_lst))]))"
   ]
  },
  {
   "cell_type": "code",
   "execution_count": 148,
   "metadata": {},
   "outputs": [],
   "source": [
    "tit_lst = sorted(tit_lst, key=lambda x: x[dts_dct['Pclass']])"
   ]
  },
  {
   "cell_type": "code",
   "execution_count": 150,
   "metadata": {},
   "outputs": [
    {
     "name": "stdout",
     "output_type": "stream",
     "text": [
      "1 84.1546875\n",
      "2 20.6621831522\n",
      "3 13.6755501018\n"
     ]
    }
   ],
   "source": [
    "for (key, values) in groupby(tit_lst, lambda x: x[dts_dct['Pclass']]):\n",
    "    print key, np.mean([v[dts_dct['Fare']] for v in values])"
   ]
  },
  {
   "cell_type": "code",
   "execution_count": 151,
   "metadata": {},
   "outputs": [
    {
     "name": "stdout",
     "output_type": "stream",
     "text": [
      "Counter({7: 1854, 6: 265, 5: 44, 4: 9, 3: 2, 2: 1})\n"
     ]
    }
   ],
   "source": [
    "def check(X):\n",
    "    for (ind, val) in enumerate(X):\n",
    "        if val == ind:\n",
    "            return False\n",
    "    return True\n",
    "\n",
    "cnt = Counter()\n",
    "for n in xrange(1, 8):\n",
    "    for x in permutations(xrange(0, n)):\n",
    "        if(check(x)):\n",
    "            cnt[n] += 1\n",
    "print cnt"
   ]
  },
  {
   "cell_type": "code",
   "execution_count": 153,
   "metadata": {},
   "outputs": [],
   "source": [
    "text = ' '.join(tit_df.Name.str.lower().values)"
   ]
  },
  {
   "cell_type": "code",
   "execution_count": 164,
   "metadata": {},
   "outputs": [],
   "source": [
    "txt_cnt = Counter()\n",
    "def get_tr(ind, txt):\n",
    "    return txt[ind : ind + 2]\n",
    "\n",
    "\n",
    "for i in range(0, len(text) - 2):\n",
    "    txt_cnt[get_tr(i, text)] += 1"
   ]
  },
  {
   "cell_type": "code",
   "execution_count": 170,
   "metadata": {},
   "outputs": [
    {
     "data": {
      "text/plain": [
       "[129, 156, 32, 226, 6, 108, 100, 141, 204, 67]"
      ]
     },
     "execution_count": 170,
     "metadata": {},
     "output_type": "execute_result"
    }
   ],
   "source": [
    "txt_cnt.values()[:10]"
   ]
  },
  {
   "cell_type": "code",
   "execution_count": 171,
   "metadata": {},
   "outputs": [],
   "source": [
    "def fib():\n",
    "    pr, cr = 0, 1\n",
    "    while(True):\n",
    "        yield cr\n",
    "        pr, cr = cr, pr + cr"
   ]
  },
  {
   "cell_type": "code",
   "execution_count": 172,
   "metadata": {},
   "outputs": [
    {
     "data": {
      "text/plain": [
       "[1, 1, 2, 3, 5, 8, 13, 21, 34, 55]"
      ]
     },
     "execution_count": 172,
     "metadata": {},
     "output_type": "execute_result"
    }
   ],
   "source": [
    "f = fib()\n",
    "list(islice(f, 0, 10))"
   ]
  },
  {
   "cell_type": "code",
   "execution_count": null,
   "metadata": {},
   "outputs": [],
   "source": []
  }
 ],
 "metadata": {
  "anaconda-cloud": {},
  "kernelspec": {
   "display_name": "Python 2",
   "language": "python",
   "name": "python2"
  },
  "language_info": {
   "codemirror_mode": {
    "name": "ipython",
    "version": 2
   },
   "file_extension": ".py",
   "mimetype": "text/x-python",
   "name": "python",
   "nbconvert_exporter": "python",
   "pygments_lexer": "ipython2",
   "version": "2.7.13"
  },
  "nbpresent": {
   "slides": {
    "0418cdc3-12ff-4f46-bb13-8f771adb3e0f": {
     "id": "0418cdc3-12ff-4f46-bb13-8f771adb3e0f",
     "prev": "d3ec77fb-4682-432d-895d-9af544a76072",
     "regions": {
      "9aa3bed0-7070-4c29-9475-f293244e071d": {
       "attrs": {
        "height": 0.8,
        "width": 0.8,
        "x": 0.1,
        "y": 0.1
       },
       "content": {
        "cell": "4e1ccf15-142f-419a-aef8-9ad67f0a211b",
        "part": "whole"
       },
       "id": "9aa3bed0-7070-4c29-9475-f293244e071d"
      }
     }
    },
    "125c8087-67d5-4eb1-9f4c-65148fdb7fc0": {
     "id": "125c8087-67d5-4eb1-9f4c-65148fdb7fc0",
     "prev": "b4b39983-346b-48dd-b10e-3de0beb1419c",
     "regions": {
      "90c2b18f-74c8-4dfb-b5ea-f0af4db4e926": {
       "attrs": {
        "height": 0.8,
        "width": 0.8,
        "x": 0.1,
        "y": 0.1
       },
       "content": {
        "cell": "fc46c90d-22d3-4bd1-814e-c0a0d1d018b3",
        "part": "whole"
       },
       "id": "90c2b18f-74c8-4dfb-b5ea-f0af4db4e926"
      }
     }
    },
    "22184188-0e07-4106-bf70-cad870b8e999": {
     "id": "22184188-0e07-4106-bf70-cad870b8e999",
     "prev": "a813e83a-e535-4d28-bd5d-2e697cc9b857",
     "regions": {
      "2258d059-6744-4225-bc4f-d570b90d7004": {
       "attrs": {
        "height": 0.8,
        "width": 0.8,
        "x": 0.1,
        "y": 0.1
       },
       "content": {
        "cell": "cde18491-2f7f-4814-9221-cd07569c50a5",
        "part": "whole"
       },
       "id": "2258d059-6744-4225-bc4f-d570b90d7004"
      }
     }
    },
    "39103cc8-453c-4f29-92f3-01674cf40147": {
     "id": "39103cc8-453c-4f29-92f3-01674cf40147",
     "prev": "d2e4c00d-6465-4bc5-87d0-eb01d0332de0",
     "regions": {
      "03100b8c-5da8-478d-9241-07ecd88dd130": {
       "attrs": {
        "height": 0.8,
        "width": 0.8,
        "x": 0.1,
        "y": 0.1
       },
       "content": {
        "cell": "dd7ceff4-9966-459d-a23a-9434177aa2ab",
        "part": "whole"
       },
       "id": "03100b8c-5da8-478d-9241-07ecd88dd130"
      }
     }
    },
    "45f14e54-1904-4291-9ecd-51b492795969": {
     "id": "45f14e54-1904-4291-9ecd-51b492795969",
     "prev": "6e39972d-c69f-4cba-ac51-6d42ffd1a163",
     "regions": {
      "c03e2056-4c6c-4ccc-a909-a83ac9179e81": {
       "attrs": {
        "height": 0.8,
        "width": 0.8,
        "x": 0.1,
        "y": 0.1
       },
       "content": {
        "cell": "e7f9cc96-1f27-4826-9424-3ae8471c454f",
        "part": "whole"
       },
       "id": "c03e2056-4c6c-4ccc-a909-a83ac9179e81"
      }
     }
    },
    "482f9f76-e15b-467b-b549-6e2f482a3fd2": {
     "id": "482f9f76-e15b-467b-b549-6e2f482a3fd2",
     "prev": "22184188-0e07-4106-bf70-cad870b8e999",
     "regions": {
      "42a795bd-b957-4add-a5ed-cddeb707010d": {
       "attrs": {
        "height": 0.8,
        "width": 0.8,
        "x": 0.1,
        "y": 0.1
       },
       "content": {
        "cell": "c7e17e41-790a-4e53-bbe3-b8e21ab166fc",
        "part": "whole"
       },
       "id": "42a795bd-b957-4add-a5ed-cddeb707010d"
      }
     }
    },
    "4ed31606-8664-4569-8aa7-84b87e383986": {
     "id": "4ed31606-8664-4569-8aa7-84b87e383986",
     "prev": "39103cc8-453c-4f29-92f3-01674cf40147",
     "regions": {
      "d3917fdf-919c-483d-9e9f-21c8fd7d8f83": {
       "attrs": {
        "height": 0.8,
        "width": 0.8,
        "x": 0.1,
        "y": 0.1
       },
       "content": {
        "cell": "fb19f2f3-b576-417a-a489-6728ffc77062",
        "part": "whole"
       },
       "id": "d3917fdf-919c-483d-9e9f-21c8fd7d8f83"
      }
     }
    },
    "579cf841-e28b-44f6-95a6-a92a28c6b447": {
     "id": "579cf841-e28b-44f6-95a6-a92a28c6b447",
     "prev": "a6131291-1c74-40a1-8749-7e6f11053fa6",
     "regions": {
      "5e242642-7608-4383-894d-71c4e41b09d4": {
       "attrs": {
        "height": 0.8,
        "width": 0.8,
        "x": 0.1,
        "y": 0.1
       },
       "content": {
        "cell": "1c2a9dc6-5118-4602-804a-e9b5771efefa",
        "part": "whole"
       },
       "id": "5e242642-7608-4383-894d-71c4e41b09d4"
      }
     }
    },
    "5a8d1277-26be-4e47-8a45-94d06a811e70": {
     "id": "5a8d1277-26be-4e47-8a45-94d06a811e70",
     "prev": "0418cdc3-12ff-4f46-bb13-8f771adb3e0f",
     "regions": {
      "c6708770-a139-435c-b9cb-61df5e56b242": {
       "attrs": {
        "height": 0.8,
        "width": 0.8,
        "x": 0.1,
        "y": 0.1
       },
       "content": {
        "cell": "d6f0b73d-c370-4dfc-9d38-ae637a7bb74b",
        "part": "whole"
       },
       "id": "c6708770-a139-435c-b9cb-61df5e56b242"
      }
     }
    },
    "6e39972d-c69f-4cba-ac51-6d42ffd1a163": {
     "id": "6e39972d-c69f-4cba-ac51-6d42ffd1a163",
     "prev": null,
     "regions": {
      "dcd67d73-9949-4fd4-b547-8629bb0f62dc": {
       "attrs": {
        "height": 0.8,
        "width": 0.8,
        "x": 0.1,
        "y": 0.1
       },
       "content": {
        "cell": "3a7c68f6-8cc8-4475-9609-8f02f2fe2a41",
        "part": "whole"
       },
       "id": "dcd67d73-9949-4fd4-b547-8629bb0f62dc"
      }
     }
    },
    "7a97c574-edca-4034-9790-960ba89d28a6": {
     "id": "7a97c574-edca-4034-9790-960ba89d28a6",
     "prev": "4ed31606-8664-4569-8aa7-84b87e383986",
     "regions": {
      "94609cdb-f243-451d-9633-081d7759c317": {
       "attrs": {
        "height": 0.8,
        "width": 0.8,
        "x": 0.1,
        "y": 0.1
       },
       "content": {
        "cell": "082f4a14-4026-48bf-9aad-854ee6fdc3c0",
        "part": "whole"
       },
       "id": "94609cdb-f243-451d-9633-081d7759c317"
      }
     }
    },
    "92c72a60-ff7f-4db0-9de4-bb1fb36ed0aa": {
     "id": "92c72a60-ff7f-4db0-9de4-bb1fb36ed0aa",
     "prev": "bd84fe79-9fdd-41b9-9a93-588b1839edbe",
     "regions": {
      "4f0865e7-c4c3-4404-b119-4c1af07ffadb": {
       "attrs": {
        "height": 0.8,
        "width": 0.8,
        "x": 0.1,
        "y": 0.1
       },
       "content": {
        "cell": "1d28cd53-1546-4e85-83f9-7e7b12a422e0",
        "part": "whole"
       },
       "id": "4f0865e7-c4c3-4404-b119-4c1af07ffadb"
      }
     }
    },
    "9fa58131-0927-4e9f-a3ff-63abb49ca76d": {
     "id": "9fa58131-0927-4e9f-a3ff-63abb49ca76d",
     "prev": "d5536cc0-c211-4c25-914e-0c821de98782",
     "regions": {
      "4258753f-4ac9-4869-b24a-26fb2ea1749b": {
       "attrs": {
        "height": 0.8,
        "width": 0.8,
        "x": 0.1,
        "y": 0.1
       },
       "content": {
        "cell": "2724e9b5-507e-4a55-af4f-1808a45219c0",
        "part": "whole"
       },
       "id": "4258753f-4ac9-4869-b24a-26fb2ea1749b"
      }
     }
    },
    "a6131291-1c74-40a1-8749-7e6f11053fa6": {
     "id": "a6131291-1c74-40a1-8749-7e6f11053fa6",
     "prev": "7a97c574-edca-4034-9790-960ba89d28a6",
     "regions": {
      "79300c61-e56d-4cf1-ac60-b3b4aa45bd4e": {
       "attrs": {
        "height": 0.8,
        "width": 0.8,
        "x": 0.1,
        "y": 0.1
       },
       "content": {
        "cell": "ad316f63-47fe-48e3-85e0-2057db2c308e",
        "part": "whole"
       },
       "id": "79300c61-e56d-4cf1-ac60-b3b4aa45bd4e"
      }
     }
    },
    "a813e83a-e535-4d28-bd5d-2e697cc9b857": {
     "id": "a813e83a-e535-4d28-bd5d-2e697cc9b857",
     "prev": "e486a112-0de9-4e2a-a2ea-1a49eabd1089",
     "regions": {
      "2be9bc8b-0eb5-493d-a9db-2e58520bc0ad": {
       "attrs": {
        "height": 0.8,
        "width": 0.8,
        "x": 0.1,
        "y": 0.1
       },
       "content": {
        "cell": "0db904e1-42f4-421d-a105-c3becb5d508f",
        "part": "whole"
       },
       "id": "2be9bc8b-0eb5-493d-a9db-2e58520bc0ad"
      }
     }
    },
    "b4b39983-346b-48dd-b10e-3de0beb1419c": {
     "id": "b4b39983-346b-48dd-b10e-3de0beb1419c",
     "prev": "482f9f76-e15b-467b-b549-6e2f482a3fd2",
     "regions": {
      "f1cfff61-d22a-4523-b9ab-51cd2c3f5fbf": {
       "attrs": {
        "height": 0.8,
        "width": 0.8,
        "x": 0.1,
        "y": 0.1
       },
       "content": {
        "cell": "a0aea618-6933-4b02-926b-245008e2a529",
        "part": "whole"
       },
       "id": "f1cfff61-d22a-4523-b9ab-51cd2c3f5fbf"
      }
     }
    },
    "bd84fe79-9fdd-41b9-9a93-588b1839edbe": {
     "id": "bd84fe79-9fdd-41b9-9a93-588b1839edbe",
     "prev": "5a8d1277-26be-4e47-8a45-94d06a811e70",
     "regions": {
      "b2058c11-5fc7-43ab-986a-f1f719b6e516": {
       "attrs": {
        "height": 0.8,
        "width": 0.8,
        "x": 0.1,
        "y": 0.1
       },
       "content": {
        "cell": "35373abd-fbe7-42c7-8c3e-3318e943739d",
        "part": "whole"
       },
       "id": "b2058c11-5fc7-43ab-986a-f1f719b6e516"
      }
     }
    },
    "d2e4c00d-6465-4bc5-87d0-eb01d0332de0": {
     "id": "d2e4c00d-6465-4bc5-87d0-eb01d0332de0",
     "prev": "9fa58131-0927-4e9f-a3ff-63abb49ca76d",
     "regions": {
      "8bf0c41b-4eaa-4f7d-9e28-be7625665d0a": {
       "attrs": {
        "height": 0.8,
        "width": 0.8,
        "x": 0.1,
        "y": 0.1
       },
       "content": {
        "cell": "4439e70a-f2ed-4d4b-b51a-5e21588f9ede",
        "part": "whole"
       },
       "id": "8bf0c41b-4eaa-4f7d-9e28-be7625665d0a"
      }
     }
    },
    "d3ec77fb-4682-432d-895d-9af544a76072": {
     "id": "d3ec77fb-4682-432d-895d-9af544a76072",
     "prev": "f4c71479-96b2-4b83-94b7-e6a197e7882c",
     "regions": {
      "2cf1cd40-93e3-4b85-89db-5f1e8f82ddb4": {
       "attrs": {
        "height": 0.8,
        "width": 0.8,
        "x": 0.1,
        "y": 0.1
       },
       "content": {
        "cell": "73551960-c564-4372-afe8-4c8ef0d07a6a",
        "part": "whole"
       },
       "id": "2cf1cd40-93e3-4b85-89db-5f1e8f82ddb4"
      }
     }
    },
    "d5536cc0-c211-4c25-914e-0c821de98782": {
     "id": "d5536cc0-c211-4c25-914e-0c821de98782",
     "prev": "45f14e54-1904-4291-9ecd-51b492795969",
     "regions": {
      "67c5fa97-5d30-4990-a0bd-812639129d7f": {
       "attrs": {
        "height": 0.8,
        "width": 0.8,
        "x": 0.1,
        "y": 0.1
       },
       "content": {
        "cell": "56313b27-6ecd-4581-a757-a8872b4004cd",
        "part": "whole"
       },
       "id": "67c5fa97-5d30-4990-a0bd-812639129d7f"
      }
     }
    },
    "e486a112-0de9-4e2a-a2ea-1a49eabd1089": {
     "id": "e486a112-0de9-4e2a-a2ea-1a49eabd1089",
     "prev": "92c72a60-ff7f-4db0-9de4-bb1fb36ed0aa",
     "regions": {
      "7a76cfca-11cb-4c0c-b996-e902dee76ebb": {
       "attrs": {
        "height": 0.8,
        "width": 0.8,
        "x": 0.1,
        "y": 0.1
       },
       "content": {
        "cell": "c01ca1cc-f568-4815-8875-a000a8c79684",
        "part": "whole"
       },
       "id": "7a76cfca-11cb-4c0c-b996-e902dee76ebb"
      }
     }
    },
    "f4c71479-96b2-4b83-94b7-e6a197e7882c": {
     "id": "f4c71479-96b2-4b83-94b7-e6a197e7882c",
     "prev": "579cf841-e28b-44f6-95a6-a92a28c6b447",
     "regions": {
      "e6468d2a-1409-4f04-9b16-35fee05ff14b": {
       "attrs": {
        "height": 0.8,
        "width": 0.8,
        "x": 0.1,
        "y": 0.1
       },
       "content": {
        "cell": "006b1ca0-5d9a-468f-aac4-a969998b998d",
        "part": "whole"
       },
       "id": "e6468d2a-1409-4f04-9b16-35fee05ff14b"
      }
     }
    }
   },
   "themes": {}
  }
 },
 "nbformat": 4,
 "nbformat_minor": 1
}
