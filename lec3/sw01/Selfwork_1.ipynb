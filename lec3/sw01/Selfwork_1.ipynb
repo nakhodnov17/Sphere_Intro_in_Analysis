{
 "cells": [
  {
   "cell_type": "markdown",
   "metadata": {},
   "source": [
    "** СЗ 1 **:\n",
    "- считать movie_metadata.csv;\n",
    "- перевести поле duration в часы;\n",
    "- создать словарь {dtype: имя\\_переменной};\n",
    "- создать новый df, где индекс - это фамилия режиссера (предположим, что у режиссера фамилия всегда с позиции 1 в name.split(' ', 1));\n",
    "- создать сводную таблицу: по каждому режиссеру вывести количество фильмов, средний и максимальный рейтинг на imdb, средний бюджет и количество фильмов снятых в 2012,2013,...,2015 годах"
   ]
  },
  {
   "cell_type": "code",
   "execution_count": null,
   "metadata": {
    "collapsed": true
   },
   "outputs": [],
   "source": []
  }
 ],
 "metadata": {
  "kernelspec": {
   "display_name": "Python 2",
   "language": "python",
   "name": "python2"
  },
  "language_info": {
   "codemirror_mode": {
    "name": "ipython",
    "version": 2
   },
   "file_extension": ".py",
   "mimetype": "text/x-python",
   "name": "python",
   "nbconvert_exporter": "python",
   "pygments_lexer": "ipython2",
   "version": "2.7.10"
  }
 },
 "nbformat": 4,
 "nbformat_minor": 2
}
