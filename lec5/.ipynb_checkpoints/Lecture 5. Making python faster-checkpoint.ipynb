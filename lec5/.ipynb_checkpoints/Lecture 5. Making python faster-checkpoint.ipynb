{
 "cells": [
  {
   "cell_type": "code",
   "execution_count": 1,
   "metadata": {},
   "outputs": [
    {
     "ename": "ImportError",
     "evalue": "No module named line_profiler",
     "output_type": "error",
     "traceback": [
      "\u001b[0;31m---------------------------------------------------------------------------\u001b[0m",
      "\u001b[0;31mImportError\u001b[0m                               Traceback (most recent call last)",
      "\u001b[0;32m<ipython-input-1-e64ff4d013b4>\u001b[0m in \u001b[0;36m<module>\u001b[0;34m()\u001b[0m\n\u001b[1;32m      1\u001b[0m \u001b[0;32mimport\u001b[0m \u001b[0mpandas\u001b[0m \u001b[0;32mas\u001b[0m \u001b[0mpd\u001b[0m\u001b[0;34m\u001b[0m\u001b[0m\n\u001b[1;32m      2\u001b[0m \u001b[0;32mimport\u001b[0m \u001b[0mnumpy\u001b[0m \u001b[0;32mas\u001b[0m \u001b[0mnp\u001b[0m\u001b[0;34m\u001b[0m\u001b[0m\n\u001b[0;32m----> 3\u001b[0;31m \u001b[0;32mfrom\u001b[0m \u001b[0mline_profiler\u001b[0m \u001b[0;32mimport\u001b[0m \u001b[0mLineProfiler\u001b[0m\u001b[0;34m\u001b[0m\u001b[0m\n\u001b[0m\u001b[1;32m      4\u001b[0m \u001b[0;34m\u001b[0m\u001b[0m\n\u001b[1;32m      5\u001b[0m \u001b[0mget_ipython\u001b[0m\u001b[0;34m(\u001b[0m\u001b[0;34m)\u001b[0m\u001b[0;34m.\u001b[0m\u001b[0mmagic\u001b[0m\u001b[0;34m(\u001b[0m\u001b[0;34mu'load_ext Cython'\u001b[0m\u001b[0;34m)\u001b[0m\u001b[0;34m\u001b[0m\u001b[0m\n",
      "\u001b[0;31mImportError\u001b[0m: No module named line_profiler"
     ]
    }
   ],
   "source": [
    "import pandas as pd\n",
    "import numpy as np\n",
    "from line_profiler import LineProfiler\n",
    "\n",
    "%load_ext Cython"
   ]
  },
  {
   "cell_type": "code",
   "execution_count": null,
   "metadata": {
    "scrolled": true
   },
   "outputs": [],
   "source": [
    "# https://www.kaggle.com/apratim87/housingdata\n",
    "data = pd.read_csv('housingdata.csv', header=None)"
   ]
  },
  {
   "cell_type": "code",
   "execution_count": null,
   "metadata": {
    "scrolled": true
   },
   "outputs": [],
   "source": [
    "data = (data - data.mean()) / data.std()"
   ]
  },
  {
   "cell_type": "code",
   "execution_count": null,
   "metadata": {},
   "outputs": [],
   "source": [
    "def profile_print(func_to_call, *args):\n",
    "    profiler = LineProfiler()\n",
    "    profiler.add_function(func_to_call)\n",
    "    profiler.runcall(func_to_call, *args)\n",
    "    profiler.print_stats()"
   ]
  },
  {
   "cell_type": "code",
   "execution_count": null,
   "metadata": {},
   "outputs": [],
   "source": [
    "X = data.values[:, :-1]\n",
    "y = data.values[:, -1:]"
   ]
  },
  {
   "cell_type": "markdown",
   "metadata": {},
   "source": [
    "У нас есть выборка $X \\in R^{n\\times d}, y\\in R^n$, состоящая из $n$ объектов. Каждый из $n$ объектов описывается вектором из $d$ признаков (строка матрицы $X$) и для каждого объекта мы знаем значение целевой переменной $y$. В данной задаче по некоторым параметрам мы хотим научиться предсказывать стоимость квадратного метра жилья.\n",
    "\n",
    "\n",
    "Предположим, что для объекта $i$ мы можем описать $y_i$ линейной комбинацией $x_i$ с некоторыми весами $w$, где w, x_i - вектора размера $d \\times 1$, а $y$ - вещественное число.\n",
    "$$y_i \\sim <w,x_i>$$\n",
    "\n",
    "\n",
    "Методом наименьших квадратов найдем веса $w$.\n",
    "$$ J(w) = \\frac{1}{n} \\sum_{i=1}^n (<w,x_i> - y_i)^2$$\n",
    "$$ J(w) \\rightarrow \\min_w $$\n",
    "\n",
    "Минимум данного функционала будем искать методом градиентного спуска (те будет идти по направлению противоположному градиенту):\n",
    "$$ w_j = w_j - \\alpha \\frac{\\partial}{\\partial w_j}J(w) $$\n",
    "$$ \\frac{\\partial}{\\partial w_j}J(w)  = \\frac{2}{n}  \\sum_{i=1}^n (<w, x_i> - y_i)\\cdot x_i^j $$"
   ]
  },
  {
   "cell_type": "code",
   "execution_count": null,
   "metadata": {},
   "outputs": [],
   "source": [
    "from sklearn.linear_model import LinearRegression\n",
    "lr = LinearRegression()\n",
    "lr = lr.fit(X, y)\n",
    "print ((y - lr.predict(X)) ** 2).mean()"
   ]
  },
  {
   "cell_type": "code",
   "execution_count": null,
   "metadata": {},
   "outputs": [],
   "source": [
    "N_ITER = 300"
   ]
  },
  {
   "cell_type": "code",
   "execution_count": null,
   "metadata": {},
   "outputs": [],
   "source": [
    "def gradient_decent_python_naive(X, y, n_iter=100, alpha=0.1):\n",
    "    n_objects, n_features = X.shape[0], X.shape[1]\n",
    "    w = np.random.rand(n_features)\n",
    "    w_old = np.random.rand(n_features)\n",
    "    for iteration in xrange(n_iter):\n",
    "        np.copyto(w_old, w)\n",
    "        for f in xrange(n_features):\n",
    "            gradient = 0\n",
    "            for obj in xrange(n_objects):\n",
    "                gradient += ((X[obj, :] * w).sum() - y[obj, 0]) * X[obj, f] \n",
    "            gradient = gradient * 2 / n_objects\n",
    "            w[f] = w_old[f] - alpha * gradient\n",
    "    return w.reshape(-1, 1)"
   ]
  },
  {
   "cell_type": "code",
   "execution_count": null,
   "metadata": {},
   "outputs": [],
   "source": [
    "w = gradient_decent_python_naive(X, y, n_iter=N_ITER)\n",
    "print ((y - X.dot(w)) ** 2).mean()"
   ]
  },
  {
   "cell_type": "code",
   "execution_count": null,
   "metadata": {},
   "outputs": [],
   "source": [
    "%%timeit\n",
    "gradient_decent_python_naive(X, y, n_iter=N_ITER)"
   ]
  },
  {
   "cell_type": "code",
   "execution_count": null,
   "metadata": {},
   "outputs": [],
   "source": [
    "profile_print(gradient_decent_python_naive, X, y, N_ITER)"
   ]
  },
  {
   "cell_type": "code",
   "execution_count": null,
   "metadata": {},
   "outputs": [],
   "source": []
  },
  {
   "cell_type": "code",
   "execution_count": null,
   "metadata": {},
   "outputs": [],
   "source": []
  },
  {
   "cell_type": "code",
   "execution_count": null,
   "metadata": {},
   "outputs": [],
   "source": [
    "#  поменяли порядок циклов по объектам и признакам\n",
    "\n",
    "def gradient_decent_python(X, y, n_iter=100, alpha=0.1):\n",
    "    n_objects, n_features = X.shape[0], X.shape[1]\n",
    "    w = np.random.rand(n_features)\n",
    "    w_old = np.random.rand(n_features)\n",
    "    for iteration in xrange(n_iter):\n",
    "        np.copyto(w_old, w)\n",
    "        gradient = np.zeros(n_features)\n",
    "        for obj in xrange(n_objects):\n",
    "            for f in xrange(n_features):\n",
    "                gradient[f] += ((X[obj, :] * w).sum() - y[obj, 0]) * X[obj, f] \n",
    "        gradient = gradient * 2 / n_objects\n",
    "        w = w_old - alpha * gradient\n",
    "    return w.reshape(-1, 1)"
   ]
  },
  {
   "cell_type": "code",
   "execution_count": null,
   "metadata": {},
   "outputs": [],
   "source": [
    "w = gradient_decent_python(X, y, n_iter=N_ITER)\n",
    "print ((y - X.dot(w)) ** 2).mean()"
   ]
  },
  {
   "cell_type": "code",
   "execution_count": null,
   "metadata": {},
   "outputs": [],
   "source": [
    "%%timeit\n",
    "gradient_decent_python(X, y, n_iter=N_ITER)"
   ]
  },
  {
   "cell_type": "code",
   "execution_count": null,
   "metadata": {},
   "outputs": [],
   "source": [
    "profile_print(gradient_decent_python, X, y, N_ITER)"
   ]
  },
  {
   "cell_type": "code",
   "execution_count": null,
   "metadata": {},
   "outputs": [],
   "source": []
  },
  {
   "cell_type": "code",
   "execution_count": null,
   "metadata": {},
   "outputs": [],
   "source": []
  },
  {
   "cell_type": "code",
   "execution_count": null,
   "metadata": {},
   "outputs": [],
   "source": [
    "#  вынесем подсчет ошибки\n",
    "\n",
    "def gradient_decent_python_faster(X, y, n_iter=100, alpha=0.1):\n",
    "    n_objects, n_features = X.shape[0], X.shape[1]\n",
    "    w = np.random.rand(n_features)\n",
    "    w_old = np.random.rand(n_features)\n",
    "    for iteration in xrange(n_iter):\n",
    "        np.copyto(w_old, w)\n",
    "        gradient = np.zeros(n_features)\n",
    "        for obj in xrange(n_objects):\n",
    "            diff = (X[obj, :] * w).sum() - y[obj, 0]  # changed\n",
    "            for f in xrange(n_features):\n",
    "                gradient[f] += diff * X[obj, f] \n",
    "        gradient = gradient * 2 / n_objects\n",
    "        w = w_old - alpha * gradient\n",
    "    return w.reshape(-1, 1)"
   ]
  },
  {
   "cell_type": "code",
   "execution_count": null,
   "metadata": {},
   "outputs": [],
   "source": [
    "w = gradient_decent_python_faster(X, y, n_iter=N_ITER)\n",
    "print ((y - X.dot(w)) ** 2).mean()"
   ]
  },
  {
   "cell_type": "code",
   "execution_count": null,
   "metadata": {},
   "outputs": [],
   "source": [
    "%%timeit\n",
    "gradient_decent_python_faster(X, y, n_iter=N_ITER)"
   ]
  },
  {
   "cell_type": "code",
   "execution_count": null,
   "metadata": {},
   "outputs": [],
   "source": [
    "profile_print(gradient_decent_python_faster, X, y, N_ITER)"
   ]
  },
  {
   "cell_type": "code",
   "execution_count": null,
   "metadata": {},
   "outputs": [],
   "source": []
  },
  {
   "cell_type": "code",
   "execution_count": null,
   "metadata": {},
   "outputs": [],
   "source": [
    "from numba import jit"
   ]
  },
  {
   "cell_type": "code",
   "execution_count": null,
   "metadata": {},
   "outputs": [],
   "source": [
    "# numba !!!\n",
    "\n",
    "@jit(nopython=True)\n",
    "def gradient_decent_numba(X, y, n_iter=100, alpha=0.1):\n",
    "    n_objects, n_features = X.shape[0], X.shape[1]\n",
    "    w = np.random.rand(n_features)\n",
    "    w_old = np.random.rand(n_features)\n",
    "    for iteration in xrange(n_iter):\n",
    "        for f in xrange(n_features):  # changed\n",
    "            w_old[f] = w[f]\n",
    "        gradient = np.zeros(n_features)\n",
    "        for obj in xrange(n_objects):\n",
    "            diff = (X[obj, :] * w).sum() - y[obj, 0]\n",
    "            for f in xrange(n_features):\n",
    "                gradient[f] += diff * X[obj, f] \n",
    "        gradient = gradient * 2 / n_objects\n",
    "        w = w_old - alpha * gradient\n",
    "    return w.reshape(-1, 1)"
   ]
  },
  {
   "cell_type": "code",
   "execution_count": null,
   "metadata": {},
   "outputs": [],
   "source": [
    "w = gradient_decent_numba(X, y, n_iter=N_ITER)\n",
    "print ((y - X.dot(w)) ** 2).mean()"
   ]
  },
  {
   "cell_type": "code",
   "execution_count": null,
   "metadata": {},
   "outputs": [],
   "source": [
    "%%timeit\n",
    "gradient_decent_numba(X, y, n_iter=N_ITER)"
   ]
  },
  {
   "cell_type": "code",
   "execution_count": null,
   "metadata": {},
   "outputs": [],
   "source": []
  },
  {
   "cell_type": "code",
   "execution_count": null,
   "metadata": {},
   "outputs": [],
   "source": []
  },
  {
   "cell_type": "code",
   "execution_count": null,
   "metadata": {},
   "outputs": [],
   "source": [
    "# уберем цикл по объектам\n",
    "\n",
    "def gradient_decent_numpy(X, y, n_iter=100, alpha=0.1):\n",
    "    n_objects, n_features = X.shape[0], X.shape[1]\n",
    "    w = np.random.rand(n_features, 1)  # changed\n",
    "    w_old = np.random.rand(n_features, 1)  # changed\n",
    "    for iteration in xrange(n_iter):\n",
    "        np.copyto(w_old, w)\n",
    "        gradient = np.zeros((n_features, 1))  # chaned\n",
    "        diff = X.dot(w) - y\n",
    "        for f in xrange(n_features):\n",
    "            gradient[f, 0] = ((X.dot(w) - y) * X[:, f:f+1]).sum()\n",
    "        gradient = gradient * 2 / n_objects\n",
    "        w = w_old - alpha * gradient\n",
    "    return w  # changed"
   ]
  },
  {
   "cell_type": "code",
   "execution_count": null,
   "metadata": {},
   "outputs": [],
   "source": [
    "w = gradient_decent_numpy(X, y, n_iter=N_ITER)\n",
    "print ((y - X.dot(w)) ** 2).mean()"
   ]
  },
  {
   "cell_type": "code",
   "execution_count": null,
   "metadata": {},
   "outputs": [],
   "source": [
    "%%timeit\n",
    "gradient_decent_numpy(X, y, n_iter=N_ITER)"
   ]
  },
  {
   "cell_type": "code",
   "execution_count": null,
   "metadata": {},
   "outputs": [],
   "source": [
    "profile_print(gradient_decent_numpy, X, y, N_ITER)"
   ]
  },
  {
   "cell_type": "code",
   "execution_count": null,
   "metadata": {},
   "outputs": [],
   "source": []
  },
  {
   "cell_type": "code",
   "execution_count": null,
   "metadata": {},
   "outputs": [],
   "source": [
    "# уберем еще и цикл по признакам\n",
    "\n",
    "def gradient_decent_numpy_faster(X, y, n_iter=100, alpha=0.1):\n",
    "    n_objects, n_features = X.shape[0], X.shape[1]\n",
    "    w = np.random.rand(n_features, 1)  # changed\n",
    "    for iteration in xrange(n_iter):\n",
    "        gradient = ((X.dot(w) - y) * X).sum(axis=0).reshape(-1, 1)\n",
    "        gradient = gradient * 2 / n_objects\n",
    "        w -= alpha * gradient\n",
    "    return w"
   ]
  },
  {
   "cell_type": "code",
   "execution_count": null,
   "metadata": {},
   "outputs": [],
   "source": [
    "w = gradient_decent_numpy_faster(X, y, n_iter=N_ITER)\n",
    "print ((y - X.dot(w)) ** 2).mean()"
   ]
  },
  {
   "cell_type": "code",
   "execution_count": null,
   "metadata": {},
   "outputs": [],
   "source": [
    "%%timeit\n",
    "gradient_decent_numpy_faster(X, y, n_iter=N_ITER)"
   ]
  },
  {
   "cell_type": "code",
   "execution_count": null,
   "metadata": {},
   "outputs": [],
   "source": [
    "profile_print(gradient_decent_numpy_faster, X, y, N_ITER)"
   ]
  },
  {
   "cell_type": "code",
   "execution_count": null,
   "metadata": {},
   "outputs": [],
   "source": []
  },
  {
   "cell_type": "code",
   "execution_count": null,
   "metadata": {},
   "outputs": [],
   "source": []
  },
  {
   "cell_type": "code",
   "execution_count": null,
   "metadata": {},
   "outputs": [],
   "source": []
  },
  {
   "cell_type": "code",
   "execution_count": null,
   "metadata": {},
   "outputs": [],
   "source": [
    "@jit(nopython=True)\n",
    "def gradient_decent_numpy_faster_numba(X, y, n_iter=100, alpha=0.1):\n",
    "    n_objects, n_features = X.shape[0], X.shape[1]\n",
    "    w = np.random.rand(n_features, 1)  # changed\n",
    "    for iteration in xrange(n_iter):\n",
    "        gradient = ((X.dot(w) - y) * X).sum(axis=0).reshape(-1, 1)\n",
    "        gradient = gradient * 2 / n_objects\n",
    "        w -= alpha * gradient\n",
    "    return w"
   ]
  },
  {
   "cell_type": "code",
   "execution_count": null,
   "metadata": {
    "scrolled": true
   },
   "outputs": [],
   "source": [
    "# самая большая проблема - sum c axis\n",
    "\n",
    "w = gradient_decent_numpy_faster_numba(X, y)\n",
    "print ((y - X.dot(w)) ** 2).mean()"
   ]
  },
  {
   "cell_type": "code",
   "execution_count": null,
   "metadata": {},
   "outputs": [],
   "source": []
  },
  {
   "cell_type": "code",
   "execution_count": null,
   "metadata": {},
   "outputs": [],
   "source": []
  },
  {
   "cell_type": "code",
   "execution_count": null,
   "metadata": {},
   "outputs": [],
   "source": []
  },
  {
   "cell_type": "code",
   "execution_count": null,
   "metadata": {},
   "outputs": [],
   "source": [
    "%%cython\n",
    "import numpy as np\n",
    "cimport numpy as np\n",
    "\n",
    "def gradient_decent_numpy_faster_cython(X, y, n_iter=100, alpha=0.1):\n",
    "    n_objects, n_features = X.shape[0], X.shape[1]\n",
    "    w = np.random.rand(n_features, 1)  # changed\n",
    "    for iteration in xrange(n_iter):\n",
    "        gradient = ((X.dot(w) - y) * X).sum(axis=0).reshape(-1, 1)\n",
    "        gradient = gradient * 2 / n_objects\n",
    "        w -= alpha * gradient\n",
    "    return w"
   ]
  },
  {
   "cell_type": "code",
   "execution_count": null,
   "metadata": {},
   "outputs": [],
   "source": [
    "w = gradient_decent_numpy_faster_cython(X, y, n_iter=N_ITER)\n",
    "print ((y - X.dot(w)) ** 2).mean()"
   ]
  },
  {
   "cell_type": "code",
   "execution_count": null,
   "metadata": {},
   "outputs": [],
   "source": [
    "%%timeit\n",
    "gradient_decent_numpy_faster_cython(X, y, n_iter=N_ITER)"
   ]
  },
  {
   "cell_type": "code",
   "execution_count": null,
   "metadata": {},
   "outputs": [],
   "source": [
    "# аннтоции "
   ]
  },
  {
   "cell_type": "code",
   "execution_count": null,
   "metadata": {},
   "outputs": [],
   "source": [
    "%%cython -a\n",
    "import numpy as np\n",
    "cimport numpy as np\n",
    "\n",
    "def gradient_decent_numpy_faster_cython(X, y, n_iter=100, alpha=0.1):\n",
    "    n_objects, n_features = X.shape[0], X.shape[1]\n",
    "    w = np.random.rand(n_features, 1)  # changed\n",
    "    for iteration in xrange(n_iter):\n",
    "        gradient = ((X.dot(w) - y) * X).sum(axis=0).reshape(-1, 1)\n",
    "        gradient = gradient * 2 / n_objects\n",
    "        w -= alpha * gradient\n",
    "    return w"
   ]
  },
  {
   "cell_type": "code",
   "execution_count": null,
   "metadata": {},
   "outputs": [],
   "source": [
    "# добавим типы"
   ]
  },
  {
   "cell_type": "code",
   "execution_count": null,
   "metadata": {
    "scrolled": true
   },
   "outputs": [],
   "source": [
    "%%cython -a\n",
    "import numpy as np\n",
    "cimport numpy as np\n",
    "\n",
    "cpdef gradient_decent_numpy_faster_cython(np.ndarray[np.float64_t, ndim=2] X, \n",
    "                                          np.ndarray[np.float64_t, ndim=2] y, \n",
    "                                          int n_iter=100, \n",
    "                                          np.float64_t alpha=0.1):\n",
    "    cdef int n_objects, n_features;\n",
    "    cdef np.ndarray[np.float64_t, ndim=2] w;\n",
    "    cdef np.ndarray[np.float64_t, ndim=2] gradient;\n",
    "    n_objects, n_features = X.shape[0], X.shape[1]\n",
    "    w = np.random.rand(n_features, 1)  # changed\n",
    "    for iteration in xrange(n_iter):\n",
    "        gradient = ((X.dot(w) - y) * X).sum(axis=0).reshape(-1, 1)\n",
    "        gradient = gradient * 2 / n_objects\n",
    "        w -= alpha * gradient\n",
    "    return w"
   ]
  },
  {
   "cell_type": "code",
   "execution_count": null,
   "metadata": {},
   "outputs": [],
   "source": [
    "w = gradient_decent_numpy_faster_cython(X, y, n_iter=N_ITER)\n",
    "print ((y - X.dot(w)) ** 2).mean()"
   ]
  },
  {
   "cell_type": "code",
   "execution_count": null,
   "metadata": {},
   "outputs": [],
   "source": [
    "%%timeit\n",
    "gradient_decent_numpy_faster_cython(X, y, n_iter=N_ITER)"
   ]
  },
  {
   "cell_type": "code",
   "execution_count": null,
   "metadata": {},
   "outputs": [],
   "source": []
  },
  {
   "cell_type": "code",
   "execution_count": null,
   "metadata": {},
   "outputs": [],
   "source": []
  },
  {
   "cell_type": "code",
   "execution_count": null,
   "metadata": {},
   "outputs": [],
   "source": [
    "#  вернемся к нашему хорошему коду на питоне и добавим типы"
   ]
  },
  {
   "cell_type": "code",
   "execution_count": null,
   "metadata": {
    "scrolled": true
   },
   "outputs": [],
   "source": [
    "%%cython -a\n",
    "import numpy as np\n",
    "cimport numpy as np\n",
    "\n",
    "\n",
    "cpdef gradient_decent_python_faster_cython_v0(np.ndarray[np.float64_t, ndim=2] X, \n",
    "                                              np.ndarray[np.float64_t, ndim=2] y, \n",
    "                                              int n_iter=100, \n",
    "                                              np.float64_t alpha=0.1):\n",
    "    cdef int n_objects, n_features;\n",
    "    cdef np.ndarray[np.float64_t, ndim=1] w;\n",
    "    cdef np.ndarray[np.float64_t, ndim=1] w_old;\n",
    "    cdef np.ndarray[np.float64_t, ndim=1] gradient;\n",
    "    cdef np.float64_t diff;\n",
    "    n_objects, n_features = X.shape[0], X.shape[1]\n",
    "    w = np.random.rand(n_features)\n",
    "    w_old = np.random.rand(n_features)\n",
    "    for iteration in xrange(n_iter):\n",
    "        np.copyto(w_old, w)\n",
    "        gradient = np.zeros(n_features)\n",
    "        for obj in xrange(n_objects):\n",
    "            diff = (X[obj, :] * w).sum() - y[obj, 0]\n",
    "            for f in xrange(n_features):\n",
    "                gradient[f] += diff * X[obj, f] \n",
    "        gradient = gradient * 2 / n_objects\n",
    "        w = w_old - alpha * gradient\n",
    "    return w.reshape(-1, 1)"
   ]
  },
  {
   "cell_type": "code",
   "execution_count": null,
   "metadata": {},
   "outputs": [],
   "source": [
    "w = gradient_decent_python_faster_cython_v0(X, y, n_iter=N_ITER)\n",
    "print ((y - X.dot(w)) ** 2).mean()"
   ]
  },
  {
   "cell_type": "code",
   "execution_count": null,
   "metadata": {},
   "outputs": [],
   "source": [
    "%%timeit\n",
    "res = gradient_decent_python_faster_cython_v0(X, y, n_iter=N_ITER)"
   ]
  },
  {
   "cell_type": "code",
   "execution_count": null,
   "metadata": {},
   "outputs": [],
   "source": []
  },
  {
   "cell_type": "code",
   "execution_count": null,
   "metadata": {},
   "outputs": [],
   "source": [
    "# заменим код, где много вызовов к python (отмечены желтым)"
   ]
  },
  {
   "cell_type": "code",
   "execution_count": null,
   "metadata": {
    "scrolled": true
   },
   "outputs": [],
   "source": [
    "%%cython -a\n",
    "import numpy as np\n",
    "cimport numpy as np\n",
    "\n",
    "\n",
    "cpdef gradient_decent_python_faster_cython_v1(np.ndarray[np.float64_t, ndim=2] X, \n",
    "                                              np.ndarray[np.float64_t, ndim=2] y, \n",
    "                                              int n_iter=100, \n",
    "                                              np.float64_t alpha=0.1):\n",
    "    cdef int n_objects, n_features;\n",
    "    cdef np.float64_t diff\n",
    "    cdef np.ndarray[np.float64_t, ndim=1] w;\n",
    "    cdef np.ndarray[np.float64_t, ndim=1] w_old;\n",
    "    cdef np.ndarray[np.float64_t, ndim=1] gradient;\n",
    "    n_objects, n_features = X.shape[0], X.shape[1]\n",
    "    w = np.random.rand(n_features)\n",
    "    w_old = np.random.rand(n_features)\n",
    "    gradient = np.zeros(n_features)\n",
    "    for iteration in xrange(n_iter):\n",
    "        for f in xrange(n_features):\n",
    "            gradient[f] = 0\n",
    "            w_old[f] = w[f]\n",
    "        for obj in xrange(n_objects):\n",
    "            diff = - y[obj, 0]\n",
    "            for f in xrange(n_features):\n",
    "                diff += X[obj, f] * w[f]\n",
    "            for f in xrange(n_features):\n",
    "                gradient[f] += diff * X[obj, f] \n",
    "        for f in xrange(n_features):\n",
    "            gradient[f] = gradient[f] * 2 / n_objects\n",
    "            w[f] = w_old[f] - alpha * gradient[f]\n",
    "    return w.reshape(-1, 1)"
   ]
  },
  {
   "cell_type": "code",
   "execution_count": null,
   "metadata": {},
   "outputs": [],
   "source": [
    "w = gradient_decent_python_faster_cython_v1(X, y, n_iter=N_ITER)\n",
    "print ((y - X.dot(w)) ** 2).mean()"
   ]
  },
  {
   "cell_type": "code",
   "execution_count": null,
   "metadata": {},
   "outputs": [],
   "source": [
    "%%timeit\n",
    "res = gradient_decent_python_faster_cython_v1(X, y, n_iter=N_ITER)"
   ]
  },
  {
   "cell_type": "code",
   "execution_count": null,
   "metadata": {},
   "outputs": [],
   "source": []
  },
  {
   "cell_type": "code",
   "execution_count": null,
   "metadata": {},
   "outputs": [],
   "source": [
    "# добавим декораторы"
   ]
  },
  {
   "cell_type": "code",
   "execution_count": null,
   "metadata": {},
   "outputs": [],
   "source": [
    "%%cython -a\n",
    "import numpy as np\n",
    "cimport numpy as np\n",
    "import cython\n",
    "\n",
    "\n",
    "@cython.boundscheck(False)\n",
    "@cython.cdivision(True)\n",
    "cpdef gradient_decent_python_faster_cython_v2(np.ndarray[np.float64_t, ndim=2] X, \n",
    "                                              np.ndarray[np.float64_t, ndim=2] y, \n",
    "                                              int n_iter=100, \n",
    "                                              np.float64_t alpha=0.1):\n",
    "    cdef int n_objects, n_features;\n",
    "    cdef np.float64_t diff\n",
    "    cdef np.ndarray[np.float64_t, ndim=1] w;\n",
    "    cdef np.ndarray[np.float64_t, ndim=1] w_old;\n",
    "    cdef np.ndarray[np.float64_t, ndim=1] gradient;\n",
    "    n_objects, n_features = X.shape[0], X.shape[1]\n",
    "    w = np.random.rand(n_features)\n",
    "    w_old = np.random.rand(n_features)\n",
    "    gradient = np.zeros(n_features)\n",
    "    for iteration in xrange(n_iter):\n",
    "        for f in xrange(n_features):\n",
    "            gradient[f] = 0\n",
    "            w_old[f] = w[f]\n",
    "        for obj in xrange(n_objects):\n",
    "            diff = - y[obj, 0]\n",
    "            for f in xrange(n_features):\n",
    "                diff += X[obj, f] * w[f]\n",
    "            for f in xrange(n_features):\n",
    "                gradient[f] += diff * X[obj, f] \n",
    "        for f in xrange(n_features):\n",
    "            gradient[f] = gradient[f] * 2 / n_objects\n",
    "            w[f] = w_old[f] - alpha * gradient[f]\n",
    "    return w.reshape(-1, 1)"
   ]
  },
  {
   "cell_type": "code",
   "execution_count": null,
   "metadata": {},
   "outputs": [],
   "source": [
    "w = gradient_decent_python_faster_cython_v2(X, y, n_iter=N_ITER)\n",
    "print ((y - X.dot(w)) ** 2).mean()"
   ]
  },
  {
   "cell_type": "code",
   "execution_count": null,
   "metadata": {},
   "outputs": [],
   "source": [
    "%%timeit\n",
    "res = gradient_decent_python_faster_cython_v2(X, y, n_iter=N_ITER)"
   ]
  },
  {
   "cell_type": "code",
   "execution_count": null,
   "metadata": {
    "collapsed": true
   },
   "outputs": [],
   "source": [
    "def m_mult(X, Y, cs):\n",
    "    if cs == 'std':\n",
    "        return X.dot(Y)\n",
    "    else:\n",
    "        Z = np.arra[]\n",
    "        for x in range "
   ]
  }
 ],
 "metadata": {
  "anaconda-cloud": {},
  "kernelspec": {
   "display_name": "Python 2",
   "language": "python",
   "name": "python2"
  },
  "language_info": {
   "codemirror_mode": {
    "name": "ipython",
    "version": 2
   },
   "file_extension": ".py",
   "mimetype": "text/x-python",
   "name": "python",
   "nbconvert_exporter": "python",
   "pygments_lexer": "ipython2",
   "version": "2.7.13"
  }
 },
 "nbformat": 4,
 "nbformat_minor": 1
}
