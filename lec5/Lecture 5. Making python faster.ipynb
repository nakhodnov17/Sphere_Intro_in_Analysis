{
 "cells": [
  {
   "cell_type": "code",
   "execution_count": 16,
   "metadata": {},
   "outputs": [
    {
     "name": "stdout",
     "output_type": "stream",
     "text": [
      "The Cython extension is already loaded. To reload it, use:\n",
      "  %reload_ext Cython\n"
     ]
    }
   ],
   "source": [
    "import pandas as pd\n",
    "import numpy as np\n",
    "from line_profiler import LineProfiler\n",
    "\n",
    "%load_ext Cython"
   ]
  },
  {
   "cell_type": "code",
   "execution_count": 2,
   "metadata": {},
   "outputs": [
    {
     "name": "stdout",
     "output_type": "stream",
     "text": [
      "Requirement already satisfied: Cython in /usr/local/lib/python2.7/dist-packages\r\n"
     ]
    }
   ],
   "source": [
    "!pip install Cython"
   ]
  },
  {
   "cell_type": "code",
   "execution_count": 4,
   "metadata": {
    "scrolled": true
   },
   "outputs": [],
   "source": [
    "# https://www.kaggle.com/apratim87/housingdata\n",
    "data = pd.read_csv('housingdata.csv', header=None)"
   ]
  },
  {
   "cell_type": "code",
   "execution_count": 5,
   "metadata": {
    "scrolled": true
   },
   "outputs": [],
   "source": [
    "data = (data - data.mean()) / data.std()"
   ]
  },
  {
   "cell_type": "code",
   "execution_count": 6,
   "metadata": {},
   "outputs": [],
   "source": [
    "def profile_print(func_to_call, *args):\n",
    "    profiler = LineProfiler()\n",
    "    profiler.add_function(func_to_call)\n",
    "    profiler.runcall(func_to_call, *args)\n",
    "    profiler.print_stats()"
   ]
  },
  {
   "cell_type": "code",
   "execution_count": 7,
   "metadata": {},
   "outputs": [],
   "source": [
    "X = data.values[:, :-1]\n",
    "y = data.values[:, -1:]"
   ]
  },
  {
   "cell_type": "markdown",
   "metadata": {},
   "source": [
    "У нас есть выборка $X \\in R^{n\\times d}, y\\in R^n$, состоящая из $n$ объектов. Каждый из $n$ объектов описывается вектором из $d$ признаков (строка матрицы $X$) и для каждого объекта мы знаем значение целевой переменной $y$. В данной задаче по некоторым параметрам мы хотим научиться предсказывать стоимость квадратного метра жилья.\n",
    "\n",
    "\n",
    "Предположим, что для объекта $i$ мы можем описать $y_i$ линейной комбинацией $x_i$ с некоторыми весами $w$, где w, x_i - вектора размера $d \\times 1$, а $y$ - вещественное число.\n",
    "$$y_i \\sim <w,x_i>$$\n",
    "\n",
    "\n",
    "Методом наименьших квадратов найдем веса $w$.\n",
    "$$ J(w) = \\frac{1}{n} \\sum_{i=1}^n (<w,x_i> - y_i)^2$$\n",
    "$$ J(w) \\rightarrow \\min_w $$\n",
    "\n",
    "Минимум данного функционала будем искать методом градиентного спуска (те будет идти по направлению противоположному градиенту):\n",
    "$$ w_j = w_j - \\alpha \\frac{\\partial}{\\partial w_j}J(w) $$\n",
    "$$ \\frac{\\partial}{\\partial w_j}J(w)  = \\frac{2}{n}  \\sum_{i=1}^n (<w, x_i> - y_i)\\cdot x_i^j $$"
   ]
  },
  {
   "cell_type": "code",
   "execution_count": 8,
   "metadata": {},
   "outputs": [
    {
     "name": "stdout",
     "output_type": "stream",
     "text": [
      "0.258844771986\n"
     ]
    }
   ],
   "source": [
    "from sklearn.linear_model import LinearRegression\n",
    "lr = LinearRegression()\n",
    "lr = lr.fit(X, y)\n",
    "print ((y - lr.predict(X)) ** 2).mean()"
   ]
  },
  {
   "cell_type": "code",
   "execution_count": 9,
   "metadata": {},
   "outputs": [],
   "source": [
    "N_ITER = 300"
   ]
  },
  {
   "cell_type": "code",
   "execution_count": 10,
   "metadata": {},
   "outputs": [],
   "source": [
    "def gradient_decent_python_naive(X, y, n_iter=100, alpha=0.1):\n",
    "    n_objects, n_features = X.shape[0], X.shape[1]\n",
    "    w = np.random.rand(n_features)\n",
    "    w_old = np.random.rand(n_features)\n",
    "    for iteration in xrange(n_iter):\n",
    "        np.copyto(w_old, w)\n",
    "        for f in xrange(n_features):\n",
    "            gradient = 0\n",
    "            for obj in xrange(n_objects):\n",
    "                gradient += ((X[obj, :] * w).sum() - y[obj, 0]) * X[obj, f] \n",
    "            gradient = gradient * 2 / n_objects\n",
    "            w[f] = w_old[f] - alpha * gradient\n",
    "    return w.reshape(-1, 1)"
   ]
  },
  {
   "cell_type": "code",
   "execution_count": 11,
   "metadata": {},
   "outputs": [
    {
     "name": "stdout",
     "output_type": "stream",
     "text": [
      "0.2588529761\n"
     ]
    }
   ],
   "source": [
    "w = gradient_decent_python_naive(X, y, n_iter=N_ITER)\n",
    "print ((y - X.dot(w)) ** 2).mean()"
   ]
  },
  {
   "cell_type": "code",
   "execution_count": 12,
   "metadata": {},
   "outputs": [
    {
     "name": "stdout",
     "output_type": "stream",
     "text": [
      "1 loop, best of 3: 8.27 s per loop\n"
     ]
    }
   ],
   "source": [
    "%%timeit\n",
    "gradient_decent_python_naive(X, y, n_iter=N_ITER)"
   ]
  },
  {
   "cell_type": "code",
   "execution_count": 17,
   "metadata": {},
   "outputs": [
    {
     "name": "stdout",
     "output_type": "stream",
     "text": [
      "Timer unit: 1e-06 s\n",
      "\n",
      "Total time: 12.3725 s\n",
      "File: <ipython-input-10-5113ebe046cd>\n",
      "Function: gradient_decent_python_naive at line 1\n",
      "\n",
      "Line #      Hits         Time  Per Hit   % Time  Line Contents\n",
      "==============================================================\n",
      "     1                                           def gradient_decent_python_naive(X, y, n_iter=100, alpha=0.1):\n",
      "     2         1            4      4.0      0.0      n_objects, n_features = X.shape[0], X.shape[1]\n",
      "     3         1           25     25.0      0.0      w = np.random.rand(n_features)\n",
      "     4         1            4      4.0      0.0      w_old = np.random.rand(n_features)\n",
      "     5       301          262      0.9      0.0      for iteration in xrange(n_iter):\n",
      "     6       300         1815      6.0      0.0          np.copyto(w_old, w)\n",
      "     7      4200         2842      0.7      0.0          for f in xrange(n_features):\n",
      "     8      3900         1950      0.5      0.0              gradient = 0\n",
      "     9   1977300       947611      0.5      7.7              for obj in xrange(n_objects):\n",
      "    10   1973400     11400243      5.8     92.1                  gradient += ((X[obj, :] * w).sum() - y[obj, 0]) * X[obj, f] \n",
      "    11      3900        10690      2.7      0.1              gradient = gradient * 2 / n_objects\n",
      "    12      3900         7099      1.8      0.1              w[f] = w_old[f] - alpha * gradient\n",
      "    13         1            5      5.0      0.0      return w.reshape(-1, 1)\n",
      "\n"
     ]
    }
   ],
   "source": [
    "profile_print(gradient_decent_python_naive, X, y, N_ITER)"
   ]
  },
  {
   "cell_type": "code",
   "execution_count": null,
   "metadata": {},
   "outputs": [],
   "source": []
  },
  {
   "cell_type": "code",
   "execution_count": null,
   "metadata": {},
   "outputs": [],
   "source": []
  },
  {
   "cell_type": "code",
   "execution_count": 18,
   "metadata": {},
   "outputs": [],
   "source": [
    "#  поменяли порядок циклов по объектам и признакам\n",
    "\n",
    "def gradient_decent_python(X, y, n_iter=100, alpha=0.1):\n",
    "    n_objects, n_features = X.shape[0], X.shape[1]\n",
    "    w = np.random.rand(n_features)\n",
    "    w_old = np.random.rand(n_features)\n",
    "    for iteration in xrange(n_iter):\n",
    "        np.copyto(w_old, w)\n",
    "        gradient = np.zeros(n_features)\n",
    "        for obj in xrange(n_objects):\n",
    "            for f in xrange(n_features):\n",
    "                gradient[f] += ((X[obj, :] * w).sum() - y[obj, 0]) * X[obj, f] \n",
    "        gradient = gradient * 2 / n_objects\n",
    "        w = w_old - alpha * gradient\n",
    "    return w.reshape(-1, 1)"
   ]
  },
  {
   "cell_type": "code",
   "execution_count": 19,
   "metadata": {},
   "outputs": [
    {
     "name": "stdout",
     "output_type": "stream",
     "text": [
      "0.25884569102\n"
     ]
    }
   ],
   "source": [
    "w = gradient_decent_python(X, y, n_iter=N_ITER)\n",
    "print ((y - X.dot(w)) ** 2).mean()"
   ]
  },
  {
   "cell_type": "code",
   "execution_count": 20,
   "metadata": {},
   "outputs": [
    {
     "name": "stdout",
     "output_type": "stream",
     "text": [
      "1 loop, best of 3: 8.56 s per loop\n"
     ]
    }
   ],
   "source": [
    "%%timeit\n",
    "gradient_decent_python(X, y, n_iter=N_ITER)"
   ]
  },
  {
   "cell_type": "code",
   "execution_count": 21,
   "metadata": {},
   "outputs": [
    {
     "name": "stdout",
     "output_type": "stream",
     "text": [
      "Timer unit: 1e-06 s\n",
      "\n",
      "Total time: 12.8303 s\n",
      "File: <ipython-input-18-ff01e01022b1>\n",
      "Function: gradient_decent_python at line 3\n",
      "\n",
      "Line #      Hits         Time  Per Hit   % Time  Line Contents\n",
      "==============================================================\n",
      "     3                                           def gradient_decent_python(X, y, n_iter=100, alpha=0.1):\n",
      "     4         1            5      5.0      0.0      n_objects, n_features = X.shape[0], X.shape[1]\n",
      "     5         1           23     23.0      0.0      w = np.random.rand(n_features)\n",
      "     6         1            3      3.0      0.0      w_old = np.random.rand(n_features)\n",
      "     7       301          212      0.7      0.0      for iteration in xrange(n_iter):\n",
      "     8       300         1622      5.4      0.0          np.copyto(w_old, w)\n",
      "     9       300         1698      5.7      0.0          gradient = np.zeros(n_features)\n",
      "    10    152100        68938      0.5      0.5          for obj in xrange(n_objects):\n",
      "    11   2125200      1127751      0.5      8.8              for f in xrange(n_features):\n",
      "    12   1973400     11622932      5.9     90.6                  gradient[f] += ((X[obj, :] * w).sum() - y[obj, 0]) * X[obj, f] \n",
      "    13       300         5163     17.2      0.0          gradient = gradient * 2 / n_objects\n",
      "    14       300         1982      6.6      0.0          w = w_old - alpha * gradient\n",
      "    15         1            4      4.0      0.0      return w.reshape(-1, 1)\n",
      "\n"
     ]
    }
   ],
   "source": [
    "profile_print(gradient_decent_python, X, y, N_ITER)"
   ]
  },
  {
   "cell_type": "code",
   "execution_count": null,
   "metadata": {},
   "outputs": [],
   "source": []
  },
  {
   "cell_type": "code",
   "execution_count": null,
   "metadata": {},
   "outputs": [],
   "source": []
  },
  {
   "cell_type": "code",
   "execution_count": 22,
   "metadata": {},
   "outputs": [],
   "source": [
    "#  вынесем подсчет ошибки\n",
    "\n",
    "def gradient_decent_python_faster(X, y, n_iter=100, alpha=0.1):\n",
    "    n_objects, n_features = X.shape[0], X.shape[1]\n",
    "    w = np.random.rand(n_features)\n",
    "    w_old = np.random.rand(n_features)\n",
    "    for iteration in xrange(n_iter):\n",
    "        np.copyto(w_old, w)\n",
    "        gradient = np.zeros(n_features)\n",
    "        for obj in xrange(n_objects):\n",
    "            diff = (X[obj, :] * w).sum() - y[obj, 0]  # changed\n",
    "            for f in xrange(n_features):\n",
    "                gradient[f] += diff * X[obj, f] \n",
    "        gradient = gradient * 2 / n_objects\n",
    "        w = w_old - alpha * gradient\n",
    "    return w.reshape(-1, 1)"
   ]
  },
  {
   "cell_type": "code",
   "execution_count": 23,
   "metadata": {},
   "outputs": [
    {
     "name": "stdout",
     "output_type": "stream",
     "text": [
      "0.258859750896\n"
     ]
    }
   ],
   "source": [
    "w = gradient_decent_python_faster(X, y, n_iter=N_ITER)\n",
    "print ((y - X.dot(w)) ** 2).mean()"
   ]
  },
  {
   "cell_type": "code",
   "execution_count": 24,
   "metadata": {},
   "outputs": [
    {
     "name": "stdout",
     "output_type": "stream",
     "text": [
      "1 loop, best of 3: 1.53 s per loop\n"
     ]
    }
   ],
   "source": [
    "%%timeit\n",
    "gradient_decent_python_faster(X, y, n_iter=N_ITER)"
   ]
  },
  {
   "cell_type": "code",
   "execution_count": 25,
   "metadata": {},
   "outputs": [
    {
     "name": "stdout",
     "output_type": "stream",
     "text": [
      "Timer unit: 1e-06 s\n",
      "\n",
      "Total time: 4.27635 s\n",
      "File: <ipython-input-22-6d827b3e8045>\n",
      "Function: gradient_decent_python_faster at line 3\n",
      "\n",
      "Line #      Hits         Time  Per Hit   % Time  Line Contents\n",
      "==============================================================\n",
      "     3                                           def gradient_decent_python_faster(X, y, n_iter=100, alpha=0.1):\n",
      "     4         1            5      5.0      0.0      n_objects, n_features = X.shape[0], X.shape[1]\n",
      "     5         1           22     22.0      0.0      w = np.random.rand(n_features)\n",
      "     6         1            3      3.0      0.0      w_old = np.random.rand(n_features)\n",
      "     7       301          169      0.6      0.0      for iteration in xrange(n_iter):\n",
      "     8       300         1788      6.0      0.0          np.copyto(w_old, w)\n",
      "     9       300         1786      6.0      0.0          gradient = np.zeros(n_features)\n",
      "    10    152100        71769      0.5      1.7          for obj in xrange(n_objects):\n",
      "    11    151800       975309      6.4     22.8              diff = (X[obj, :] * w).sum() - y[obj, 0]  # changed\n",
      "    12   2125200      1130274      0.5     26.4              for f in xrange(n_features):\n",
      "    13   1973400      2087905      1.1     48.8                  gradient[f] += diff * X[obj, f] \n",
      "    14       300         5102     17.0      0.1          gradient = gradient * 2 / n_objects\n",
      "    15       300         2214      7.4      0.1          w = w_old - alpha * gradient\n",
      "    16         1            6      6.0      0.0      return w.reshape(-1, 1)\n",
      "\n"
     ]
    }
   ],
   "source": [
    "profile_print(gradient_decent_python_faster, X, y, N_ITER)"
   ]
  },
  {
   "cell_type": "code",
   "execution_count": null,
   "metadata": {},
   "outputs": [],
   "source": []
  },
  {
   "cell_type": "code",
   "execution_count": 26,
   "metadata": {},
   "outputs": [],
   "source": [
    "from numba import jit"
   ]
  },
  {
   "cell_type": "code",
   "execution_count": 27,
   "metadata": {},
   "outputs": [],
   "source": [
    "# numba !!!\n",
    "\n",
    "@jit(nopython=True)\n",
    "def gradient_decent_numba(X, y, n_iter=100, alpha=0.1):\n",
    "    n_objects, n_features = X.shape[0], X.shape[1]\n",
    "    w = np.random.rand(n_features)\n",
    "    w_old = np.random.rand(n_features)\n",
    "    for iteration in xrange(n_iter):\n",
    "        for f in xrange(n_features):  # changed\n",
    "            w_old[f] = w[f]\n",
    "        gradient = np.zeros(n_features)\n",
    "        for obj in xrange(n_objects):\n",
    "            diff = (X[obj, :] * w).sum() - y[obj, 0]\n",
    "            for f in xrange(n_features):\n",
    "                gradient[f] += diff * X[obj, f] \n",
    "        gradient = gradient * 2 / n_objects\n",
    "        w = w_old - alpha * gradient\n",
    "    return w.reshape(-1, 1)"
   ]
  },
  {
   "cell_type": "code",
   "execution_count": 28,
   "metadata": {},
   "outputs": [
    {
     "name": "stdout",
     "output_type": "stream",
     "text": [
      "0.258845881013\n"
     ]
    }
   ],
   "source": [
    "w = gradient_decent_numba(X, y, n_iter=N_ITER)\n",
    "print ((y - X.dot(w)) ** 2).mean()"
   ]
  },
  {
   "cell_type": "code",
   "execution_count": 29,
   "metadata": {},
   "outputs": [
    {
     "name": "stdout",
     "output_type": "stream",
     "text": [
      "10 loops, best of 3: 23.5 ms per loop\n"
     ]
    }
   ],
   "source": [
    "%%timeit\n",
    "gradient_decent_numba(X, y, n_iter=N_ITER)"
   ]
  },
  {
   "cell_type": "code",
   "execution_count": null,
   "metadata": {},
   "outputs": [],
   "source": []
  },
  {
   "cell_type": "code",
   "execution_count": null,
   "metadata": {},
   "outputs": [],
   "source": []
  },
  {
   "cell_type": "code",
   "execution_count": 30,
   "metadata": {},
   "outputs": [],
   "source": [
    "# уберем цикл по объектам\n",
    "\n",
    "def gradient_decent_numpy(X, y, n_iter=100, alpha=0.1):\n",
    "    n_objects, n_features = X.shape[0], X.shape[1]\n",
    "    w = np.random.rand(n_features, 1)  # changed\n",
    "    w_old = np.random.rand(n_features, 1)  # changed\n",
    "    for iteration in xrange(n_iter):\n",
    "        np.copyto(w_old, w)\n",
    "        gradient = np.zeros((n_features, 1))  # chaned\n",
    "        diff = X.dot(w) - y\n",
    "        for f in xrange(n_features):\n",
    "            gradient[f, 0] = ((X.dot(w) - y) * X[:, f:f+1]).sum()\n",
    "        gradient = gradient * 2 / n_objects\n",
    "        w = w_old - alpha * gradient\n",
    "    return w  # changed"
   ]
  },
  {
   "cell_type": "code",
   "execution_count": 31,
   "metadata": {},
   "outputs": [
    {
     "name": "stdout",
     "output_type": "stream",
     "text": [
      "0.258852067286\n"
     ]
    }
   ],
   "source": [
    "w = gradient_decent_numpy(X, y, n_iter=N_ITER)\n",
    "print ((y - X.dot(w)) ** 2).mean()"
   ]
  },
  {
   "cell_type": "code",
   "execution_count": 32,
   "metadata": {},
   "outputs": [
    {
     "name": "stdout",
     "output_type": "stream",
     "text": [
      "10 loops, best of 3: 41.2 ms per loop\n"
     ]
    }
   ],
   "source": [
    "%%timeit\n",
    "gradient_decent_numpy(X, y, n_iter=N_ITER)"
   ]
  },
  {
   "cell_type": "code",
   "execution_count": 33,
   "metadata": {},
   "outputs": [
    {
     "name": "stdout",
     "output_type": "stream",
     "text": [
      "Timer unit: 1e-06 s\n",
      "\n",
      "Total time: 0.092006 s\n",
      "File: <ipython-input-30-949da8b7c6e8>\n",
      "Function: gradient_decent_numpy at line 3\n",
      "\n",
      "Line #      Hits         Time  Per Hit   % Time  Line Contents\n",
      "==============================================================\n",
      "     3                                           def gradient_decent_numpy(X, y, n_iter=100, alpha=0.1):\n",
      "     4         1            5      5.0      0.0      n_objects, n_features = X.shape[0], X.shape[1]\n",
      "     5         1           26     26.0      0.0      w = np.random.rand(n_features, 1)  # changed\n",
      "     6         1            4      4.0      0.0      w_old = np.random.rand(n_features, 1)  # changed\n",
      "     7       301          192      0.6      0.2      for iteration in xrange(n_iter):\n",
      "     8       300         1125      3.8      1.2          np.copyto(w_old, w)\n",
      "     9       300          853      2.8      0.9          gradient = np.zeros((n_features, 1))  # chaned\n",
      "    10       300         2649      8.8      2.9          diff = X.dot(w) - y\n",
      "    11      4200         3513      0.8      3.8          for f in xrange(n_features):\n",
      "    12      3900        78598     20.2     85.4              gradient[f, 0] = ((X.dot(w) - y) * X[:, f:f+1]).sum()\n",
      "    13       300         3290     11.0      3.6          gradient = gradient * 2 / n_objects\n",
      "    14       300         1751      5.8      1.9          w = w_old - alpha * gradient\n",
      "    15         1            0      0.0      0.0      return w  # changed\n",
      "\n"
     ]
    }
   ],
   "source": [
    "profile_print(gradient_decent_numpy, X, y, N_ITER)"
   ]
  },
  {
   "cell_type": "code",
   "execution_count": null,
   "metadata": {},
   "outputs": [],
   "source": []
  },
  {
   "cell_type": "code",
   "execution_count": 34,
   "metadata": {},
   "outputs": [],
   "source": [
    "# уберем еще и цикл по признакам\n",
    "\n",
    "def gradient_decent_numpy_faster(X, y, n_iter=100, alpha=0.1):\n",
    "    n_objects, n_features = X.shape[0], X.shape[1]\n",
    "    w = np.random.rand(n_features, 1)  # changed\n",
    "    for iteration in xrange(n_iter):\n",
    "        gradient = ((X.dot(w) - y) * X).sum(axis=0).reshape(-1, 1)\n",
    "        gradient = gradient * 2 / n_objects\n",
    "        w -= alpha * gradient\n",
    "    return w"
   ]
  },
  {
   "cell_type": "code",
   "execution_count": 35,
   "metadata": {},
   "outputs": [
    {
     "name": "stdout",
     "output_type": "stream",
     "text": [
      "0.258848357308\n"
     ]
    }
   ],
   "source": [
    "w = gradient_decent_numpy_faster(X, y, n_iter=N_ITER)\n",
    "print ((y - X.dot(w)) ** 2).mean()"
   ]
  },
  {
   "cell_type": "code",
   "execution_count": 36,
   "metadata": {},
   "outputs": [
    {
     "name": "stdout",
     "output_type": "stream",
     "text": [
      "100 loops, best of 3: 10.5 ms per loop\n"
     ]
    }
   ],
   "source": [
    "%%timeit\n",
    "gradient_decent_numpy_faster(X, y, n_iter=N_ITER)"
   ]
  },
  {
   "cell_type": "code",
   "execution_count": 37,
   "metadata": {},
   "outputs": [
    {
     "name": "stdout",
     "output_type": "stream",
     "text": [
      "Timer unit: 1e-06 s\n",
      "\n",
      "Total time: 0.029077 s\n",
      "File: <ipython-input-34-ffba66530133>\n",
      "Function: gradient_decent_numpy_faster at line 3\n",
      "\n",
      "Line #      Hits         Time  Per Hit   % Time  Line Contents\n",
      "==============================================================\n",
      "     3                                           def gradient_decent_numpy_faster(X, y, n_iter=100, alpha=0.1):\n",
      "     4         1            9      9.0      0.0      n_objects, n_features = X.shape[0], X.shape[1]\n",
      "     5         1           44     44.0      0.2      w = np.random.rand(n_features, 1)  # changed\n",
      "     6       301          234      0.8      0.8      for iteration in xrange(n_iter):\n",
      "     7       300        22713     75.7     78.1          gradient = ((X.dot(w) - y) * X).sum(axis=0).reshape(-1, 1)\n",
      "     8       300         4077     13.6     14.0          gradient = gradient * 2 / n_objects\n",
      "     9       300         1999      6.7      6.9          w -= alpha * gradient\n",
      "    10         1            1      1.0      0.0      return w\n",
      "\n"
     ]
    }
   ],
   "source": [
    "profile_print(gradient_decent_numpy_faster, X, y, N_ITER)"
   ]
  },
  {
   "cell_type": "code",
   "execution_count": null,
   "metadata": {},
   "outputs": [],
   "source": []
  },
  {
   "cell_type": "code",
   "execution_count": null,
   "metadata": {},
   "outputs": [],
   "source": []
  },
  {
   "cell_type": "code",
   "execution_count": null,
   "metadata": {},
   "outputs": [],
   "source": []
  },
  {
   "cell_type": "code",
   "execution_count": 38,
   "metadata": {},
   "outputs": [],
   "source": [
    "@jit(nopython=True)\n",
    "def gradient_decent_numpy_faster_numba(X, y, n_iter=100, alpha=0.1):\n",
    "    n_objects, n_features = X.shape[0], X.shape[1]\n",
    "    w = np.random.rand(n_features, 1)  # changed\n",
    "    for iteration in xrange(n_iter):\n",
    "        gradient = ((X.dot(w) - y) * X).sum(axis=0).reshape(-1, 1)\n",
    "        gradient = gradient * 2 / n_objects\n",
    "        w -= alpha * gradient\n",
    "    return w"
   ]
  },
  {
   "cell_type": "code",
   "execution_count": 39,
   "metadata": {
    "scrolled": true
   },
   "outputs": [
    {
     "ename": "UntypedAttributeError",
     "evalue": "Caused By:\nTraceback (most recent call last):\n  File \"/usr/local/lib/python2.7/dist-packages/numba/compiler.py\", line 238, in run\n    stage()\n  File \"/usr/local/lib/python2.7/dist-packages/numba/compiler.py\", line 452, in stage_nopython_frontend\n    self.locals)\n  File \"/usr/local/lib/python2.7/dist-packages/numba/compiler.py\", line 865, in type_inference_stage\n    infer.propagate()\n  File \"/usr/local/lib/python2.7/dist-packages/numba/typeinfer.py\", line 844, in propagate\n    raise errors[0]\nUntypedAttributeError: Unknown attribute 'dot' of type array(float64, 2d, F)\nFile \"<ipython-input-38-a8ae7606de61>\", line 6\n[1] During: typing of get attribute at <ipython-input-38-a8ae7606de61> (6)\n\nFailed at nopython (nopython frontend)\nUnknown attribute 'dot' of type array(float64, 2d, F)\nFile \"<ipython-input-38-a8ae7606de61>\", line 6\n[1] During: typing of get attribute at <ipython-input-38-a8ae7606de61> (6)",
     "output_type": "error",
     "traceback": [
      "\u001b[0;31m---------------------------------------------------------------------------\u001b[0m",
      "\u001b[0;31mUntypedAttributeError\u001b[0m                     Traceback (most recent call last)",
      "\u001b[0;32m<ipython-input-39-a987d8a0c3f0>\u001b[0m in \u001b[0;36m<module>\u001b[0;34m()\u001b[0m\n\u001b[1;32m      1\u001b[0m \u001b[0;31m# самая большая проблема - sum c axis\u001b[0m\u001b[0;34m\u001b[0m\u001b[0;34m\u001b[0m\u001b[0m\n\u001b[1;32m      2\u001b[0m \u001b[0;34m\u001b[0m\u001b[0m\n\u001b[0;32m----> 3\u001b[0;31m \u001b[0mw\u001b[0m \u001b[0;34m=\u001b[0m \u001b[0mgradient_decent_numpy_faster_numba\u001b[0m\u001b[0;34m(\u001b[0m\u001b[0mX\u001b[0m\u001b[0;34m,\u001b[0m \u001b[0my\u001b[0m\u001b[0;34m)\u001b[0m\u001b[0;34m\u001b[0m\u001b[0m\n\u001b[0m\u001b[1;32m      4\u001b[0m \u001b[0;32mprint\u001b[0m \u001b[0;34m(\u001b[0m\u001b[0;34m(\u001b[0m\u001b[0my\u001b[0m \u001b[0;34m-\u001b[0m \u001b[0mX\u001b[0m\u001b[0;34m.\u001b[0m\u001b[0mdot\u001b[0m\u001b[0;34m(\u001b[0m\u001b[0mw\u001b[0m\u001b[0;34m)\u001b[0m\u001b[0;34m)\u001b[0m \u001b[0;34m**\u001b[0m \u001b[0;36m2\u001b[0m\u001b[0;34m)\u001b[0m\u001b[0;34m.\u001b[0m\u001b[0mmean\u001b[0m\u001b[0;34m(\u001b[0m\u001b[0;34m)\u001b[0m\u001b[0;34m\u001b[0m\u001b[0m\n",
      "\u001b[0;32m/usr/local/lib/python2.7/dist-packages/numba/dispatcher.pyc\u001b[0m in \u001b[0;36m_compile_for_args\u001b[0;34m(self, *args, **kws)\u001b[0m\n\u001b[1;32m    328\u001b[0m                                 for i, err in failed_args))\n\u001b[1;32m    329\u001b[0m                 \u001b[0me\u001b[0m\u001b[0;34m.\u001b[0m\u001b[0mpatch_message\u001b[0m\u001b[0;34m(\u001b[0m\u001b[0mmsg\u001b[0m\u001b[0;34m)\u001b[0m\u001b[0;34m\u001b[0m\u001b[0m\n\u001b[0;32m--> 330\u001b[0;31m             \u001b[0;32mraise\u001b[0m \u001b[0me\u001b[0m\u001b[0;34m\u001b[0m\u001b[0m\n\u001b[0m\u001b[1;32m    331\u001b[0m \u001b[0;34m\u001b[0m\u001b[0m\n\u001b[1;32m    332\u001b[0m     \u001b[0;32mdef\u001b[0m \u001b[0minspect_llvm\u001b[0m\u001b[0;34m(\u001b[0m\u001b[0mself\u001b[0m\u001b[0;34m,\u001b[0m \u001b[0msignature\u001b[0m\u001b[0;34m=\u001b[0m\u001b[0mNone\u001b[0m\u001b[0;34m)\u001b[0m\u001b[0;34m:\u001b[0m\u001b[0;34m\u001b[0m\u001b[0m\n",
      "\u001b[0;31mUntypedAttributeError\u001b[0m: Caused By:\nTraceback (most recent call last):\n  File \"/usr/local/lib/python2.7/dist-packages/numba/compiler.py\", line 238, in run\n    stage()\n  File \"/usr/local/lib/python2.7/dist-packages/numba/compiler.py\", line 452, in stage_nopython_frontend\n    self.locals)\n  File \"/usr/local/lib/python2.7/dist-packages/numba/compiler.py\", line 865, in type_inference_stage\n    infer.propagate()\n  File \"/usr/local/lib/python2.7/dist-packages/numba/typeinfer.py\", line 844, in propagate\n    raise errors[0]\nUntypedAttributeError: Unknown attribute 'dot' of type array(float64, 2d, F)\nFile \"<ipython-input-38-a8ae7606de61>\", line 6\n[1] During: typing of get attribute at <ipython-input-38-a8ae7606de61> (6)\n\nFailed at nopython (nopython frontend)\nUnknown attribute 'dot' of type array(float64, 2d, F)\nFile \"<ipython-input-38-a8ae7606de61>\", line 6\n[1] During: typing of get attribute at <ipython-input-38-a8ae7606de61> (6)"
     ]
    }
   ],
   "source": [
    "# самая большая проблема - sum c axis\n",
    "\n",
    "w = gradient_decent_numpy_faster_numba(X, y)\n",
    "print ((y - X.dot(w)) ** 2).mean()"
   ]
  },
  {
   "cell_type": "code",
   "execution_count": null,
   "metadata": {},
   "outputs": [],
   "source": []
  },
  {
   "cell_type": "code",
   "execution_count": null,
   "metadata": {},
   "outputs": [],
   "source": []
  },
  {
   "cell_type": "code",
   "execution_count": null,
   "metadata": {},
   "outputs": [],
   "source": []
  },
  {
   "cell_type": "code",
   "execution_count": 40,
   "metadata": {},
   "outputs": [
    {
     "ename": "UnicodeDecodeError",
     "evalue": "'ascii' codec can't decode byte 0xd1 in position 49: ordinal not in range(128)",
     "output_type": "error",
     "traceback": [
      "\u001b[0;31m---------------------------------------------------------------------------\u001b[0m",
      "\u001b[0;31mUnicodeDecodeError\u001b[0m                        Traceback (most recent call last)",
      "\u001b[0;32m<ipython-input-40-411dc8c70791>\u001b[0m in \u001b[0;36m<module>\u001b[0;34m()\u001b[0m\n\u001b[0;32m----> 1\u001b[0;31m \u001b[0mget_ipython\u001b[0m\u001b[0;34m(\u001b[0m\u001b[0;34m)\u001b[0m\u001b[0;34m.\u001b[0m\u001b[0mrun_cell_magic\u001b[0m\u001b[0;34m(\u001b[0m\u001b[0;34mu'cython'\u001b[0m\u001b[0;34m,\u001b[0m \u001b[0;34mu''\u001b[0m\u001b[0;34m,\u001b[0m \u001b[0;34mu'import numpy as np\\ncimport numpy as np\\n\\ndef gradient_decent_numpy_faster_cython(X, y, n_iter=100, alpha=0.1):\\n    n_objects, n_features = X.shape[0], X.shape[1]\\n    w = np.random.rand(n_features, 1)  # changed\\n    for iteration in xrange(n_iter):\\n        gradient = ((X.dot(w) - y) * X).sum(axis=0).reshape(-1, 1)\\n        gradient = gradient * 2 / n_objects\\n        w -= alpha * gradient\\n    return w'\u001b[0m\u001b[0;34m)\u001b[0m\u001b[0;34m\u001b[0m\u001b[0m\n\u001b[0m",
      "\u001b[0;32m/usr/local/lib/python2.7/dist-packages/IPython/core/interactiveshell.pyc\u001b[0m in \u001b[0;36mrun_cell_magic\u001b[0;34m(self, magic_name, line, cell)\u001b[0m\n\u001b[1;32m   2115\u001b[0m             \u001b[0mmagic_arg_s\u001b[0m \u001b[0;34m=\u001b[0m \u001b[0mself\u001b[0m\u001b[0;34m.\u001b[0m\u001b[0mvar_expand\u001b[0m\u001b[0;34m(\u001b[0m\u001b[0mline\u001b[0m\u001b[0;34m,\u001b[0m \u001b[0mstack_depth\u001b[0m\u001b[0;34m)\u001b[0m\u001b[0;34m\u001b[0m\u001b[0m\n\u001b[1;32m   2116\u001b[0m             \u001b[0;32mwith\u001b[0m \u001b[0mself\u001b[0m\u001b[0;34m.\u001b[0m\u001b[0mbuiltin_trap\u001b[0m\u001b[0;34m:\u001b[0m\u001b[0;34m\u001b[0m\u001b[0m\n\u001b[0;32m-> 2117\u001b[0;31m                 \u001b[0mresult\u001b[0m \u001b[0;34m=\u001b[0m \u001b[0mfn\u001b[0m\u001b[0;34m(\u001b[0m\u001b[0mmagic_arg_s\u001b[0m\u001b[0;34m,\u001b[0m \u001b[0mcell\u001b[0m\u001b[0;34m)\u001b[0m\u001b[0;34m\u001b[0m\u001b[0m\n\u001b[0m\u001b[1;32m   2118\u001b[0m             \u001b[0;32mreturn\u001b[0m \u001b[0mresult\u001b[0m\u001b[0;34m\u001b[0m\u001b[0m\n\u001b[1;32m   2119\u001b[0m \u001b[0;34m\u001b[0m\u001b[0m\n",
      "\u001b[0;32m<decorator-gen-125>\u001b[0m in \u001b[0;36mcython\u001b[0;34m(self, line, cell)\u001b[0m\n",
      "\u001b[0;32m/usr/local/lib/python2.7/dist-packages/IPython/core/magic.pyc\u001b[0m in \u001b[0;36m<lambda>\u001b[0;34m(f, *a, **k)\u001b[0m\n\u001b[1;32m    186\u001b[0m     \u001b[0;31m# but it's overkill for just that one bit of state.\u001b[0m\u001b[0;34m\u001b[0m\u001b[0;34m\u001b[0m\u001b[0m\n\u001b[1;32m    187\u001b[0m     \u001b[0;32mdef\u001b[0m \u001b[0mmagic_deco\u001b[0m\u001b[0;34m(\u001b[0m\u001b[0marg\u001b[0m\u001b[0;34m)\u001b[0m\u001b[0;34m:\u001b[0m\u001b[0;34m\u001b[0m\u001b[0m\n\u001b[0;32m--> 188\u001b[0;31m         \u001b[0mcall\u001b[0m \u001b[0;34m=\u001b[0m \u001b[0;32mlambda\u001b[0m \u001b[0mf\u001b[0m\u001b[0;34m,\u001b[0m \u001b[0;34m*\u001b[0m\u001b[0ma\u001b[0m\u001b[0;34m,\u001b[0m \u001b[0;34m**\u001b[0m\u001b[0mk\u001b[0m\u001b[0;34m:\u001b[0m \u001b[0mf\u001b[0m\u001b[0;34m(\u001b[0m\u001b[0;34m*\u001b[0m\u001b[0ma\u001b[0m\u001b[0;34m,\u001b[0m \u001b[0;34m**\u001b[0m\u001b[0mk\u001b[0m\u001b[0;34m)\u001b[0m\u001b[0;34m\u001b[0m\u001b[0m\n\u001b[0m\u001b[1;32m    189\u001b[0m \u001b[0;34m\u001b[0m\u001b[0m\n\u001b[1;32m    190\u001b[0m         \u001b[0;32mif\u001b[0m \u001b[0mcallable\u001b[0m\u001b[0;34m(\u001b[0m\u001b[0marg\u001b[0m\u001b[0;34m)\u001b[0m\u001b[0;34m:\u001b[0m\u001b[0;34m\u001b[0m\u001b[0m\n",
      "\u001b[0;32m/usr/local/lib/python2.7/dist-packages/Cython/Build/IpythonMagic.pyc\u001b[0m in \u001b[0;36mcython\u001b[0;34m(self, line, cell)\u001b[0m\n\u001b[1;32m    318\u001b[0m         \u001b[0mextension\u001b[0m \u001b[0;34m=\u001b[0m \u001b[0mNone\u001b[0m\u001b[0;34m\u001b[0m\u001b[0m\n\u001b[1;32m    319\u001b[0m         \u001b[0;32mif\u001b[0m \u001b[0mneed_cythonize\u001b[0m\u001b[0;34m:\u001b[0m\u001b[0;34m\u001b[0m\u001b[0m\n\u001b[0;32m--> 320\u001b[0;31m             \u001b[0mextensions\u001b[0m \u001b[0;34m=\u001b[0m \u001b[0mself\u001b[0m\u001b[0;34m.\u001b[0m\u001b[0m_cythonize\u001b[0m\u001b[0;34m(\u001b[0m\u001b[0mmodule_name\u001b[0m\u001b[0;34m,\u001b[0m \u001b[0mcode\u001b[0m\u001b[0;34m,\u001b[0m \u001b[0mlib_dir\u001b[0m\u001b[0;34m,\u001b[0m \u001b[0margs\u001b[0m\u001b[0;34m,\u001b[0m \u001b[0mquiet\u001b[0m\u001b[0;34m=\u001b[0m\u001b[0margs\u001b[0m\u001b[0;34m.\u001b[0m\u001b[0mquiet\u001b[0m\u001b[0;34m)\u001b[0m\u001b[0;34m\u001b[0m\u001b[0m\n\u001b[0m\u001b[1;32m    321\u001b[0m             \u001b[0;32massert\u001b[0m \u001b[0mlen\u001b[0m\u001b[0;34m(\u001b[0m\u001b[0mextensions\u001b[0m\u001b[0;34m)\u001b[0m \u001b[0;34m==\u001b[0m \u001b[0;36m1\u001b[0m\u001b[0;34m\u001b[0m\u001b[0m\n\u001b[1;32m    322\u001b[0m             \u001b[0mextension\u001b[0m \u001b[0;34m=\u001b[0m \u001b[0mextensions\u001b[0m\u001b[0;34m[\u001b[0m\u001b[0;36m0\u001b[0m\u001b[0;34m]\u001b[0m\u001b[0;34m\u001b[0m\u001b[0m\n",
      "\u001b[0;32m/usr/local/lib/python2.7/dist-packages/Cython/Build/IpythonMagic.pyc\u001b[0m in \u001b[0;36m_cythonize\u001b[0;34m(self, module_name, code, lib_dir, args, quiet)\u001b[0m\n\u001b[1;32m    426\u001b[0m             \u001b[0;32melif\u001b[0m \u001b[0msys\u001b[0m\u001b[0;34m.\u001b[0m\u001b[0mversion_info\u001b[0m\u001b[0;34m[\u001b[0m\u001b[0;36m0\u001b[0m\u001b[0;34m]\u001b[0m \u001b[0;34m>=\u001b[0m \u001b[0;36m3\u001b[0m\u001b[0;34m:\u001b[0m\u001b[0;34m\u001b[0m\u001b[0m\n\u001b[1;32m    427\u001b[0m                 \u001b[0mopts\u001b[0m\u001b[0;34m[\u001b[0m\u001b[0;34m'language_level'\u001b[0m\u001b[0;34m]\u001b[0m \u001b[0;34m=\u001b[0m \u001b[0;36m3\u001b[0m\u001b[0;34m\u001b[0m\u001b[0m\n\u001b[0;32m--> 428\u001b[0;31m             \u001b[0;32mreturn\u001b[0m \u001b[0mcythonize\u001b[0m\u001b[0;34m(\u001b[0m\u001b[0;34m[\u001b[0m\u001b[0mextension\u001b[0m\u001b[0;34m]\u001b[0m\u001b[0;34m,\u001b[0m \u001b[0;34m**\u001b[0m\u001b[0mopts\u001b[0m\u001b[0;34m)\u001b[0m\u001b[0;34m\u001b[0m\u001b[0m\n\u001b[0m\u001b[1;32m    429\u001b[0m         \u001b[0;32mexcept\u001b[0m \u001b[0mCompileError\u001b[0m\u001b[0;34m:\u001b[0m\u001b[0;34m\u001b[0m\u001b[0m\n\u001b[1;32m    430\u001b[0m             \u001b[0;32mreturn\u001b[0m \u001b[0mNone\u001b[0m\u001b[0;34m\u001b[0m\u001b[0m\n",
      "\u001b[0;32m/usr/local/lib/python2.7/dist-packages/Cython/Build/Dependencies.pyc\u001b[0m in \u001b[0;36mcythonize\u001b[0;34m(module_list, exclude, nthreads, aliases, quiet, force, language, exclude_failures, **options)\u001b[0m\n\u001b[1;32m    918\u001b[0m         \u001b[0mexclude_failures\u001b[0m\u001b[0;34m=\u001b[0m\u001b[0mexclude_failures\u001b[0m\u001b[0;34m,\u001b[0m\u001b[0;34m\u001b[0m\u001b[0m\n\u001b[1;32m    919\u001b[0m         \u001b[0mlanguage\u001b[0m\u001b[0;34m=\u001b[0m\u001b[0mlanguage\u001b[0m\u001b[0;34m,\u001b[0m\u001b[0;34m\u001b[0m\u001b[0m\n\u001b[0;32m--> 920\u001b[0;31m         aliases=aliases)\n\u001b[0m\u001b[1;32m    921\u001b[0m     \u001b[0mdeps\u001b[0m \u001b[0;34m=\u001b[0m \u001b[0mcreate_dependency_tree\u001b[0m\u001b[0;34m(\u001b[0m\u001b[0mctx\u001b[0m\u001b[0;34m,\u001b[0m \u001b[0mquiet\u001b[0m\u001b[0;34m=\u001b[0m\u001b[0mquiet\u001b[0m\u001b[0;34m)\u001b[0m\u001b[0;34m\u001b[0m\u001b[0m\n\u001b[1;32m    922\u001b[0m     \u001b[0mbuild_dir\u001b[0m \u001b[0;34m=\u001b[0m \u001b[0mgetattr\u001b[0m\u001b[0;34m(\u001b[0m\u001b[0moptions\u001b[0m\u001b[0;34m,\u001b[0m \u001b[0;34m'build_dir'\u001b[0m\u001b[0;34m,\u001b[0m \u001b[0mNone\u001b[0m\u001b[0;34m)\u001b[0m\u001b[0;34m\u001b[0m\u001b[0m\n",
      "\u001b[0;32m/usr/local/lib/python2.7/dist-packages/Cython/Build/Dependencies.pyc\u001b[0m in \u001b[0;36mcreate_extension_list\u001b[0;34m(patterns, exclude, ctx, aliases, quiet, language, exclude_failures)\u001b[0m\n\u001b[1;32m    813\u001b[0m             \u001b[0;32mif\u001b[0m \u001b[0mmodule_name\u001b[0m \u001b[0;32mnot\u001b[0m \u001b[0;32min\u001b[0m \u001b[0mseen\u001b[0m\u001b[0;34m:\u001b[0m\u001b[0;34m\u001b[0m\u001b[0m\n\u001b[1;32m    814\u001b[0m                 \u001b[0;32mtry\u001b[0m\u001b[0;34m:\u001b[0m\u001b[0;34m\u001b[0m\u001b[0m\n\u001b[0;32m--> 815\u001b[0;31m                     \u001b[0mkwds\u001b[0m \u001b[0;34m=\u001b[0m \u001b[0mdeps\u001b[0m\u001b[0;34m.\u001b[0m\u001b[0mdistutils_info\u001b[0m\u001b[0;34m(\u001b[0m\u001b[0mfile\u001b[0m\u001b[0;34m,\u001b[0m \u001b[0maliases\u001b[0m\u001b[0;34m,\u001b[0m \u001b[0mbase\u001b[0m\u001b[0;34m)\u001b[0m\u001b[0;34m.\u001b[0m\u001b[0mvalues\u001b[0m\u001b[0;34m\u001b[0m\u001b[0m\n\u001b[0m\u001b[1;32m    816\u001b[0m                 \u001b[0;32mexcept\u001b[0m \u001b[0mException\u001b[0m\u001b[0;34m:\u001b[0m\u001b[0;34m\u001b[0m\u001b[0m\n\u001b[1;32m    817\u001b[0m                     \u001b[0;32mif\u001b[0m \u001b[0mexclude_failures\u001b[0m\u001b[0;34m:\u001b[0m\u001b[0;34m\u001b[0m\u001b[0m\n",
      "\u001b[0;32m/usr/local/lib/python2.7/dist-packages/Cython/Build/Dependencies.pyc\u001b[0m in \u001b[0;36mdistutils_info\u001b[0;34m(self, filename, aliases, base)\u001b[0m\n\u001b[1;32m    668\u001b[0m \u001b[0;34m\u001b[0m\u001b[0m\n\u001b[1;32m    669\u001b[0m     \u001b[0;32mdef\u001b[0m \u001b[0mdistutils_info\u001b[0m\u001b[0;34m(\u001b[0m\u001b[0mself\u001b[0m\u001b[0;34m,\u001b[0m \u001b[0mfilename\u001b[0m\u001b[0;34m,\u001b[0m \u001b[0maliases\u001b[0m\u001b[0;34m=\u001b[0m\u001b[0mNone\u001b[0m\u001b[0;34m,\u001b[0m \u001b[0mbase\u001b[0m\u001b[0;34m=\u001b[0m\u001b[0mNone\u001b[0m\u001b[0;34m)\u001b[0m\u001b[0;34m:\u001b[0m\u001b[0;34m\u001b[0m\u001b[0m\n\u001b[0;32m--> 670\u001b[0;31m         return (self.transitive_merge(filename, self.distutils_info0, DistutilsInfo.merge)\n\u001b[0m\u001b[1;32m    671\u001b[0m             \u001b[0;34m.\u001b[0m\u001b[0msubs\u001b[0m\u001b[0;34m(\u001b[0m\u001b[0maliases\u001b[0m\u001b[0;34m)\u001b[0m\u001b[0;34m\u001b[0m\u001b[0m\n\u001b[1;32m    672\u001b[0m             .merge(base))\n",
      "\u001b[0;32m/usr/local/lib/python2.7/dist-packages/Cython/Build/Dependencies.pyc\u001b[0m in \u001b[0;36mtransitive_merge\u001b[0;34m(self, node, extract, merge)\u001b[0m\n\u001b[1;32m    678\u001b[0m             \u001b[0mseen\u001b[0m \u001b[0;34m=\u001b[0m \u001b[0mself\u001b[0m\u001b[0;34m.\u001b[0m\u001b[0m_transitive_cache\u001b[0m\u001b[0;34m[\u001b[0m\u001b[0mextract\u001b[0m\u001b[0;34m,\u001b[0m \u001b[0mmerge\u001b[0m\u001b[0;34m]\u001b[0m \u001b[0;34m=\u001b[0m \u001b[0;34m{\u001b[0m\u001b[0;34m}\u001b[0m\u001b[0;34m\u001b[0m\u001b[0m\n\u001b[1;32m    679\u001b[0m         return self.transitive_merge_helper(\n\u001b[0;32m--> 680\u001b[0;31m             node, extract, merge, seen, {}, self.cimported_files)[0]\n\u001b[0m\u001b[1;32m    681\u001b[0m \u001b[0;34m\u001b[0m\u001b[0m\n\u001b[1;32m    682\u001b[0m     \u001b[0;32mdef\u001b[0m \u001b[0mtransitive_merge_helper\u001b[0m\u001b[0;34m(\u001b[0m\u001b[0mself\u001b[0m\u001b[0;34m,\u001b[0m \u001b[0mnode\u001b[0m\u001b[0;34m,\u001b[0m \u001b[0mextract\u001b[0m\u001b[0;34m,\u001b[0m \u001b[0mmerge\u001b[0m\u001b[0;34m,\u001b[0m \u001b[0mseen\u001b[0m\u001b[0;34m,\u001b[0m \u001b[0mstack\u001b[0m\u001b[0;34m,\u001b[0m \u001b[0moutgoing\u001b[0m\u001b[0;34m)\u001b[0m\u001b[0;34m:\u001b[0m\u001b[0;34m\u001b[0m\u001b[0m\n",
      "\u001b[0;32m/usr/local/lib/python2.7/dist-packages/Cython/Build/Dependencies.pyc\u001b[0m in \u001b[0;36mtransitive_merge_helper\u001b[0;34m(self, node, extract, merge, seen, stack, outgoing)\u001b[0m\n\u001b[1;32m    690\u001b[0m             \u001b[0mloop\u001b[0m \u001b[0;34m=\u001b[0m \u001b[0mNone\u001b[0m\u001b[0;34m\u001b[0m\u001b[0m\n\u001b[1;32m    691\u001b[0m             \u001b[0;32mfor\u001b[0m \u001b[0mnext\u001b[0m \u001b[0;32min\u001b[0m \u001b[0moutgoing\u001b[0m\u001b[0;34m(\u001b[0m\u001b[0mnode\u001b[0m\u001b[0;34m)\u001b[0m\u001b[0;34m:\u001b[0m\u001b[0;34m\u001b[0m\u001b[0m\n\u001b[0;32m--> 692\u001b[0;31m                 \u001b[0msub_deps\u001b[0m\u001b[0;34m,\u001b[0m \u001b[0msub_loop\u001b[0m \u001b[0;34m=\u001b[0m \u001b[0mself\u001b[0m\u001b[0;34m.\u001b[0m\u001b[0mtransitive_merge_helper\u001b[0m\u001b[0;34m(\u001b[0m\u001b[0mnext\u001b[0m\u001b[0;34m,\u001b[0m \u001b[0mextract\u001b[0m\u001b[0;34m,\u001b[0m \u001b[0mmerge\u001b[0m\u001b[0;34m,\u001b[0m \u001b[0mseen\u001b[0m\u001b[0;34m,\u001b[0m \u001b[0mstack\u001b[0m\u001b[0;34m,\u001b[0m \u001b[0moutgoing\u001b[0m\u001b[0;34m)\u001b[0m\u001b[0;34m\u001b[0m\u001b[0m\n\u001b[0m\u001b[1;32m    693\u001b[0m                 \u001b[0;32mif\u001b[0m \u001b[0msub_loop\u001b[0m \u001b[0;32mis\u001b[0m \u001b[0;32mnot\u001b[0m \u001b[0mNone\u001b[0m\u001b[0;34m:\u001b[0m\u001b[0;34m\u001b[0m\u001b[0m\n\u001b[1;32m    694\u001b[0m                     \u001b[0;32mif\u001b[0m \u001b[0mloop\u001b[0m \u001b[0;32mis\u001b[0m \u001b[0;32mnot\u001b[0m \u001b[0mNone\u001b[0m \u001b[0;32mand\u001b[0m \u001b[0mstack\u001b[0m\u001b[0;34m[\u001b[0m\u001b[0mloop\u001b[0m\u001b[0;34m]\u001b[0m \u001b[0;34m<\u001b[0m \u001b[0mstack\u001b[0m\u001b[0;34m[\u001b[0m\u001b[0msub_loop\u001b[0m\u001b[0;34m]\u001b[0m\u001b[0;34m:\u001b[0m\u001b[0;34m\u001b[0m\u001b[0m\n",
      "\u001b[0;32m/usr/local/lib/python2.7/dist-packages/Cython/Build/Dependencies.pyc\u001b[0m in \u001b[0;36mtransitive_merge_helper\u001b[0;34m(self, node, extract, merge, seen, stack, outgoing)\u001b[0m\n\u001b[1;32m    683\u001b[0m         \u001b[0;32mif\u001b[0m \u001b[0mnode\u001b[0m \u001b[0;32min\u001b[0m \u001b[0mseen\u001b[0m\u001b[0;34m:\u001b[0m\u001b[0;34m\u001b[0m\u001b[0m\n\u001b[1;32m    684\u001b[0m             \u001b[0;32mreturn\u001b[0m \u001b[0mseen\u001b[0m\u001b[0;34m[\u001b[0m\u001b[0mnode\u001b[0m\u001b[0;34m]\u001b[0m\u001b[0;34m,\u001b[0m \u001b[0mNone\u001b[0m\u001b[0;34m\u001b[0m\u001b[0m\n\u001b[0;32m--> 685\u001b[0;31m         \u001b[0mdeps\u001b[0m \u001b[0;34m=\u001b[0m \u001b[0mextract\u001b[0m\u001b[0;34m(\u001b[0m\u001b[0mnode\u001b[0m\u001b[0;34m)\u001b[0m\u001b[0;34m\u001b[0m\u001b[0m\n\u001b[0m\u001b[1;32m    686\u001b[0m         \u001b[0;32mif\u001b[0m \u001b[0mnode\u001b[0m \u001b[0;32min\u001b[0m \u001b[0mstack\u001b[0m\u001b[0;34m:\u001b[0m\u001b[0;34m\u001b[0m\u001b[0m\n\u001b[1;32m    687\u001b[0m             \u001b[0;32mreturn\u001b[0m \u001b[0mdeps\u001b[0m\u001b[0;34m,\u001b[0m \u001b[0mnode\u001b[0m\u001b[0;34m\u001b[0m\u001b[0m\n",
      "\u001b[0;32m/usr/local/lib/python2.7/dist-packages/Cython/Build/Dependencies.pyc\u001b[0m in \u001b[0;36mdistutils_info0\u001b[0;34m(self, filename)\u001b[0m\n\u001b[1;32m    652\u001b[0m         \u001b[0;31m# Add dependencies on \"cdef extern from ...\" files\u001b[0m\u001b[0;34m\u001b[0m\u001b[0;34m\u001b[0m\u001b[0m\n\u001b[1;32m    653\u001b[0m         \u001b[0;32mif\u001b[0m \u001b[0mexterns\u001b[0m\u001b[0;34m:\u001b[0m\u001b[0;34m\u001b[0m\u001b[0m\n\u001b[0;32m--> 654\u001b[0;31m             \u001b[0mexterns\u001b[0m \u001b[0;34m=\u001b[0m \u001b[0m_make_relative\u001b[0m\u001b[0;34m(\u001b[0m\u001b[0mexterns\u001b[0m\u001b[0;34m,\u001b[0m \u001b[0mbasedir\u001b[0m\u001b[0;34m)\u001b[0m\u001b[0;34m\u001b[0m\u001b[0m\n\u001b[0m\u001b[1;32m    655\u001b[0m             \u001b[0;32mif\u001b[0m \u001b[0;34m'depends'\u001b[0m \u001b[0;32min\u001b[0m \u001b[0mkwds\u001b[0m\u001b[0;34m:\u001b[0m\u001b[0;34m\u001b[0m\u001b[0m\n\u001b[1;32m    656\u001b[0m                 \u001b[0mkwds\u001b[0m\u001b[0;34m[\u001b[0m\u001b[0;34m'depends'\u001b[0m\u001b[0;34m]\u001b[0m \u001b[0;34m=\u001b[0m \u001b[0mlist\u001b[0m\u001b[0;34m(\u001b[0m\u001b[0mset\u001b[0m\u001b[0;34m(\u001b[0m\u001b[0mkwds\u001b[0m\u001b[0;34m[\u001b[0m\u001b[0;34m'depends'\u001b[0m\u001b[0;34m]\u001b[0m\u001b[0;34m)\u001b[0m\u001b[0;34m.\u001b[0m\u001b[0munion\u001b[0m\u001b[0;34m(\u001b[0m\u001b[0mexterns\u001b[0m\u001b[0;34m)\u001b[0m\u001b[0;34m)\u001b[0m\u001b[0;34m\u001b[0m\u001b[0m\n",
      "\u001b[0;32m/usr/local/lib/python2.7/dist-packages/Cython/Build/Dependencies.pyc\u001b[0m in \u001b[0;36m_make_relative\u001b[0;34m(file_paths, base)\u001b[0m\n\u001b[1;32m     84\u001b[0m         \u001b[0mbase\u001b[0m \u001b[0;34m+=\u001b[0m \u001b[0mos\u001b[0m\u001b[0;34m.\u001b[0m\u001b[0mpath\u001b[0m\u001b[0;34m.\u001b[0m\u001b[0msep\u001b[0m\u001b[0;34m\u001b[0m\u001b[0m\n\u001b[1;32m     85\u001b[0m     return [_relpath(path, base) if path.startswith(base) else path\n\u001b[0;32m---> 86\u001b[0;31m             for path in file_paths]\n\u001b[0m\u001b[1;32m     87\u001b[0m \u001b[0;34m\u001b[0m\u001b[0m\n\u001b[1;32m     88\u001b[0m \u001b[0;34m\u001b[0m\u001b[0m\n",
      "\u001b[0;31mUnicodeDecodeError\u001b[0m: 'ascii' codec can't decode byte 0xd1 in position 49: ordinal not in range(128)"
     ]
    }
   ],
   "source": [
    "%%cython\n",
    "import numpy as np\n",
    "cimport numpy as np\n",
    "\n",
    "def gradient_decent_numpy_faster_cython(X, y, n_iter=100, alpha=0.1):\n",
    "    n_objects, n_features = X.shape[0], X.shape[1]\n",
    "    w = np.random.rand(n_features, 1)  # changed\n",
    "    for iteration in xrange(n_iter):\n",
    "        gradient = ((X.dot(w) - y) * X).sum(axis=0).reshape(-1, 1)\n",
    "        gradient = gradient * 2 / n_objects\n",
    "        w -= alpha * gradient\n",
    "    return w"
   ]
  },
  {
   "cell_type": "code",
   "execution_count": 41,
   "metadata": {},
   "outputs": [
    {
     "ename": "NameError",
     "evalue": "name 'gradient_decent_numpy_faster_cython' is not defined",
     "output_type": "error",
     "traceback": [
      "\u001b[0;31m---------------------------------------------------------------------------\u001b[0m",
      "\u001b[0;31mNameError\u001b[0m                                 Traceback (most recent call last)",
      "\u001b[0;32m<ipython-input-41-23ff47eedade>\u001b[0m in \u001b[0;36m<module>\u001b[0;34m()\u001b[0m\n\u001b[0;32m----> 1\u001b[0;31m \u001b[0mw\u001b[0m \u001b[0;34m=\u001b[0m \u001b[0mgradient_decent_numpy_faster_cython\u001b[0m\u001b[0;34m(\u001b[0m\u001b[0mX\u001b[0m\u001b[0;34m,\u001b[0m \u001b[0my\u001b[0m\u001b[0;34m,\u001b[0m \u001b[0mn_iter\u001b[0m\u001b[0;34m=\u001b[0m\u001b[0mN_ITER\u001b[0m\u001b[0;34m)\u001b[0m\u001b[0;34m\u001b[0m\u001b[0m\n\u001b[0m\u001b[1;32m      2\u001b[0m \u001b[0;32mprint\u001b[0m \u001b[0;34m(\u001b[0m\u001b[0;34m(\u001b[0m\u001b[0my\u001b[0m \u001b[0;34m-\u001b[0m \u001b[0mX\u001b[0m\u001b[0;34m.\u001b[0m\u001b[0mdot\u001b[0m\u001b[0;34m(\u001b[0m\u001b[0mw\u001b[0m\u001b[0;34m)\u001b[0m\u001b[0;34m)\u001b[0m \u001b[0;34m**\u001b[0m \u001b[0;36m2\u001b[0m\u001b[0;34m)\u001b[0m\u001b[0;34m.\u001b[0m\u001b[0mmean\u001b[0m\u001b[0;34m(\u001b[0m\u001b[0;34m)\u001b[0m\u001b[0;34m\u001b[0m\u001b[0m\n",
      "\u001b[0;31mNameError\u001b[0m: name 'gradient_decent_numpy_faster_cython' is not defined"
     ]
    }
   ],
   "source": [
    "w = gradient_decent_numpy_faster_cython(X, y, n_iter=N_ITER)\n",
    "print ((y - X.dot(w)) ** 2).mean()"
   ]
  },
  {
   "cell_type": "code",
   "execution_count": null,
   "metadata": {},
   "outputs": [],
   "source": [
    "%%timeit\n",
    "gradient_decent_numpy_faster_cython(X, y, n_iter=N_ITER)"
   ]
  },
  {
   "cell_type": "code",
   "execution_count": null,
   "metadata": {},
   "outputs": [],
   "source": [
    "# аннтоции "
   ]
  },
  {
   "cell_type": "code",
   "execution_count": null,
   "metadata": {},
   "outputs": [],
   "source": [
    "%%cython -a\n",
    "import numpy as np\n",
    "cimport numpy as np\n",
    "\n",
    "def gradient_decent_numpy_faster_cython(X, y, n_iter=100, alpha=0.1):\n",
    "    n_objects, n_features = X.shape[0], X.shape[1]\n",
    "    w = np.random.rand(n_features, 1)  # changed\n",
    "    for iteration in xrange(n_iter):\n",
    "        gradient = ((X.dot(w) - y) * X).sum(axis=0).reshape(-1, 1)\n",
    "        gradient = gradient * 2 / n_objects\n",
    "        w -= alpha * gradient\n",
    "    return w"
   ]
  },
  {
   "cell_type": "code",
   "execution_count": null,
   "metadata": {},
   "outputs": [],
   "source": [
    "# добавим типы"
   ]
  },
  {
   "cell_type": "code",
   "execution_count": null,
   "metadata": {
    "scrolled": true
   },
   "outputs": [],
   "source": [
    "%%cython -a\n",
    "import numpy as np\n",
    "cimport numpy as np\n",
    "\n",
    "cpdef gradient_decent_numpy_faster_cython(np.ndarray[np.float64_t, ndim=2] X, \n",
    "                                          np.ndarray[np.float64_t, ndim=2] y, \n",
    "                                          int n_iter=100, \n",
    "                                          np.float64_t alpha=0.1):\n",
    "    cdef int n_objects, n_features;\n",
    "    cdef np.ndarray[np.float64_t, ndim=2] w;\n",
    "    cdef np.ndarray[np.float64_t, ndim=2] gradient;\n",
    "    n_objects, n_features = X.shape[0], X.shape[1]\n",
    "    w = np.random.rand(n_features, 1)  # changed\n",
    "    for iteration in xrange(n_iter):\n",
    "        gradient = ((X.dot(w) - y) * X).sum(axis=0).reshape(-1, 1)\n",
    "        gradient = gradient * 2 / n_objects\n",
    "        w -= alpha * gradient\n",
    "    return w"
   ]
  },
  {
   "cell_type": "code",
   "execution_count": null,
   "metadata": {},
   "outputs": [],
   "source": [
    "w = gradient_decent_numpy_faster_cython(X, y, n_iter=N_ITER)\n",
    "print ((y - X.dot(w)) ** 2).mean()"
   ]
  },
  {
   "cell_type": "code",
   "execution_count": null,
   "metadata": {},
   "outputs": [],
   "source": [
    "%%timeit\n",
    "gradient_decent_numpy_faster_cython(X, y, n_iter=N_ITER)"
   ]
  },
  {
   "cell_type": "code",
   "execution_count": null,
   "metadata": {},
   "outputs": [],
   "source": []
  },
  {
   "cell_type": "code",
   "execution_count": null,
   "metadata": {},
   "outputs": [],
   "source": []
  },
  {
   "cell_type": "code",
   "execution_count": null,
   "metadata": {},
   "outputs": [],
   "source": [
    "#  вернемся к нашему хорошему коду на питоне и добавим типы"
   ]
  },
  {
   "cell_type": "code",
   "execution_count": null,
   "metadata": {
    "scrolled": true
   },
   "outputs": [],
   "source": [
    "%%cython -a\n",
    "import numpy as np\n",
    "cimport numpy as np\n",
    "\n",
    "\n",
    "cpdef gradient_decent_python_faster_cython_v0(np.ndarray[np.float64_t, ndim=2] X, \n",
    "                                              np.ndarray[np.float64_t, ndim=2] y, \n",
    "                                              int n_iter=100, \n",
    "                                              np.float64_t alpha=0.1):\n",
    "    cdef int n_objects, n_features;\n",
    "    cdef np.ndarray[np.float64_t, ndim=1] w;\n",
    "    cdef np.ndarray[np.float64_t, ndim=1] w_old;\n",
    "    cdef np.ndarray[np.float64_t, ndim=1] gradient;\n",
    "    cdef np.float64_t diff;\n",
    "    n_objects, n_features = X.shape[0], X.shape[1]\n",
    "    w = np.random.rand(n_features)\n",
    "    w_old = np.random.rand(n_features)\n",
    "    for iteration in xrange(n_iter):\n",
    "        np.copyto(w_old, w)\n",
    "        gradient = np.zeros(n_features)\n",
    "        for obj in xrange(n_objects):\n",
    "            diff = (X[obj, :] * w).sum() - y[obj, 0]\n",
    "            for f in xrange(n_features):\n",
    "                gradient[f] += diff * X[obj, f] \n",
    "        gradient = gradient * 2 / n_objects\n",
    "        w = w_old - alpha * gradient\n",
    "    return w.reshape(-1, 1)"
   ]
  },
  {
   "cell_type": "code",
   "execution_count": null,
   "metadata": {},
   "outputs": [],
   "source": [
    "w = gradient_decent_python_faster_cython_v0(X, y, n_iter=N_ITER)\n",
    "print ((y - X.dot(w)) ** 2).mean()"
   ]
  },
  {
   "cell_type": "code",
   "execution_count": null,
   "metadata": {},
   "outputs": [],
   "source": [
    "%%timeit\n",
    "res = gradient_decent_python_faster_cython_v0(X, y, n_iter=N_ITER)"
   ]
  },
  {
   "cell_type": "code",
   "execution_count": null,
   "metadata": {},
   "outputs": [],
   "source": []
  },
  {
   "cell_type": "code",
   "execution_count": null,
   "metadata": {},
   "outputs": [],
   "source": [
    "# заменим код, где много вызовов к python (отмечены желтым)"
   ]
  },
  {
   "cell_type": "code",
   "execution_count": null,
   "metadata": {
    "scrolled": true
   },
   "outputs": [],
   "source": [
    "%%cython -a\n",
    "import numpy as np\n",
    "cimport numpy as np\n",
    "\n",
    "\n",
    "cpdef gradient_decent_python_faster_cython_v1(np.ndarray[np.float64_t, ndim=2] X, \n",
    "                                              np.ndarray[np.float64_t, ndim=2] y, \n",
    "                                              int n_iter=100, \n",
    "                                              np.float64_t alpha=0.1):\n",
    "    cdef int n_objects, n_features;\n",
    "    cdef np.float64_t diff\n",
    "    cdef np.ndarray[np.float64_t, ndim=1] w;\n",
    "    cdef np.ndarray[np.float64_t, ndim=1] w_old;\n",
    "    cdef np.ndarray[np.float64_t, ndim=1] gradient;\n",
    "    n_objects, n_features = X.shape[0], X.shape[1]\n",
    "    w = np.random.rand(n_features)\n",
    "    w_old = np.random.rand(n_features)\n",
    "    gradient = np.zeros(n_features)\n",
    "    for iteration in xrange(n_iter):\n",
    "        for f in xrange(n_features):\n",
    "            gradient[f] = 0\n",
    "            w_old[f] = w[f]\n",
    "        for obj in xrange(n_objects):\n",
    "            diff = - y[obj, 0]\n",
    "            for f in xrange(n_features):\n",
    "                diff += X[obj, f] * w[f]\n",
    "            for f in xrange(n_features):\n",
    "                gradient[f] += diff * X[obj, f] \n",
    "        for f in xrange(n_features):\n",
    "            gradient[f] = gradient[f] * 2 / n_objects\n",
    "            w[f] = w_old[f] - alpha * gradient[f]\n",
    "    return w.reshape(-1, 1)"
   ]
  },
  {
   "cell_type": "code",
   "execution_count": null,
   "metadata": {},
   "outputs": [],
   "source": [
    "w = gradient_decent_python_faster_cython_v1(X, y, n_iter=N_ITER)\n",
    "print ((y - X.dot(w)) ** 2).mean()"
   ]
  },
  {
   "cell_type": "code",
   "execution_count": null,
   "metadata": {},
   "outputs": [],
   "source": [
    "%%timeit\n",
    "res = gradient_decent_python_faster_cython_v1(X, y, n_iter=N_ITER)"
   ]
  },
  {
   "cell_type": "code",
   "execution_count": null,
   "metadata": {},
   "outputs": [],
   "source": []
  },
  {
   "cell_type": "code",
   "execution_count": null,
   "metadata": {},
   "outputs": [],
   "source": [
    "# добавим декораторы"
   ]
  },
  {
   "cell_type": "code",
   "execution_count": null,
   "metadata": {},
   "outputs": [],
   "source": [
    "%%cython -a\n",
    "import numpy as np\n",
    "cimport numpy as np\n",
    "import cython\n",
    "\n",
    "\n",
    "@cython.boundscheck(False)\n",
    "@cython.cdivision(True)\n",
    "cpdef gradient_decent_python_faster_cython_v2(np.ndarray[np.float64_t, ndim=2] X, \n",
    "                                              np.ndarray[np.float64_t, ndim=2] y, \n",
    "                                              int n_iter=100, \n",
    "                                              np.float64_t alpha=0.1):\n",
    "    cdef int n_objects, n_features;\n",
    "    cdef np.float64_t diff\n",
    "    cdef np.ndarray[np.float64_t, ndim=1] w;\n",
    "    cdef np.ndarray[np.float64_t, ndim=1] w_old;\n",
    "    cdef np.ndarray[np.float64_t, ndim=1] gradient;\n",
    "    n_objects, n_features = X.shape[0], X.shape[1]\n",
    "    w = np.random.rand(n_features)\n",
    "    w_old = np.random.rand(n_features)\n",
    "    gradient = np.zeros(n_features)\n",
    "    for iteration in xrange(n_iter):\n",
    "        for f in xrange(n_features):\n",
    "            gradient[f] = 0\n",
    "            w_old[f] = w[f]\n",
    "        for obj in xrange(n_objects):\n",
    "            diff = - y[obj, 0]\n",
    "            for f in xrange(n_features):\n",
    "                diff += X[obj, f] * w[f]\n",
    "            for f in xrange(n_features):\n",
    "                gradient[f] += diff * X[obj, f] \n",
    "        for f in xrange(n_features):\n",
    "            gradient[f] = gradient[f] * 2 / n_objects\n",
    "            w[f] = w_old[f] - alpha * gradient[f]\n",
    "    return w.reshape(-1, 1)"
   ]
  },
  {
   "cell_type": "code",
   "execution_count": null,
   "metadata": {},
   "outputs": [],
   "source": [
    "!pip install numba"
   ]
  },
  {
   "cell_type": "code",
   "execution_count": null,
   "metadata": {},
   "outputs": [],
   "source": [
    "w = gradient_decent_python_faster_cython_v2(X, y, n_iter=N_ITER)\n",
    "print ((y - X.dot(w)) ** 2).mean()"
   ]
  },
  {
   "cell_type": "code",
   "execution_count": null,
   "metadata": {},
   "outputs": [],
   "source": [
    "%%timeit\n",
    "res = gradient_decent_python_faster_cython_v2(X, y, n_iter=N_ITER)"
   ]
  },
  {
   "cell_type": "code",
   "execution_count": 55,
   "metadata": {},
   "outputs": [
    {
     "ename": "UnicodeDecodeError",
     "evalue": "'ascii' codec can't decode byte 0xd1 in position 49: ordinal not in range(128)",
     "output_type": "error",
     "traceback": [
      "\u001b[0;31m---------------------------------------------------------------------------\u001b[0m",
      "\u001b[0;31mUnicodeDecodeError\u001b[0m                        Traceback (most recent call last)",
      "\u001b[0;32m<ipython-input-55-ec3de908b72e>\u001b[0m in \u001b[0;36m<module>\u001b[0;34m()\u001b[0m\n\u001b[0;32m----> 1\u001b[0;31m \u001b[0mget_ipython\u001b[0m\u001b[0;34m(\u001b[0m\u001b[0;34m)\u001b[0m\u001b[0;34m.\u001b[0m\u001b[0mrun_cell_magic\u001b[0m\u001b[0;34m(\u001b[0m\u001b[0;34mu'cython'\u001b[0m\u001b[0;34m,\u001b[0m \u001b[0;34mu''\u001b[0m\u001b[0;34m,\u001b[0m \u001b[0;34mu\"cimport numpy as np\\n\\ndef m_mult(X, Y, cd = 'nostd'):\\n    if cs == 'std':\\n        return X.dot(Y)\\n    else:\\n        Z = np.empty((X.shape[0], Y.shape[1]))\\n        for x in range(0, X.shape[0]):\\n            for y in range (0, Y.shape[1]):\\n                for z in range (X.shape[1]):\\n                    Z[x][y] += X[x][z] * Y[z][y]\\n        return Z\"\u001b[0m\u001b[0;34m)\u001b[0m\u001b[0;34m\u001b[0m\u001b[0m\n\u001b[0m",
      "\u001b[0;32m/usr/local/lib/python2.7/dist-packages/IPython/core/interactiveshell.pyc\u001b[0m in \u001b[0;36mrun_cell_magic\u001b[0;34m(self, magic_name, line, cell)\u001b[0m\n\u001b[1;32m   2115\u001b[0m             \u001b[0mmagic_arg_s\u001b[0m \u001b[0;34m=\u001b[0m \u001b[0mself\u001b[0m\u001b[0;34m.\u001b[0m\u001b[0mvar_expand\u001b[0m\u001b[0;34m(\u001b[0m\u001b[0mline\u001b[0m\u001b[0;34m,\u001b[0m \u001b[0mstack_depth\u001b[0m\u001b[0;34m)\u001b[0m\u001b[0;34m\u001b[0m\u001b[0m\n\u001b[1;32m   2116\u001b[0m             \u001b[0;32mwith\u001b[0m \u001b[0mself\u001b[0m\u001b[0;34m.\u001b[0m\u001b[0mbuiltin_trap\u001b[0m\u001b[0;34m:\u001b[0m\u001b[0;34m\u001b[0m\u001b[0m\n\u001b[0;32m-> 2117\u001b[0;31m                 \u001b[0mresult\u001b[0m \u001b[0;34m=\u001b[0m \u001b[0mfn\u001b[0m\u001b[0;34m(\u001b[0m\u001b[0mmagic_arg_s\u001b[0m\u001b[0;34m,\u001b[0m \u001b[0mcell\u001b[0m\u001b[0;34m)\u001b[0m\u001b[0;34m\u001b[0m\u001b[0m\n\u001b[0m\u001b[1;32m   2118\u001b[0m             \u001b[0;32mreturn\u001b[0m \u001b[0mresult\u001b[0m\u001b[0;34m\u001b[0m\u001b[0m\n\u001b[1;32m   2119\u001b[0m \u001b[0;34m\u001b[0m\u001b[0m\n",
      "\u001b[0;32m<decorator-gen-125>\u001b[0m in \u001b[0;36mcython\u001b[0;34m(self, line, cell)\u001b[0m\n",
      "\u001b[0;32m/usr/local/lib/python2.7/dist-packages/IPython/core/magic.pyc\u001b[0m in \u001b[0;36m<lambda>\u001b[0;34m(f, *a, **k)\u001b[0m\n\u001b[1;32m    186\u001b[0m     \u001b[0;31m# but it's overkill for just that one bit of state.\u001b[0m\u001b[0;34m\u001b[0m\u001b[0;34m\u001b[0m\u001b[0m\n\u001b[1;32m    187\u001b[0m     \u001b[0;32mdef\u001b[0m \u001b[0mmagic_deco\u001b[0m\u001b[0;34m(\u001b[0m\u001b[0marg\u001b[0m\u001b[0;34m)\u001b[0m\u001b[0;34m:\u001b[0m\u001b[0;34m\u001b[0m\u001b[0m\n\u001b[0;32m--> 188\u001b[0;31m         \u001b[0mcall\u001b[0m \u001b[0;34m=\u001b[0m \u001b[0;32mlambda\u001b[0m \u001b[0mf\u001b[0m\u001b[0;34m,\u001b[0m \u001b[0;34m*\u001b[0m\u001b[0ma\u001b[0m\u001b[0;34m,\u001b[0m \u001b[0;34m**\u001b[0m\u001b[0mk\u001b[0m\u001b[0;34m:\u001b[0m \u001b[0mf\u001b[0m\u001b[0;34m(\u001b[0m\u001b[0;34m*\u001b[0m\u001b[0ma\u001b[0m\u001b[0;34m,\u001b[0m \u001b[0;34m**\u001b[0m\u001b[0mk\u001b[0m\u001b[0;34m)\u001b[0m\u001b[0;34m\u001b[0m\u001b[0m\n\u001b[0m\u001b[1;32m    189\u001b[0m \u001b[0;34m\u001b[0m\u001b[0m\n\u001b[1;32m    190\u001b[0m         \u001b[0;32mif\u001b[0m \u001b[0mcallable\u001b[0m\u001b[0;34m(\u001b[0m\u001b[0marg\u001b[0m\u001b[0;34m)\u001b[0m\u001b[0;34m:\u001b[0m\u001b[0;34m\u001b[0m\u001b[0m\n",
      "\u001b[0;32m/usr/local/lib/python2.7/dist-packages/Cython/Build/IpythonMagic.pyc\u001b[0m in \u001b[0;36mcython\u001b[0;34m(self, line, cell)\u001b[0m\n\u001b[1;32m    318\u001b[0m         \u001b[0mextension\u001b[0m \u001b[0;34m=\u001b[0m \u001b[0mNone\u001b[0m\u001b[0;34m\u001b[0m\u001b[0m\n\u001b[1;32m    319\u001b[0m         \u001b[0;32mif\u001b[0m \u001b[0mneed_cythonize\u001b[0m\u001b[0;34m:\u001b[0m\u001b[0;34m\u001b[0m\u001b[0m\n\u001b[0;32m--> 320\u001b[0;31m             \u001b[0mextensions\u001b[0m \u001b[0;34m=\u001b[0m \u001b[0mself\u001b[0m\u001b[0;34m.\u001b[0m\u001b[0m_cythonize\u001b[0m\u001b[0;34m(\u001b[0m\u001b[0mmodule_name\u001b[0m\u001b[0;34m,\u001b[0m \u001b[0mcode\u001b[0m\u001b[0;34m,\u001b[0m \u001b[0mlib_dir\u001b[0m\u001b[0;34m,\u001b[0m \u001b[0margs\u001b[0m\u001b[0;34m,\u001b[0m \u001b[0mquiet\u001b[0m\u001b[0;34m=\u001b[0m\u001b[0margs\u001b[0m\u001b[0;34m.\u001b[0m\u001b[0mquiet\u001b[0m\u001b[0;34m)\u001b[0m\u001b[0;34m\u001b[0m\u001b[0m\n\u001b[0m\u001b[1;32m    321\u001b[0m             \u001b[0;32massert\u001b[0m \u001b[0mlen\u001b[0m\u001b[0;34m(\u001b[0m\u001b[0mextensions\u001b[0m\u001b[0;34m)\u001b[0m \u001b[0;34m==\u001b[0m \u001b[0;36m1\u001b[0m\u001b[0;34m\u001b[0m\u001b[0m\n\u001b[1;32m    322\u001b[0m             \u001b[0mextension\u001b[0m \u001b[0;34m=\u001b[0m \u001b[0mextensions\u001b[0m\u001b[0;34m[\u001b[0m\u001b[0;36m0\u001b[0m\u001b[0;34m]\u001b[0m\u001b[0;34m\u001b[0m\u001b[0m\n",
      "\u001b[0;32m/usr/local/lib/python2.7/dist-packages/Cython/Build/IpythonMagic.pyc\u001b[0m in \u001b[0;36m_cythonize\u001b[0;34m(self, module_name, code, lib_dir, args, quiet)\u001b[0m\n\u001b[1;32m    426\u001b[0m             \u001b[0;32melif\u001b[0m \u001b[0msys\u001b[0m\u001b[0;34m.\u001b[0m\u001b[0mversion_info\u001b[0m\u001b[0;34m[\u001b[0m\u001b[0;36m0\u001b[0m\u001b[0;34m]\u001b[0m \u001b[0;34m>=\u001b[0m \u001b[0;36m3\u001b[0m\u001b[0;34m:\u001b[0m\u001b[0;34m\u001b[0m\u001b[0m\n\u001b[1;32m    427\u001b[0m                 \u001b[0mopts\u001b[0m\u001b[0;34m[\u001b[0m\u001b[0;34m'language_level'\u001b[0m\u001b[0;34m]\u001b[0m \u001b[0;34m=\u001b[0m \u001b[0;36m3\u001b[0m\u001b[0;34m\u001b[0m\u001b[0m\n\u001b[0;32m--> 428\u001b[0;31m             \u001b[0;32mreturn\u001b[0m \u001b[0mcythonize\u001b[0m\u001b[0;34m(\u001b[0m\u001b[0;34m[\u001b[0m\u001b[0mextension\u001b[0m\u001b[0;34m]\u001b[0m\u001b[0;34m,\u001b[0m \u001b[0;34m**\u001b[0m\u001b[0mopts\u001b[0m\u001b[0;34m)\u001b[0m\u001b[0;34m\u001b[0m\u001b[0m\n\u001b[0m\u001b[1;32m    429\u001b[0m         \u001b[0;32mexcept\u001b[0m \u001b[0mCompileError\u001b[0m\u001b[0;34m:\u001b[0m\u001b[0;34m\u001b[0m\u001b[0m\n\u001b[1;32m    430\u001b[0m             \u001b[0;32mreturn\u001b[0m \u001b[0mNone\u001b[0m\u001b[0;34m\u001b[0m\u001b[0m\n",
      "\u001b[0;32m/usr/local/lib/python2.7/dist-packages/Cython/Build/Dependencies.pyc\u001b[0m in \u001b[0;36mcythonize\u001b[0;34m(module_list, exclude, nthreads, aliases, quiet, force, language, exclude_failures, **options)\u001b[0m\n\u001b[1;32m    918\u001b[0m         \u001b[0mexclude_failures\u001b[0m\u001b[0;34m=\u001b[0m\u001b[0mexclude_failures\u001b[0m\u001b[0;34m,\u001b[0m\u001b[0;34m\u001b[0m\u001b[0m\n\u001b[1;32m    919\u001b[0m         \u001b[0mlanguage\u001b[0m\u001b[0;34m=\u001b[0m\u001b[0mlanguage\u001b[0m\u001b[0;34m,\u001b[0m\u001b[0;34m\u001b[0m\u001b[0m\n\u001b[0;32m--> 920\u001b[0;31m         aliases=aliases)\n\u001b[0m\u001b[1;32m    921\u001b[0m     \u001b[0mdeps\u001b[0m \u001b[0;34m=\u001b[0m \u001b[0mcreate_dependency_tree\u001b[0m\u001b[0;34m(\u001b[0m\u001b[0mctx\u001b[0m\u001b[0;34m,\u001b[0m \u001b[0mquiet\u001b[0m\u001b[0;34m=\u001b[0m\u001b[0mquiet\u001b[0m\u001b[0;34m)\u001b[0m\u001b[0;34m\u001b[0m\u001b[0m\n\u001b[1;32m    922\u001b[0m     \u001b[0mbuild_dir\u001b[0m \u001b[0;34m=\u001b[0m \u001b[0mgetattr\u001b[0m\u001b[0;34m(\u001b[0m\u001b[0moptions\u001b[0m\u001b[0;34m,\u001b[0m \u001b[0;34m'build_dir'\u001b[0m\u001b[0;34m,\u001b[0m \u001b[0mNone\u001b[0m\u001b[0;34m)\u001b[0m\u001b[0;34m\u001b[0m\u001b[0m\n",
      "\u001b[0;32m/usr/local/lib/python2.7/dist-packages/Cython/Build/Dependencies.pyc\u001b[0m in \u001b[0;36mcreate_extension_list\u001b[0;34m(patterns, exclude, ctx, aliases, quiet, language, exclude_failures)\u001b[0m\n\u001b[1;32m    813\u001b[0m             \u001b[0;32mif\u001b[0m \u001b[0mmodule_name\u001b[0m \u001b[0;32mnot\u001b[0m \u001b[0;32min\u001b[0m \u001b[0mseen\u001b[0m\u001b[0;34m:\u001b[0m\u001b[0;34m\u001b[0m\u001b[0m\n\u001b[1;32m    814\u001b[0m                 \u001b[0;32mtry\u001b[0m\u001b[0;34m:\u001b[0m\u001b[0;34m\u001b[0m\u001b[0m\n\u001b[0;32m--> 815\u001b[0;31m                     \u001b[0mkwds\u001b[0m \u001b[0;34m=\u001b[0m \u001b[0mdeps\u001b[0m\u001b[0;34m.\u001b[0m\u001b[0mdistutils_info\u001b[0m\u001b[0;34m(\u001b[0m\u001b[0mfile\u001b[0m\u001b[0;34m,\u001b[0m \u001b[0maliases\u001b[0m\u001b[0;34m,\u001b[0m \u001b[0mbase\u001b[0m\u001b[0;34m)\u001b[0m\u001b[0;34m.\u001b[0m\u001b[0mvalues\u001b[0m\u001b[0;34m\u001b[0m\u001b[0m\n\u001b[0m\u001b[1;32m    816\u001b[0m                 \u001b[0;32mexcept\u001b[0m \u001b[0mException\u001b[0m\u001b[0;34m:\u001b[0m\u001b[0;34m\u001b[0m\u001b[0m\n\u001b[1;32m    817\u001b[0m                     \u001b[0;32mif\u001b[0m \u001b[0mexclude_failures\u001b[0m\u001b[0;34m:\u001b[0m\u001b[0;34m\u001b[0m\u001b[0m\n",
      "\u001b[0;32m/usr/local/lib/python2.7/dist-packages/Cython/Build/Dependencies.pyc\u001b[0m in \u001b[0;36mdistutils_info\u001b[0;34m(self, filename, aliases, base)\u001b[0m\n\u001b[1;32m    668\u001b[0m \u001b[0;34m\u001b[0m\u001b[0m\n\u001b[1;32m    669\u001b[0m     \u001b[0;32mdef\u001b[0m \u001b[0mdistutils_info\u001b[0m\u001b[0;34m(\u001b[0m\u001b[0mself\u001b[0m\u001b[0;34m,\u001b[0m \u001b[0mfilename\u001b[0m\u001b[0;34m,\u001b[0m \u001b[0maliases\u001b[0m\u001b[0;34m=\u001b[0m\u001b[0mNone\u001b[0m\u001b[0;34m,\u001b[0m \u001b[0mbase\u001b[0m\u001b[0;34m=\u001b[0m\u001b[0mNone\u001b[0m\u001b[0;34m)\u001b[0m\u001b[0;34m:\u001b[0m\u001b[0;34m\u001b[0m\u001b[0m\n\u001b[0;32m--> 670\u001b[0;31m         return (self.transitive_merge(filename, self.distutils_info0, DistutilsInfo.merge)\n\u001b[0m\u001b[1;32m    671\u001b[0m             \u001b[0;34m.\u001b[0m\u001b[0msubs\u001b[0m\u001b[0;34m(\u001b[0m\u001b[0maliases\u001b[0m\u001b[0;34m)\u001b[0m\u001b[0;34m\u001b[0m\u001b[0m\n\u001b[1;32m    672\u001b[0m             .merge(base))\n",
      "\u001b[0;32m/usr/local/lib/python2.7/dist-packages/Cython/Build/Dependencies.pyc\u001b[0m in \u001b[0;36mtransitive_merge\u001b[0;34m(self, node, extract, merge)\u001b[0m\n\u001b[1;32m    678\u001b[0m             \u001b[0mseen\u001b[0m \u001b[0;34m=\u001b[0m \u001b[0mself\u001b[0m\u001b[0;34m.\u001b[0m\u001b[0m_transitive_cache\u001b[0m\u001b[0;34m[\u001b[0m\u001b[0mextract\u001b[0m\u001b[0;34m,\u001b[0m \u001b[0mmerge\u001b[0m\u001b[0;34m]\u001b[0m \u001b[0;34m=\u001b[0m \u001b[0;34m{\u001b[0m\u001b[0;34m}\u001b[0m\u001b[0;34m\u001b[0m\u001b[0m\n\u001b[1;32m    679\u001b[0m         return self.transitive_merge_helper(\n\u001b[0;32m--> 680\u001b[0;31m             node, extract, merge, seen, {}, self.cimported_files)[0]\n\u001b[0m\u001b[1;32m    681\u001b[0m \u001b[0;34m\u001b[0m\u001b[0m\n\u001b[1;32m    682\u001b[0m     \u001b[0;32mdef\u001b[0m \u001b[0mtransitive_merge_helper\u001b[0m\u001b[0;34m(\u001b[0m\u001b[0mself\u001b[0m\u001b[0;34m,\u001b[0m \u001b[0mnode\u001b[0m\u001b[0;34m,\u001b[0m \u001b[0mextract\u001b[0m\u001b[0;34m,\u001b[0m \u001b[0mmerge\u001b[0m\u001b[0;34m,\u001b[0m \u001b[0mseen\u001b[0m\u001b[0;34m,\u001b[0m \u001b[0mstack\u001b[0m\u001b[0;34m,\u001b[0m \u001b[0moutgoing\u001b[0m\u001b[0;34m)\u001b[0m\u001b[0;34m:\u001b[0m\u001b[0;34m\u001b[0m\u001b[0m\n",
      "\u001b[0;32m/usr/local/lib/python2.7/dist-packages/Cython/Build/Dependencies.pyc\u001b[0m in \u001b[0;36mtransitive_merge_helper\u001b[0;34m(self, node, extract, merge, seen, stack, outgoing)\u001b[0m\n\u001b[1;32m    690\u001b[0m             \u001b[0mloop\u001b[0m \u001b[0;34m=\u001b[0m \u001b[0mNone\u001b[0m\u001b[0;34m\u001b[0m\u001b[0m\n\u001b[1;32m    691\u001b[0m             \u001b[0;32mfor\u001b[0m \u001b[0mnext\u001b[0m \u001b[0;32min\u001b[0m \u001b[0moutgoing\u001b[0m\u001b[0;34m(\u001b[0m\u001b[0mnode\u001b[0m\u001b[0;34m)\u001b[0m\u001b[0;34m:\u001b[0m\u001b[0;34m\u001b[0m\u001b[0m\n\u001b[0;32m--> 692\u001b[0;31m                 \u001b[0msub_deps\u001b[0m\u001b[0;34m,\u001b[0m \u001b[0msub_loop\u001b[0m \u001b[0;34m=\u001b[0m \u001b[0mself\u001b[0m\u001b[0;34m.\u001b[0m\u001b[0mtransitive_merge_helper\u001b[0m\u001b[0;34m(\u001b[0m\u001b[0mnext\u001b[0m\u001b[0;34m,\u001b[0m \u001b[0mextract\u001b[0m\u001b[0;34m,\u001b[0m \u001b[0mmerge\u001b[0m\u001b[0;34m,\u001b[0m \u001b[0mseen\u001b[0m\u001b[0;34m,\u001b[0m \u001b[0mstack\u001b[0m\u001b[0;34m,\u001b[0m \u001b[0moutgoing\u001b[0m\u001b[0;34m)\u001b[0m\u001b[0;34m\u001b[0m\u001b[0m\n\u001b[0m\u001b[1;32m    693\u001b[0m                 \u001b[0;32mif\u001b[0m \u001b[0msub_loop\u001b[0m \u001b[0;32mis\u001b[0m \u001b[0;32mnot\u001b[0m \u001b[0mNone\u001b[0m\u001b[0;34m:\u001b[0m\u001b[0;34m\u001b[0m\u001b[0m\n\u001b[1;32m    694\u001b[0m                     \u001b[0;32mif\u001b[0m \u001b[0mloop\u001b[0m \u001b[0;32mis\u001b[0m \u001b[0;32mnot\u001b[0m \u001b[0mNone\u001b[0m \u001b[0;32mand\u001b[0m \u001b[0mstack\u001b[0m\u001b[0;34m[\u001b[0m\u001b[0mloop\u001b[0m\u001b[0;34m]\u001b[0m \u001b[0;34m<\u001b[0m \u001b[0mstack\u001b[0m\u001b[0;34m[\u001b[0m\u001b[0msub_loop\u001b[0m\u001b[0;34m]\u001b[0m\u001b[0;34m:\u001b[0m\u001b[0;34m\u001b[0m\u001b[0m\n",
      "\u001b[0;32m/usr/local/lib/python2.7/dist-packages/Cython/Build/Dependencies.pyc\u001b[0m in \u001b[0;36mtransitive_merge_helper\u001b[0;34m(self, node, extract, merge, seen, stack, outgoing)\u001b[0m\n\u001b[1;32m    683\u001b[0m         \u001b[0;32mif\u001b[0m \u001b[0mnode\u001b[0m \u001b[0;32min\u001b[0m \u001b[0mseen\u001b[0m\u001b[0;34m:\u001b[0m\u001b[0;34m\u001b[0m\u001b[0m\n\u001b[1;32m    684\u001b[0m             \u001b[0;32mreturn\u001b[0m \u001b[0mseen\u001b[0m\u001b[0;34m[\u001b[0m\u001b[0mnode\u001b[0m\u001b[0;34m]\u001b[0m\u001b[0;34m,\u001b[0m \u001b[0mNone\u001b[0m\u001b[0;34m\u001b[0m\u001b[0m\n\u001b[0;32m--> 685\u001b[0;31m         \u001b[0mdeps\u001b[0m \u001b[0;34m=\u001b[0m \u001b[0mextract\u001b[0m\u001b[0;34m(\u001b[0m\u001b[0mnode\u001b[0m\u001b[0;34m)\u001b[0m\u001b[0;34m\u001b[0m\u001b[0m\n\u001b[0m\u001b[1;32m    686\u001b[0m         \u001b[0;32mif\u001b[0m \u001b[0mnode\u001b[0m \u001b[0;32min\u001b[0m \u001b[0mstack\u001b[0m\u001b[0;34m:\u001b[0m\u001b[0;34m\u001b[0m\u001b[0m\n\u001b[1;32m    687\u001b[0m             \u001b[0;32mreturn\u001b[0m \u001b[0mdeps\u001b[0m\u001b[0;34m,\u001b[0m \u001b[0mnode\u001b[0m\u001b[0;34m\u001b[0m\u001b[0m\n",
      "\u001b[0;32m/usr/local/lib/python2.7/dist-packages/Cython/Build/Dependencies.pyc\u001b[0m in \u001b[0;36mdistutils_info0\u001b[0;34m(self, filename)\u001b[0m\n\u001b[1;32m    652\u001b[0m         \u001b[0;31m# Add dependencies on \"cdef extern from ...\" files\u001b[0m\u001b[0;34m\u001b[0m\u001b[0;34m\u001b[0m\u001b[0m\n\u001b[1;32m    653\u001b[0m         \u001b[0;32mif\u001b[0m \u001b[0mexterns\u001b[0m\u001b[0;34m:\u001b[0m\u001b[0;34m\u001b[0m\u001b[0m\n\u001b[0;32m--> 654\u001b[0;31m             \u001b[0mexterns\u001b[0m \u001b[0;34m=\u001b[0m \u001b[0m_make_relative\u001b[0m\u001b[0;34m(\u001b[0m\u001b[0mexterns\u001b[0m\u001b[0;34m,\u001b[0m \u001b[0mbasedir\u001b[0m\u001b[0;34m)\u001b[0m\u001b[0;34m\u001b[0m\u001b[0m\n\u001b[0m\u001b[1;32m    655\u001b[0m             \u001b[0;32mif\u001b[0m \u001b[0;34m'depends'\u001b[0m \u001b[0;32min\u001b[0m \u001b[0mkwds\u001b[0m\u001b[0;34m:\u001b[0m\u001b[0;34m\u001b[0m\u001b[0m\n\u001b[1;32m    656\u001b[0m                 \u001b[0mkwds\u001b[0m\u001b[0;34m[\u001b[0m\u001b[0;34m'depends'\u001b[0m\u001b[0;34m]\u001b[0m \u001b[0;34m=\u001b[0m \u001b[0mlist\u001b[0m\u001b[0;34m(\u001b[0m\u001b[0mset\u001b[0m\u001b[0;34m(\u001b[0m\u001b[0mkwds\u001b[0m\u001b[0;34m[\u001b[0m\u001b[0;34m'depends'\u001b[0m\u001b[0;34m]\u001b[0m\u001b[0;34m)\u001b[0m\u001b[0;34m.\u001b[0m\u001b[0munion\u001b[0m\u001b[0;34m(\u001b[0m\u001b[0mexterns\u001b[0m\u001b[0;34m)\u001b[0m\u001b[0;34m)\u001b[0m\u001b[0;34m\u001b[0m\u001b[0m\n",
      "\u001b[0;32m/usr/local/lib/python2.7/dist-packages/Cython/Build/Dependencies.pyc\u001b[0m in \u001b[0;36m_make_relative\u001b[0;34m(file_paths, base)\u001b[0m\n\u001b[1;32m     84\u001b[0m         \u001b[0mbase\u001b[0m \u001b[0;34m+=\u001b[0m \u001b[0mos\u001b[0m\u001b[0;34m.\u001b[0m\u001b[0mpath\u001b[0m\u001b[0;34m.\u001b[0m\u001b[0msep\u001b[0m\u001b[0;34m\u001b[0m\u001b[0m\n\u001b[1;32m     85\u001b[0m     return [_relpath(path, base) if path.startswith(base) else path\n\u001b[0;32m---> 86\u001b[0;31m             for path in file_paths]\n\u001b[0m\u001b[1;32m     87\u001b[0m \u001b[0;34m\u001b[0m\u001b[0m\n\u001b[1;32m     88\u001b[0m \u001b[0;34m\u001b[0m\u001b[0m\n",
      "\u001b[0;31mUnicodeDecodeError\u001b[0m: 'ascii' codec can't decode byte 0xd1 in position 49: ordinal not in range(128)"
     ]
    }
   ],
   "source": [
    "%%cython\n",
    "cimport numpy as np\n",
    "\n",
    "def m_mult(X, Y, cd = 'nostd'):\n",
    "    if cs == 'std':\n",
    "        return X.dot(Y)\n",
    "    else:\n",
    "        Z = np.empty((X.shape[0], Y.shape[1]))\n",
    "        for x in range(0, X.shape[0]):\n",
    "            for y in range (0, Y.shape[1]):\n",
    "                for z in range (X.shape[1]):\n",
    "                    Z[x][y] += X[x][z] * Y[z][y]\n",
    "        return Z"
   ]
  },
  {
   "cell_type": "code",
   "execution_count": 58,
   "metadata": {},
   "outputs": [],
   "source": [
    "X = np.random.rand(10000, 10000)\n",
    "Y = np.random.rand(10000, 10000)"
   ]
  },
  {
   "cell_type": "code",
   "execution_count": 59,
   "metadata": {},
   "outputs": [
    {
     "name": "stdout",
     "output_type": "stream",
     "text": [
      "The slowest run took 841.80 times longer than the fastest. This could mean that an intermediate result is being cached.\n",
      "1 loop, best of 3: 1min 18s per loop\n"
     ]
    }
   ],
   "source": [
    "%%timeit\n",
    "Z = m_mult(X, Y, 'std')"
   ]
  },
  {
   "cell_type": "code",
   "execution_count": 34,
   "metadata": {},
   "outputs": [
    {
     "name": "stdout",
     "output_type": "stream",
     "text": [
      "1 loop, best of 3: 1.33 s per loop\n"
     ]
    }
   ],
   "source": [
    "%%timeit\n",
    "Z_nostd = m_mult(X, Y)"
   ]
  },
  {
   "cell_type": "code",
   "execution_count": null,
   "metadata": {},
   "outputs": [],
   "source": []
  },
  {
   "cell_type": "code",
   "execution_count": null,
   "metadata": {},
   "outputs": [],
   "source": []
  }
 ],
 "metadata": {
  "anaconda-cloud": {},
  "kernelspec": {
   "display_name": "Python 2",
   "language": "python",
   "name": "python2"
  },
  "language_info": {
   "codemirror_mode": {
    "name": "ipython",
    "version": 2
   },
   "file_extension": ".py",
   "mimetype": "text/x-python",
   "name": "python",
   "nbconvert_exporter": "python",
   "pygments_lexer": "ipython2",
   "version": "2.7.14"
  }
 },
 "nbformat": 4,
 "nbformat_minor": 1
}
